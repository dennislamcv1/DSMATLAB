{
 "cells": [
  {
   "cell_type": "markdown",
   "metadata": {},
   "source": [
    "## Table of Contents"
   ]
  },
  {
   "cell_type": "markdown",
   "metadata": {},
   "source": [
    "1. Objectives\n",
    "2. Data\n",
    "3. Modeling\n",
    "4. Conclusions\n",
    "5. Appendix"
   ]
  },
  {
   "cell_type": "markdown",
   "metadata": {},
   "source": [
    "## 1. Objectives"
   ]
  },
  {
   "cell_type": "markdown",
   "metadata": {},
   "source": [
    "The report describes dataset, preparation and modeling done to predict taxi demands for Manhattan and the airports."
   ]
  },
  {
   "cell_type": "markdown",
   "metadata": {},
   "source": [
    "## 2. Data"
   ]
  },
  {
   "cell_type": "markdown",
   "metadata": {},
   "source": [
    "The dataset used in yellow taxi trip dataset for January 2015. Due to huge size that cannot be processed by current computational power, I opt for smaller dataset as a sample to represent the whole 2015 dataset."
   ]
  },
  {
   "cell_type": "markdown",
   "metadata": {},
   "source": [
    "The data is checked for missing values and duplicates. I had taken out 6 regions from the Jan 2015 dataset that concentrate these areas which the client requested. "
   ]
  },
  {
   "cell_type": "markdown",
   "metadata": {},
   "source": [
    "I have analysed by grouping into dates according to each zone to explore duration, fare amount and passenger counts."
   ]
  },
  {
   "cell_type": "markdown",
   "metadata": {},
   "source": [
    "I have dropped unwanted features that are useless, created new features like duration, is Holiday, Day of Pickup and Demand as target. "
   ]
  },
  {
   "cell_type": "markdown",
   "metadata": {},
   "source": [
    "Statistical tests ANOVA and Chi-Square tests are performed to find out the p-values."
   ]
  },
  {
   "cell_type": "markdown",
   "metadata": {},
   "source": [
    "As for correlation, total amount is highly correlates with fare amount and tip amount."
   ]
  },
  {
   "cell_type": "markdown",
   "metadata": {},
   "source": [
    "Test train split is performed with 80% training and 20% testing."
   ]
  },
  {
   "cell_type": "markdown",
   "metadata": {},
   "source": [
    "## Modeling"
   ]
  },
  {
   "cell_type": "markdown",
   "metadata": {},
   "source": [
    "The model will be multi-classification model since there are demand results are Low, Medium and High.\n",
    "\n",
    "Two scenarios created:\n",
    "\n",
    "1. Baseline Model\n",
    "\n",
    "2. Tweaked Model to reduce false negatives in Low Demand"
   ]
  },
  {
   "cell_type": "markdown",
   "metadata": {},
   "source": [
    "I used Logistic Regression and XGBoost for creating models in this project. Hyperparameter tuning is done for XGBoost.\n",
    "There is no balancing of target feature done for demand. Crossvalidation is also done to ensure accuracy as a whole."
   ]
  },
  {
   "cell_type": "markdown",
   "metadata": {},
   "source": [
    "Metrics used are accuracy, recall, precision and F1-score."
   ]
  },
  {
   "cell_type": "markdown",
   "metadata": {},
   "source": [
    "## Conclusion"
   ]
  },
  {
   "cell_type": "markdown",
   "metadata": {},
   "source": [
    "Both models gave perfect score for classifying taxi demand, hence logistic regression model is recommended for simplicity."
   ]
  },
  {
   "cell_type": "markdown",
   "metadata": {},
   "source": [
    "## Appendix: Code Section"
   ]
  },
  {
   "cell_type": "markdown",
   "metadata": {},
   "source": [
    "### Modeling Tasks"
   ]
  },
  {
   "cell_type": "markdown",
   "metadata": {},
   "source": [
    "Good work so far preparing the data to classify taxi demand and evaluating predictors. Now you can get started with the modeling! There are a couple scenarios to address below. As usual for classification modeling, you’ll need to report at least the following for each of your best/final models: \n",
    "\n",
    "- Accuracy\n",
    "- Confusion matrix\n",
    "- cMetrics output (or equivalent)"
   ]
  },
  {
   "cell_type": "markdown",
   "metadata": {},
   "source": [
    "Scenario 1: \n",
    "\n",
    "Start off with a baseline model that emphasizes overall accuracy. Use your test data set to verify your modeling results. This model will be useful for analysis and comparison later. It may be also a good way to investigate model types and hyperparameters, class imbalance, and which features are most useful. "
   ]
  },
  {
   "cell_type": "markdown",
   "metadata": {},
   "source": [
    "Scenario 2 Main Points: \n",
    "\n",
    "- Emphasize reducing false negatives for Low demand, especially Low demand classified as High demand.\n",
    "- Also, try to reduce false positives for Low, especially missed High.\n",
    "- Some increase in false positives for Low demand is an acceptable trade-off to reduce false negatives for Low demand.\n",
    "- Medium/High demand misclassification is not a priority to reduce.\n",
    "- Use reasonable modifications to the cost matrix to achieve your goals. You’ll need to include a discussion of your customizations in your report. \n",
    "- Use your test data set to verify your modeling results. "
   ]
  },
  {
   "cell_type": "markdown",
   "metadata": {},
   "source": [
    "### Import Libraries"
   ]
  },
  {
   "cell_type": "code",
   "execution_count": 1,
   "metadata": {},
   "outputs": [],
   "source": [
    "import numpy as np\n",
    "import pandas as pd\n",
    "import matplotlib.pyplot as plt\n",
    "import seaborn as sns\n",
    "import sklearn\n",
    "import shap\n",
    "\n",
    "import xgboost as xgb\n",
    "from xgboost import XGBClassifier, XGBRegressor\n",
    "from xgboost import to_graphviz, plot_importance\n",
    "\n",
    "from sklearn.linear_model import ElasticNet, Lasso, LinearRegression, LogisticRegression, Ridge\n",
    "from sklearn.tree import DecisionTreeClassifier, DecisionTreeRegressor, ExtraTreeClassifier, ExtraTreeRegressor, plot_tree\n",
    "from sklearn.ensemble import RandomForestClassifier, RandomForestRegressor, GradientBoostingClassifier, GradientBoostingRegressor\n",
    "from sklearn.svm import SVC, SVR, LinearSVC, LinearSVR\n",
    "\n",
    "%matplotlib inline\n",
    "sns.set_style('dark')\n",
    "sns.set(font_scale=1.2)\n",
    "\n",
    "from sklearn.pipeline import Pipeline\n",
    "from sklearn.model_selection import RepeatedStratifiedKFold\n",
    "from sklearn.feature_selection import RFE, RFECV, SelectKBest, f_classif, f_regression, chi2\n",
    "\n",
    "from sklearn.inspection import permutation_importance\n",
    "from sklearn.model_selection import cross_val_score, train_test_split, GridSearchCV, RandomizedSearchCV\n",
    "from sklearn.preprocessing import LabelEncoder, StandardScaler, MinMaxScaler, OneHotEncoder\n",
    "from sklearn.pipeline import Pipeline\n",
    "from sklearn.metrics import confusion_matrix, classification_report, mean_absolute_error, mean_squared_error,r2_score\n",
    "from sklearn.metrics import plot_confusion_matrix, plot_precision_recall_curve, plot_roc_curve, accuracy_score\n",
    "from sklearn.metrics import auc, f1_score, precision_score, recall_score, roc_auc_score\n",
    "\n",
    "\n",
    "from imblearn.under_sampling import RandomUnderSampler\n",
    "from imblearn.over_sampling import RandomOverSampler\n",
    "from imblearn.over_sampling import SMOTE\n",
    "\n",
    "import warnings\n",
    "warnings.filterwarnings('ignore')\n",
    "\n",
    "import pickle\n",
    "from pickle import dump, load\n",
    "\n",
    "np.random.seed(0)\n",
    "\n",
    "from pycaret.classification import *\n",
    "\n",
    "pd.set_option('display.max_columns',100)\n",
    "#pd.set_option('display.max_rows',100)\n",
    "pd.set_option('display.width', 1000)\n",
    "np.set_printoptions(suppress=True)"
   ]
  },
  {
   "cell_type": "markdown",
   "metadata": {},
   "source": [
    "### Data Exploration and Analysis"
   ]
  },
  {
   "cell_type": "code",
   "execution_count": 2,
   "metadata": {},
   "outputs": [],
   "source": [
    "df = pd.read_csv(\"finaltrain2.csv\")"
   ]
  },
  {
   "cell_type": "code",
   "execution_count": 3,
   "metadata": {},
   "outputs": [
    {
     "data": {
      "text/html": [
       "<div>\n",
       "<style scoped>\n",
       "    .dataframe tbody tr th:only-of-type {\n",
       "        vertical-align: middle;\n",
       "    }\n",
       "\n",
       "    .dataframe tbody tr th {\n",
       "        vertical-align: top;\n",
       "    }\n",
       "\n",
       "    .dataframe thead th {\n",
       "        text-align: right;\n",
       "    }\n",
       "</style>\n",
       "<table border=\"1\" class=\"dataframe\">\n",
       "  <thead>\n",
       "    <tr style=\"text-align: right;\">\n",
       "      <th></th>\n",
       "      <th>passenger_count</th>\n",
       "      <th>trip_distance</th>\n",
       "      <th>pickup_location</th>\n",
       "      <th>fare_amount</th>\n",
       "      <th>extra</th>\n",
       "      <th>tip_amount</th>\n",
       "      <th>total_amount</th>\n",
       "      <th>duration</th>\n",
       "      <th>pickupday</th>\n",
       "      <th>demand</th>\n",
       "      <th>isholiday</th>\n",
       "      <th>label</th>\n",
       "    </tr>\n",
       "  </thead>\n",
       "  <tbody>\n",
       "    <tr>\n",
       "      <th>0</th>\n",
       "      <td>2</td>\n",
       "      <td>12.74</td>\n",
       "      <td>JFK Airport</td>\n",
       "      <td>47.5</td>\n",
       "      <td>0.5</td>\n",
       "      <td>9.60</td>\n",
       "      <td>58.40</td>\n",
       "      <td>24.0</td>\n",
       "      <td>29</td>\n",
       "      <td>low</td>\n",
       "      <td>0</td>\n",
       "      <td>1</td>\n",
       "    </tr>\n",
       "    <tr>\n",
       "      <th>1</th>\n",
       "      <td>1</td>\n",
       "      <td>17.50</td>\n",
       "      <td>JFK Airport</td>\n",
       "      <td>52.0</td>\n",
       "      <td>0.0</td>\n",
       "      <td>7.00</td>\n",
       "      <td>65.13</td>\n",
       "      <td>32.0</td>\n",
       "      <td>1</td>\n",
       "      <td>low</td>\n",
       "      <td>1</td>\n",
       "      <td>1</td>\n",
       "    </tr>\n",
       "    <tr>\n",
       "      <th>2</th>\n",
       "      <td>2</td>\n",
       "      <td>18.50</td>\n",
       "      <td>JFK Airport</td>\n",
       "      <td>51.0</td>\n",
       "      <td>0.5</td>\n",
       "      <td>0.00</td>\n",
       "      <td>57.63</td>\n",
       "      <td>30.0</td>\n",
       "      <td>18</td>\n",
       "      <td>low</td>\n",
       "      <td>0</td>\n",
       "      <td>1</td>\n",
       "    </tr>\n",
       "    <tr>\n",
       "      <th>3</th>\n",
       "      <td>1</td>\n",
       "      <td>14.80</td>\n",
       "      <td>JFK Airport</td>\n",
       "      <td>41.0</td>\n",
       "      <td>0.0</td>\n",
       "      <td>0.00</td>\n",
       "      <td>41.80</td>\n",
       "      <td>29.0</td>\n",
       "      <td>13</td>\n",
       "      <td>low</td>\n",
       "      <td>0</td>\n",
       "      <td>1</td>\n",
       "    </tr>\n",
       "    <tr>\n",
       "      <th>4</th>\n",
       "      <td>1</td>\n",
       "      <td>14.30</td>\n",
       "      <td>JFK Airport</td>\n",
       "      <td>39.5</td>\n",
       "      <td>0.5</td>\n",
       "      <td>0.00</td>\n",
       "      <td>40.80</td>\n",
       "      <td>22.0</td>\n",
       "      <td>29</td>\n",
       "      <td>low</td>\n",
       "      <td>0</td>\n",
       "      <td>1</td>\n",
       "    </tr>\n",
       "    <tr>\n",
       "      <th>...</th>\n",
       "      <td>...</td>\n",
       "      <td>...</td>\n",
       "      <td>...</td>\n",
       "      <td>...</td>\n",
       "      <td>...</td>\n",
       "      <td>...</td>\n",
       "      <td>...</td>\n",
       "      <td>...</td>\n",
       "      <td>...</td>\n",
       "      <td>...</td>\n",
       "      <td>...</td>\n",
       "      <td>...</td>\n",
       "    </tr>\n",
       "    <tr>\n",
       "      <th>68563</th>\n",
       "      <td>1</td>\n",
       "      <td>1.69</td>\n",
       "      <td>Upper East Side</td>\n",
       "      <td>8.0</td>\n",
       "      <td>0.0</td>\n",
       "      <td>0.00</td>\n",
       "      <td>8.80</td>\n",
       "      <td>8.0</td>\n",
       "      <td>10</td>\n",
       "      <td>low</td>\n",
       "      <td>0</td>\n",
       "      <td>1</td>\n",
       "    </tr>\n",
       "    <tr>\n",
       "      <th>68564</th>\n",
       "      <td>1</td>\n",
       "      <td>1.80</td>\n",
       "      <td>Upper East Side</td>\n",
       "      <td>12.5</td>\n",
       "      <td>0.0</td>\n",
       "      <td>2.00</td>\n",
       "      <td>15.30</td>\n",
       "      <td>18.0</td>\n",
       "      <td>3</td>\n",
       "      <td>low</td>\n",
       "      <td>0</td>\n",
       "      <td>1</td>\n",
       "    </tr>\n",
       "    <tr>\n",
       "      <th>68565</th>\n",
       "      <td>5</td>\n",
       "      <td>1.54</td>\n",
       "      <td>Upper East Side</td>\n",
       "      <td>7.5</td>\n",
       "      <td>1.0</td>\n",
       "      <td>1.70</td>\n",
       "      <td>11.00</td>\n",
       "      <td>7.0</td>\n",
       "      <td>15</td>\n",
       "      <td>high</td>\n",
       "      <td>0</td>\n",
       "      <td>0</td>\n",
       "    </tr>\n",
       "    <tr>\n",
       "      <th>68566</th>\n",
       "      <td>1</td>\n",
       "      <td>0.78</td>\n",
       "      <td>Upper East Side</td>\n",
       "      <td>5.5</td>\n",
       "      <td>1.0</td>\n",
       "      <td>1.25</td>\n",
       "      <td>8.55</td>\n",
       "      <td>5.0</td>\n",
       "      <td>15</td>\n",
       "      <td>low</td>\n",
       "      <td>0</td>\n",
       "      <td>1</td>\n",
       "    </tr>\n",
       "    <tr>\n",
       "      <th>68567</th>\n",
       "      <td>1</td>\n",
       "      <td>1.01</td>\n",
       "      <td>Upper East Side</td>\n",
       "      <td>7.0</td>\n",
       "      <td>1.0</td>\n",
       "      <td>1.60</td>\n",
       "      <td>10.40</td>\n",
       "      <td>8.0</td>\n",
       "      <td>15</td>\n",
       "      <td>low</td>\n",
       "      <td>0</td>\n",
       "      <td>1</td>\n",
       "    </tr>\n",
       "  </tbody>\n",
       "</table>\n",
       "<p>68568 rows × 12 columns</p>\n",
       "</div>"
      ],
      "text/plain": [
       "       passenger_count  trip_distance  pickup_location  fare_amount  extra  tip_amount  total_amount  duration  pickupday demand  isholiday  label\n",
       "0                    2          12.74      JFK Airport         47.5    0.5        9.60         58.40      24.0         29    low          0      1\n",
       "1                    1          17.50      JFK Airport         52.0    0.0        7.00         65.13      32.0          1    low          1      1\n",
       "2                    2          18.50      JFK Airport         51.0    0.5        0.00         57.63      30.0         18    low          0      1\n",
       "3                    1          14.80      JFK Airport         41.0    0.0        0.00         41.80      29.0         13    low          0      1\n",
       "4                    1          14.30      JFK Airport         39.5    0.5        0.00         40.80      22.0         29    low          0      1\n",
       "...                ...            ...              ...          ...    ...         ...           ...       ...        ...    ...        ...    ...\n",
       "68563                1           1.69  Upper East Side          8.0    0.0        0.00          8.80       8.0         10    low          0      1\n",
       "68564                1           1.80  Upper East Side         12.5    0.0        2.00         15.30      18.0          3    low          0      1\n",
       "68565                5           1.54  Upper East Side          7.5    1.0        1.70         11.00       7.0         15   high          0      0\n",
       "68566                1           0.78  Upper East Side          5.5    1.0        1.25          8.55       5.0         15    low          0      1\n",
       "68567                1           1.01  Upper East Side          7.0    1.0        1.60         10.40       8.0         15    low          0      1\n",
       "\n",
       "[68568 rows x 12 columns]"
      ]
     },
     "execution_count": 3,
     "metadata": {},
     "output_type": "execute_result"
    }
   ],
   "source": [
    "df"
   ]
  },
  {
   "cell_type": "code",
   "execution_count": 4,
   "metadata": {},
   "outputs": [
    {
     "name": "stdout",
     "output_type": "stream",
     "text": [
      "<class 'pandas.core.frame.DataFrame'>\n",
      "RangeIndex: 68568 entries, 0 to 68567\n",
      "Data columns (total 12 columns):\n",
      " #   Column           Non-Null Count  Dtype  \n",
      "---  ------           --------------  -----  \n",
      " 0   passenger_count  68568 non-null  int64  \n",
      " 1   trip_distance    68568 non-null  float64\n",
      " 2   pickup_location  68568 non-null  object \n",
      " 3   fare_amount      68568 non-null  float64\n",
      " 4   extra            68568 non-null  float64\n",
      " 5   tip_amount       68568 non-null  float64\n",
      " 6   total_amount     68568 non-null  float64\n",
      " 7   duration         68568 non-null  float64\n",
      " 8   pickupday        68568 non-null  int64  \n",
      " 9   demand           68568 non-null  object \n",
      " 10  isholiday        68568 non-null  int64  \n",
      " 11  label            68568 non-null  int64  \n",
      "dtypes: float64(6), int64(4), object(2)\n",
      "memory usage: 6.3+ MB\n"
     ]
    }
   ],
   "source": [
    "df.info()"
   ]
  },
  {
   "cell_type": "code",
   "execution_count": 5,
   "metadata": {},
   "outputs": [
    {
     "data": {
      "text/html": [
       "<div>\n",
       "<style scoped>\n",
       "    .dataframe tbody tr th:only-of-type {\n",
       "        vertical-align: middle;\n",
       "    }\n",
       "\n",
       "    .dataframe tbody tr th {\n",
       "        vertical-align: top;\n",
       "    }\n",
       "\n",
       "    .dataframe thead th {\n",
       "        text-align: right;\n",
       "    }\n",
       "</style>\n",
       "<table border=\"1\" class=\"dataframe\">\n",
       "  <thead>\n",
       "    <tr style=\"text-align: right;\">\n",
       "      <th></th>\n",
       "      <th>passenger_count</th>\n",
       "      <th>trip_distance</th>\n",
       "      <th>pickup_location</th>\n",
       "      <th>fare_amount</th>\n",
       "      <th>extra</th>\n",
       "      <th>tip_amount</th>\n",
       "      <th>total_amount</th>\n",
       "      <th>duration</th>\n",
       "      <th>pickupday</th>\n",
       "      <th>demand</th>\n",
       "      <th>isholiday</th>\n",
       "      <th>label</th>\n",
       "    </tr>\n",
       "  </thead>\n",
       "  <tbody>\n",
       "    <tr>\n",
       "      <th>count</th>\n",
       "      <td>68568.000000</td>\n",
       "      <td>6.856800e+04</td>\n",
       "      <td>68568</td>\n",
       "      <td>68568.000000</td>\n",
       "      <td>68568.000000</td>\n",
       "      <td>68568.000000</td>\n",
       "      <td>68568.000000</td>\n",
       "      <td>68568.000000</td>\n",
       "      <td>68568.000000</td>\n",
       "      <td>68568</td>\n",
       "      <td>68568.000000</td>\n",
       "      <td>68568.000000</td>\n",
       "    </tr>\n",
       "    <tr>\n",
       "      <th>unique</th>\n",
       "      <td>NaN</td>\n",
       "      <td>NaN</td>\n",
       "      <td>5</td>\n",
       "      <td>NaN</td>\n",
       "      <td>NaN</td>\n",
       "      <td>NaN</td>\n",
       "      <td>NaN</td>\n",
       "      <td>NaN</td>\n",
       "      <td>NaN</td>\n",
       "      <td>3</td>\n",
       "      <td>NaN</td>\n",
       "      <td>NaN</td>\n",
       "    </tr>\n",
       "    <tr>\n",
       "      <th>top</th>\n",
       "      <td>NaN</td>\n",
       "      <td>NaN</td>\n",
       "      <td>Midtown</td>\n",
       "      <td>NaN</td>\n",
       "      <td>NaN</td>\n",
       "      <td>NaN</td>\n",
       "      <td>NaN</td>\n",
       "      <td>NaN</td>\n",
       "      <td>NaN</td>\n",
       "      <td>low</td>\n",
       "      <td>NaN</td>\n",
       "      <td>NaN</td>\n",
       "    </tr>\n",
       "    <tr>\n",
       "      <th>freq</th>\n",
       "      <td>NaN</td>\n",
       "      <td>NaN</td>\n",
       "      <td>39799</td>\n",
       "      <td>NaN</td>\n",
       "      <td>NaN</td>\n",
       "      <td>NaN</td>\n",
       "      <td>NaN</td>\n",
       "      <td>NaN</td>\n",
       "      <td>NaN</td>\n",
       "      <td>58036</td>\n",
       "      <td>NaN</td>\n",
       "      <td>NaN</td>\n",
       "    </tr>\n",
       "    <tr>\n",
       "      <th>mean</th>\n",
       "      <td>1.690424</td>\n",
       "      <td>5.194054e+01</td>\n",
       "      <td>NaN</td>\n",
       "      <td>13.839213</td>\n",
       "      <td>0.285746</td>\n",
       "      <td>1.760108</td>\n",
       "      <td>17.174227</td>\n",
       "      <td>14.549921</td>\n",
       "      <td>15.838000</td>\n",
       "      <td>NaN</td>\n",
       "      <td>0.058147</td>\n",
       "      <td>0.969578</td>\n",
       "    </tr>\n",
       "    <tr>\n",
       "      <th>std</th>\n",
       "      <td>1.346843</td>\n",
       "      <td>1.267113e+04</td>\n",
       "      <td>NaN</td>\n",
       "      <td>13.059612</td>\n",
       "      <td>0.365959</td>\n",
       "      <td>2.775889</td>\n",
       "      <td>16.001486</td>\n",
       "      <td>36.983077</td>\n",
       "      <td>8.716985</td>\n",
       "      <td>NaN</td>\n",
       "      <td>0.234022</td>\n",
       "      <td>0.390738</td>\n",
       "    </tr>\n",
       "    <tr>\n",
       "      <th>min</th>\n",
       "      <td>0.000000</td>\n",
       "      <td>0.000000e+00</td>\n",
       "      <td>NaN</td>\n",
       "      <td>-52.000000</td>\n",
       "      <td>-1.000000</td>\n",
       "      <td>0.000000</td>\n",
       "      <td>-52.800000</td>\n",
       "      <td>0.000000</td>\n",
       "      <td>1.000000</td>\n",
       "      <td>NaN</td>\n",
       "      <td>0.000000</td>\n",
       "      <td>0.000000</td>\n",
       "    </tr>\n",
       "    <tr>\n",
       "      <th>25%</th>\n",
       "      <td>1.000000</td>\n",
       "      <td>1.000000e+00</td>\n",
       "      <td>NaN</td>\n",
       "      <td>6.500000</td>\n",
       "      <td>0.000000</td>\n",
       "      <td>0.000000</td>\n",
       "      <td>8.160000</td>\n",
       "      <td>6.000000</td>\n",
       "      <td>8.000000</td>\n",
       "      <td>NaN</td>\n",
       "      <td>0.000000</td>\n",
       "      <td>1.000000</td>\n",
       "    </tr>\n",
       "    <tr>\n",
       "      <th>50%</th>\n",
       "      <td>1.000000</td>\n",
       "      <td>1.700000e+00</td>\n",
       "      <td>NaN</td>\n",
       "      <td>9.000000</td>\n",
       "      <td>0.000000</td>\n",
       "      <td>1.000000</td>\n",
       "      <td>11.300000</td>\n",
       "      <td>10.000000</td>\n",
       "      <td>15.000000</td>\n",
       "      <td>NaN</td>\n",
       "      <td>0.000000</td>\n",
       "      <td>1.000000</td>\n",
       "    </tr>\n",
       "    <tr>\n",
       "      <th>75%</th>\n",
       "      <td>2.000000</td>\n",
       "      <td>3.400000e+00</td>\n",
       "      <td>NaN</td>\n",
       "      <td>14.500000</td>\n",
       "      <td>0.500000</td>\n",
       "      <td>2.160000</td>\n",
       "      <td>17.800000</td>\n",
       "      <td>17.000000</td>\n",
       "      <td>23.000000</td>\n",
       "      <td>NaN</td>\n",
       "      <td>0.000000</td>\n",
       "      <td>1.000000</td>\n",
       "    </tr>\n",
       "    <tr>\n",
       "      <th>max</th>\n",
       "      <td>6.000000</td>\n",
       "      <td>3.318000e+06</td>\n",
       "      <td>NaN</td>\n",
       "      <td>570.080000</td>\n",
       "      <td>1.000000</td>\n",
       "      <td>94.510000</td>\n",
       "      <td>590.380000</td>\n",
       "      <td>1440.000000</td>\n",
       "      <td>31.000000</td>\n",
       "      <td>NaN</td>\n",
       "      <td>1.000000</td>\n",
       "      <td>2.000000</td>\n",
       "    </tr>\n",
       "  </tbody>\n",
       "</table>\n",
       "</div>"
      ],
      "text/plain": [
       "        passenger_count  trip_distance pickup_location   fare_amount         extra    tip_amount  total_amount      duration     pickupday demand     isholiday         label\n",
       "count      68568.000000   6.856800e+04           68568  68568.000000  68568.000000  68568.000000  68568.000000  68568.000000  68568.000000  68568  68568.000000  68568.000000\n",
       "unique              NaN            NaN               5           NaN           NaN           NaN           NaN           NaN           NaN      3           NaN           NaN\n",
       "top                 NaN            NaN         Midtown           NaN           NaN           NaN           NaN           NaN           NaN    low           NaN           NaN\n",
       "freq                NaN            NaN           39799           NaN           NaN           NaN           NaN           NaN           NaN  58036           NaN           NaN\n",
       "mean           1.690424   5.194054e+01             NaN     13.839213      0.285746      1.760108     17.174227     14.549921     15.838000    NaN      0.058147      0.969578\n",
       "std            1.346843   1.267113e+04             NaN     13.059612      0.365959      2.775889     16.001486     36.983077      8.716985    NaN      0.234022      0.390738\n",
       "min            0.000000   0.000000e+00             NaN    -52.000000     -1.000000      0.000000    -52.800000      0.000000      1.000000    NaN      0.000000      0.000000\n",
       "25%            1.000000   1.000000e+00             NaN      6.500000      0.000000      0.000000      8.160000      6.000000      8.000000    NaN      0.000000      1.000000\n",
       "50%            1.000000   1.700000e+00             NaN      9.000000      0.000000      1.000000     11.300000     10.000000     15.000000    NaN      0.000000      1.000000\n",
       "75%            2.000000   3.400000e+00             NaN     14.500000      0.500000      2.160000     17.800000     17.000000     23.000000    NaN      0.000000      1.000000\n",
       "max            6.000000   3.318000e+06             NaN    570.080000      1.000000     94.510000    590.380000   1440.000000     31.000000    NaN      1.000000      2.000000"
      ]
     },
     "execution_count": 5,
     "metadata": {},
     "output_type": "execute_result"
    }
   ],
   "source": [
    "df.describe(include='all')"
   ]
  },
  {
   "cell_type": "code",
   "execution_count": 6,
   "metadata": {},
   "outputs": [
    {
     "data": {
      "text/plain": [
       "(68568, 12)"
      ]
     },
     "execution_count": 6,
     "metadata": {},
     "output_type": "execute_result"
    }
   ],
   "source": [
    "df.shape"
   ]
  },
  {
   "cell_type": "code",
   "execution_count": 7,
   "metadata": {},
   "outputs": [
    {
     "data": {
      "text/plain": [
       "Index(['passenger_count', 'trip_distance', 'pickup_location', 'fare_amount', 'extra', 'tip_amount', 'total_amount', 'duration', 'pickupday', 'demand', 'isholiday', 'label'], dtype='object')"
      ]
     },
     "execution_count": 7,
     "metadata": {},
     "output_type": "execute_result"
    }
   ],
   "source": [
    "df.columns"
   ]
  },
  {
   "cell_type": "code",
   "execution_count": 8,
   "metadata": {},
   "outputs": [],
   "source": [
    "dfpickup = pd.get_dummies(data=df.pickup_location, drop_first=True)"
   ]
  },
  {
   "cell_type": "code",
   "execution_count": 9,
   "metadata": {},
   "outputs": [
    {
     "data": {
      "text/html": [
       "<div>\n",
       "<style scoped>\n",
       "    .dataframe tbody tr th:only-of-type {\n",
       "        vertical-align: middle;\n",
       "    }\n",
       "\n",
       "    .dataframe tbody tr th {\n",
       "        vertical-align: top;\n",
       "    }\n",
       "\n",
       "    .dataframe thead th {\n",
       "        text-align: right;\n",
       "    }\n",
       "</style>\n",
       "<table border=\"1\" class=\"dataframe\">\n",
       "  <thead>\n",
       "    <tr style=\"text-align: right;\">\n",
       "      <th></th>\n",
       "      <th>LaGuardia Airport</th>\n",
       "      <th>Lower Manhattan</th>\n",
       "      <th>Midtown</th>\n",
       "      <th>Upper East Side</th>\n",
       "    </tr>\n",
       "  </thead>\n",
       "  <tbody>\n",
       "    <tr>\n",
       "      <th>0</th>\n",
       "      <td>0</td>\n",
       "      <td>0</td>\n",
       "      <td>0</td>\n",
       "      <td>0</td>\n",
       "    </tr>\n",
       "    <tr>\n",
       "      <th>1</th>\n",
       "      <td>0</td>\n",
       "      <td>0</td>\n",
       "      <td>0</td>\n",
       "      <td>0</td>\n",
       "    </tr>\n",
       "    <tr>\n",
       "      <th>2</th>\n",
       "      <td>0</td>\n",
       "      <td>0</td>\n",
       "      <td>0</td>\n",
       "      <td>0</td>\n",
       "    </tr>\n",
       "    <tr>\n",
       "      <th>3</th>\n",
       "      <td>0</td>\n",
       "      <td>0</td>\n",
       "      <td>0</td>\n",
       "      <td>0</td>\n",
       "    </tr>\n",
       "    <tr>\n",
       "      <th>4</th>\n",
       "      <td>0</td>\n",
       "      <td>0</td>\n",
       "      <td>0</td>\n",
       "      <td>0</td>\n",
       "    </tr>\n",
       "    <tr>\n",
       "      <th>...</th>\n",
       "      <td>...</td>\n",
       "      <td>...</td>\n",
       "      <td>...</td>\n",
       "      <td>...</td>\n",
       "    </tr>\n",
       "    <tr>\n",
       "      <th>68563</th>\n",
       "      <td>0</td>\n",
       "      <td>0</td>\n",
       "      <td>0</td>\n",
       "      <td>1</td>\n",
       "    </tr>\n",
       "    <tr>\n",
       "      <th>68564</th>\n",
       "      <td>0</td>\n",
       "      <td>0</td>\n",
       "      <td>0</td>\n",
       "      <td>1</td>\n",
       "    </tr>\n",
       "    <tr>\n",
       "      <th>68565</th>\n",
       "      <td>0</td>\n",
       "      <td>0</td>\n",
       "      <td>0</td>\n",
       "      <td>1</td>\n",
       "    </tr>\n",
       "    <tr>\n",
       "      <th>68566</th>\n",
       "      <td>0</td>\n",
       "      <td>0</td>\n",
       "      <td>0</td>\n",
       "      <td>1</td>\n",
       "    </tr>\n",
       "    <tr>\n",
       "      <th>68567</th>\n",
       "      <td>0</td>\n",
       "      <td>0</td>\n",
       "      <td>0</td>\n",
       "      <td>1</td>\n",
       "    </tr>\n",
       "  </tbody>\n",
       "</table>\n",
       "<p>68568 rows × 4 columns</p>\n",
       "</div>"
      ],
      "text/plain": [
       "       LaGuardia Airport  Lower Manhattan  Midtown  Upper East Side\n",
       "0                      0                0        0                0\n",
       "1                      0                0        0                0\n",
       "2                      0                0        0                0\n",
       "3                      0                0        0                0\n",
       "4                      0                0        0                0\n",
       "...                  ...              ...      ...              ...\n",
       "68563                  0                0        0                1\n",
       "68564                  0                0        0                1\n",
       "68565                  0                0        0                1\n",
       "68566                  0                0        0                1\n",
       "68567                  0                0        0                1\n",
       "\n",
       "[68568 rows x 4 columns]"
      ]
     },
     "execution_count": 9,
     "metadata": {},
     "output_type": "execute_result"
    }
   ],
   "source": [
    "dfpickup"
   ]
  },
  {
   "cell_type": "code",
   "execution_count": 10,
   "metadata": {},
   "outputs": [],
   "source": [
    "df2 = pd.concat([df,dfpickup],axis=1)"
   ]
  },
  {
   "cell_type": "code",
   "execution_count": 11,
   "metadata": {},
   "outputs": [
    {
     "data": {
      "text/html": [
       "<div>\n",
       "<style scoped>\n",
       "    .dataframe tbody tr th:only-of-type {\n",
       "        vertical-align: middle;\n",
       "    }\n",
       "\n",
       "    .dataframe tbody tr th {\n",
       "        vertical-align: top;\n",
       "    }\n",
       "\n",
       "    .dataframe thead th {\n",
       "        text-align: right;\n",
       "    }\n",
       "</style>\n",
       "<table border=\"1\" class=\"dataframe\">\n",
       "  <thead>\n",
       "    <tr style=\"text-align: right;\">\n",
       "      <th></th>\n",
       "      <th>passenger_count</th>\n",
       "      <th>trip_distance</th>\n",
       "      <th>pickup_location</th>\n",
       "      <th>fare_amount</th>\n",
       "      <th>extra</th>\n",
       "      <th>tip_amount</th>\n",
       "      <th>total_amount</th>\n",
       "      <th>duration</th>\n",
       "      <th>pickupday</th>\n",
       "      <th>demand</th>\n",
       "      <th>isholiday</th>\n",
       "      <th>label</th>\n",
       "      <th>LaGuardia Airport</th>\n",
       "      <th>Lower Manhattan</th>\n",
       "      <th>Midtown</th>\n",
       "      <th>Upper East Side</th>\n",
       "    </tr>\n",
       "  </thead>\n",
       "  <tbody>\n",
       "    <tr>\n",
       "      <th>0</th>\n",
       "      <td>2</td>\n",
       "      <td>12.74</td>\n",
       "      <td>JFK Airport</td>\n",
       "      <td>47.5</td>\n",
       "      <td>0.5</td>\n",
       "      <td>9.60</td>\n",
       "      <td>58.40</td>\n",
       "      <td>24.0</td>\n",
       "      <td>29</td>\n",
       "      <td>low</td>\n",
       "      <td>0</td>\n",
       "      <td>1</td>\n",
       "      <td>0</td>\n",
       "      <td>0</td>\n",
       "      <td>0</td>\n",
       "      <td>0</td>\n",
       "    </tr>\n",
       "    <tr>\n",
       "      <th>1</th>\n",
       "      <td>1</td>\n",
       "      <td>17.50</td>\n",
       "      <td>JFK Airport</td>\n",
       "      <td>52.0</td>\n",
       "      <td>0.0</td>\n",
       "      <td>7.00</td>\n",
       "      <td>65.13</td>\n",
       "      <td>32.0</td>\n",
       "      <td>1</td>\n",
       "      <td>low</td>\n",
       "      <td>1</td>\n",
       "      <td>1</td>\n",
       "      <td>0</td>\n",
       "      <td>0</td>\n",
       "      <td>0</td>\n",
       "      <td>0</td>\n",
       "    </tr>\n",
       "    <tr>\n",
       "      <th>2</th>\n",
       "      <td>2</td>\n",
       "      <td>18.50</td>\n",
       "      <td>JFK Airport</td>\n",
       "      <td>51.0</td>\n",
       "      <td>0.5</td>\n",
       "      <td>0.00</td>\n",
       "      <td>57.63</td>\n",
       "      <td>30.0</td>\n",
       "      <td>18</td>\n",
       "      <td>low</td>\n",
       "      <td>0</td>\n",
       "      <td>1</td>\n",
       "      <td>0</td>\n",
       "      <td>0</td>\n",
       "      <td>0</td>\n",
       "      <td>0</td>\n",
       "    </tr>\n",
       "    <tr>\n",
       "      <th>3</th>\n",
       "      <td>1</td>\n",
       "      <td>14.80</td>\n",
       "      <td>JFK Airport</td>\n",
       "      <td>41.0</td>\n",
       "      <td>0.0</td>\n",
       "      <td>0.00</td>\n",
       "      <td>41.80</td>\n",
       "      <td>29.0</td>\n",
       "      <td>13</td>\n",
       "      <td>low</td>\n",
       "      <td>0</td>\n",
       "      <td>1</td>\n",
       "      <td>0</td>\n",
       "      <td>0</td>\n",
       "      <td>0</td>\n",
       "      <td>0</td>\n",
       "    </tr>\n",
       "    <tr>\n",
       "      <th>4</th>\n",
       "      <td>1</td>\n",
       "      <td>14.30</td>\n",
       "      <td>JFK Airport</td>\n",
       "      <td>39.5</td>\n",
       "      <td>0.5</td>\n",
       "      <td>0.00</td>\n",
       "      <td>40.80</td>\n",
       "      <td>22.0</td>\n",
       "      <td>29</td>\n",
       "      <td>low</td>\n",
       "      <td>0</td>\n",
       "      <td>1</td>\n",
       "      <td>0</td>\n",
       "      <td>0</td>\n",
       "      <td>0</td>\n",
       "      <td>0</td>\n",
       "    </tr>\n",
       "    <tr>\n",
       "      <th>...</th>\n",
       "      <td>...</td>\n",
       "      <td>...</td>\n",
       "      <td>...</td>\n",
       "      <td>...</td>\n",
       "      <td>...</td>\n",
       "      <td>...</td>\n",
       "      <td>...</td>\n",
       "      <td>...</td>\n",
       "      <td>...</td>\n",
       "      <td>...</td>\n",
       "      <td>...</td>\n",
       "      <td>...</td>\n",
       "      <td>...</td>\n",
       "      <td>...</td>\n",
       "      <td>...</td>\n",
       "      <td>...</td>\n",
       "    </tr>\n",
       "    <tr>\n",
       "      <th>68563</th>\n",
       "      <td>1</td>\n",
       "      <td>1.69</td>\n",
       "      <td>Upper East Side</td>\n",
       "      <td>8.0</td>\n",
       "      <td>0.0</td>\n",
       "      <td>0.00</td>\n",
       "      <td>8.80</td>\n",
       "      <td>8.0</td>\n",
       "      <td>10</td>\n",
       "      <td>low</td>\n",
       "      <td>0</td>\n",
       "      <td>1</td>\n",
       "      <td>0</td>\n",
       "      <td>0</td>\n",
       "      <td>0</td>\n",
       "      <td>1</td>\n",
       "    </tr>\n",
       "    <tr>\n",
       "      <th>68564</th>\n",
       "      <td>1</td>\n",
       "      <td>1.80</td>\n",
       "      <td>Upper East Side</td>\n",
       "      <td>12.5</td>\n",
       "      <td>0.0</td>\n",
       "      <td>2.00</td>\n",
       "      <td>15.30</td>\n",
       "      <td>18.0</td>\n",
       "      <td>3</td>\n",
       "      <td>low</td>\n",
       "      <td>0</td>\n",
       "      <td>1</td>\n",
       "      <td>0</td>\n",
       "      <td>0</td>\n",
       "      <td>0</td>\n",
       "      <td>1</td>\n",
       "    </tr>\n",
       "    <tr>\n",
       "      <th>68565</th>\n",
       "      <td>5</td>\n",
       "      <td>1.54</td>\n",
       "      <td>Upper East Side</td>\n",
       "      <td>7.5</td>\n",
       "      <td>1.0</td>\n",
       "      <td>1.70</td>\n",
       "      <td>11.00</td>\n",
       "      <td>7.0</td>\n",
       "      <td>15</td>\n",
       "      <td>high</td>\n",
       "      <td>0</td>\n",
       "      <td>0</td>\n",
       "      <td>0</td>\n",
       "      <td>0</td>\n",
       "      <td>0</td>\n",
       "      <td>1</td>\n",
       "    </tr>\n",
       "    <tr>\n",
       "      <th>68566</th>\n",
       "      <td>1</td>\n",
       "      <td>0.78</td>\n",
       "      <td>Upper East Side</td>\n",
       "      <td>5.5</td>\n",
       "      <td>1.0</td>\n",
       "      <td>1.25</td>\n",
       "      <td>8.55</td>\n",
       "      <td>5.0</td>\n",
       "      <td>15</td>\n",
       "      <td>low</td>\n",
       "      <td>0</td>\n",
       "      <td>1</td>\n",
       "      <td>0</td>\n",
       "      <td>0</td>\n",
       "      <td>0</td>\n",
       "      <td>1</td>\n",
       "    </tr>\n",
       "    <tr>\n",
       "      <th>68567</th>\n",
       "      <td>1</td>\n",
       "      <td>1.01</td>\n",
       "      <td>Upper East Side</td>\n",
       "      <td>7.0</td>\n",
       "      <td>1.0</td>\n",
       "      <td>1.60</td>\n",
       "      <td>10.40</td>\n",
       "      <td>8.0</td>\n",
       "      <td>15</td>\n",
       "      <td>low</td>\n",
       "      <td>0</td>\n",
       "      <td>1</td>\n",
       "      <td>0</td>\n",
       "      <td>0</td>\n",
       "      <td>0</td>\n",
       "      <td>1</td>\n",
       "    </tr>\n",
       "  </tbody>\n",
       "</table>\n",
       "<p>68568 rows × 16 columns</p>\n",
       "</div>"
      ],
      "text/plain": [
       "       passenger_count  trip_distance  pickup_location  fare_amount  extra  tip_amount  total_amount  duration  pickupday demand  isholiday  label  LaGuardia Airport  Lower Manhattan  Midtown  Upper East Side\n",
       "0                    2          12.74      JFK Airport         47.5    0.5        9.60         58.40      24.0         29    low          0      1                  0                0        0                0\n",
       "1                    1          17.50      JFK Airport         52.0    0.0        7.00         65.13      32.0          1    low          1      1                  0                0        0                0\n",
       "2                    2          18.50      JFK Airport         51.0    0.5        0.00         57.63      30.0         18    low          0      1                  0                0        0                0\n",
       "3                    1          14.80      JFK Airport         41.0    0.0        0.00         41.80      29.0         13    low          0      1                  0                0        0                0\n",
       "4                    1          14.30      JFK Airport         39.5    0.5        0.00         40.80      22.0         29    low          0      1                  0                0        0                0\n",
       "...                ...            ...              ...          ...    ...         ...           ...       ...        ...    ...        ...    ...                ...              ...      ...              ...\n",
       "68563                1           1.69  Upper East Side          8.0    0.0        0.00          8.80       8.0         10    low          0      1                  0                0        0                1\n",
       "68564                1           1.80  Upper East Side         12.5    0.0        2.00         15.30      18.0          3    low          0      1                  0                0        0                1\n",
       "68565                5           1.54  Upper East Side          7.5    1.0        1.70         11.00       7.0         15   high          0      0                  0                0        0                1\n",
       "68566                1           0.78  Upper East Side          5.5    1.0        1.25          8.55       5.0         15    low          0      1                  0                0        0                1\n",
       "68567                1           1.01  Upper East Side          7.0    1.0        1.60         10.40       8.0         15    low          0      1                  0                0        0                1\n",
       "\n",
       "[68568 rows x 16 columns]"
      ]
     },
     "execution_count": 11,
     "metadata": {},
     "output_type": "execute_result"
    }
   ],
   "source": [
    "df2"
   ]
  },
  {
   "cell_type": "code",
   "execution_count": 12,
   "metadata": {},
   "outputs": [
    {
     "data": {
      "text/plain": [
       "Index(['passenger_count', 'trip_distance', 'pickup_location', 'fare_amount', 'extra', 'tip_amount', 'total_amount', 'duration', 'pickupday', 'demand', 'isholiday', 'label', 'LaGuardia Airport', 'Lower Manhattan', 'Midtown', 'Upper East Side'], dtype='object')"
      ]
     },
     "execution_count": 12,
     "metadata": {},
     "output_type": "execute_result"
    }
   ],
   "source": [
    "df2.columns"
   ]
  },
  {
   "cell_type": "code",
   "execution_count": 13,
   "metadata": {},
   "outputs": [],
   "source": [
    "df2.drop(['pickup_location','label'],axis=1,inplace=True)"
   ]
  },
  {
   "cell_type": "code",
   "execution_count": 14,
   "metadata": {},
   "outputs": [
    {
     "data": {
      "text/html": [
       "<div>\n",
       "<style scoped>\n",
       "    .dataframe tbody tr th:only-of-type {\n",
       "        vertical-align: middle;\n",
       "    }\n",
       "\n",
       "    .dataframe tbody tr th {\n",
       "        vertical-align: top;\n",
       "    }\n",
       "\n",
       "    .dataframe thead th {\n",
       "        text-align: right;\n",
       "    }\n",
       "</style>\n",
       "<table border=\"1\" class=\"dataframe\">\n",
       "  <thead>\n",
       "    <tr style=\"text-align: right;\">\n",
       "      <th></th>\n",
       "      <th>passenger_count</th>\n",
       "      <th>trip_distance</th>\n",
       "      <th>fare_amount</th>\n",
       "      <th>extra</th>\n",
       "      <th>tip_amount</th>\n",
       "      <th>total_amount</th>\n",
       "      <th>duration</th>\n",
       "      <th>pickupday</th>\n",
       "      <th>demand</th>\n",
       "      <th>isholiday</th>\n",
       "      <th>LaGuardia Airport</th>\n",
       "      <th>Lower Manhattan</th>\n",
       "      <th>Midtown</th>\n",
       "      <th>Upper East Side</th>\n",
       "    </tr>\n",
       "  </thead>\n",
       "  <tbody>\n",
       "    <tr>\n",
       "      <th>0</th>\n",
       "      <td>2</td>\n",
       "      <td>12.74</td>\n",
       "      <td>47.5</td>\n",
       "      <td>0.5</td>\n",
       "      <td>9.6</td>\n",
       "      <td>58.40</td>\n",
       "      <td>24.0</td>\n",
       "      <td>29</td>\n",
       "      <td>low</td>\n",
       "      <td>0</td>\n",
       "      <td>0</td>\n",
       "      <td>0</td>\n",
       "      <td>0</td>\n",
       "      <td>0</td>\n",
       "    </tr>\n",
       "    <tr>\n",
       "      <th>1</th>\n",
       "      <td>1</td>\n",
       "      <td>17.50</td>\n",
       "      <td>52.0</td>\n",
       "      <td>0.0</td>\n",
       "      <td>7.0</td>\n",
       "      <td>65.13</td>\n",
       "      <td>32.0</td>\n",
       "      <td>1</td>\n",
       "      <td>low</td>\n",
       "      <td>1</td>\n",
       "      <td>0</td>\n",
       "      <td>0</td>\n",
       "      <td>0</td>\n",
       "      <td>0</td>\n",
       "    </tr>\n",
       "    <tr>\n",
       "      <th>2</th>\n",
       "      <td>2</td>\n",
       "      <td>18.50</td>\n",
       "      <td>51.0</td>\n",
       "      <td>0.5</td>\n",
       "      <td>0.0</td>\n",
       "      <td>57.63</td>\n",
       "      <td>30.0</td>\n",
       "      <td>18</td>\n",
       "      <td>low</td>\n",
       "      <td>0</td>\n",
       "      <td>0</td>\n",
       "      <td>0</td>\n",
       "      <td>0</td>\n",
       "      <td>0</td>\n",
       "    </tr>\n",
       "    <tr>\n",
       "      <th>3</th>\n",
       "      <td>1</td>\n",
       "      <td>14.80</td>\n",
       "      <td>41.0</td>\n",
       "      <td>0.0</td>\n",
       "      <td>0.0</td>\n",
       "      <td>41.80</td>\n",
       "      <td>29.0</td>\n",
       "      <td>13</td>\n",
       "      <td>low</td>\n",
       "      <td>0</td>\n",
       "      <td>0</td>\n",
       "      <td>0</td>\n",
       "      <td>0</td>\n",
       "      <td>0</td>\n",
       "    </tr>\n",
       "    <tr>\n",
       "      <th>4</th>\n",
       "      <td>1</td>\n",
       "      <td>14.30</td>\n",
       "      <td>39.5</td>\n",
       "      <td>0.5</td>\n",
       "      <td>0.0</td>\n",
       "      <td>40.80</td>\n",
       "      <td>22.0</td>\n",
       "      <td>29</td>\n",
       "      <td>low</td>\n",
       "      <td>0</td>\n",
       "      <td>0</td>\n",
       "      <td>0</td>\n",
       "      <td>0</td>\n",
       "      <td>0</td>\n",
       "    </tr>\n",
       "  </tbody>\n",
       "</table>\n",
       "</div>"
      ],
      "text/plain": [
       "   passenger_count  trip_distance  fare_amount  extra  tip_amount  total_amount  duration  pickupday demand  isholiday  LaGuardia Airport  Lower Manhattan  Midtown  Upper East Side\n",
       "0                2          12.74         47.5    0.5         9.6         58.40      24.0         29    low          0                  0                0        0                0\n",
       "1                1          17.50         52.0    0.0         7.0         65.13      32.0          1    low          1                  0                0        0                0\n",
       "2                2          18.50         51.0    0.5         0.0         57.63      30.0         18    low          0                  0                0        0                0\n",
       "3                1          14.80         41.0    0.0         0.0         41.80      29.0         13    low          0                  0                0        0                0\n",
       "4                1          14.30         39.5    0.5         0.0         40.80      22.0         29    low          0                  0                0        0                0"
      ]
     },
     "execution_count": 14,
     "metadata": {},
     "output_type": "execute_result"
    }
   ],
   "source": [
    "df2.head()"
   ]
  },
  {
   "cell_type": "code",
   "execution_count": 15,
   "metadata": {},
   "outputs": [
    {
     "data": {
      "text/plain": [
       "Index(['passenger_count', 'trip_distance', 'fare_amount', 'extra', 'tip_amount', 'total_amount', 'duration', 'pickupday', 'demand', 'isholiday', 'LaGuardia Airport', 'Lower Manhattan', 'Midtown', 'Upper East Side'], dtype='object')"
      ]
     },
     "execution_count": 15,
     "metadata": {},
     "output_type": "execute_result"
    }
   ],
   "source": [
    "df2.columns"
   ]
  },
  {
   "cell_type": "code",
   "execution_count": 16,
   "metadata": {},
   "outputs": [],
   "source": [
    "df2 = df2[['passenger_count', 'trip_distance', 'fare_amount', 'extra', 'tip_amount', \n",
    "               'total_amount', 'duration', 'pickupday', 'isholiday', 'LaGuardia Airport', \n",
    "               'Lower Manhattan', 'Midtown', 'Upper East Side', 'demand' ]]"
   ]
  },
  {
   "cell_type": "code",
   "execution_count": 17,
   "metadata": {},
   "outputs": [
    {
     "data": {
      "text/html": [
       "<div>\n",
       "<style scoped>\n",
       "    .dataframe tbody tr th:only-of-type {\n",
       "        vertical-align: middle;\n",
       "    }\n",
       "\n",
       "    .dataframe tbody tr th {\n",
       "        vertical-align: top;\n",
       "    }\n",
       "\n",
       "    .dataframe thead th {\n",
       "        text-align: right;\n",
       "    }\n",
       "</style>\n",
       "<table border=\"1\" class=\"dataframe\">\n",
       "  <thead>\n",
       "    <tr style=\"text-align: right;\">\n",
       "      <th></th>\n",
       "      <th>passenger_count</th>\n",
       "      <th>trip_distance</th>\n",
       "      <th>fare_amount</th>\n",
       "      <th>extra</th>\n",
       "      <th>tip_amount</th>\n",
       "      <th>total_amount</th>\n",
       "      <th>duration</th>\n",
       "      <th>pickupday</th>\n",
       "      <th>isholiday</th>\n",
       "      <th>LaGuardia Airport</th>\n",
       "      <th>Lower Manhattan</th>\n",
       "      <th>Midtown</th>\n",
       "      <th>Upper East Side</th>\n",
       "      <th>demand</th>\n",
       "    </tr>\n",
       "  </thead>\n",
       "  <tbody>\n",
       "    <tr>\n",
       "      <th>0</th>\n",
       "      <td>2</td>\n",
       "      <td>12.74</td>\n",
       "      <td>47.5</td>\n",
       "      <td>0.5</td>\n",
       "      <td>9.6</td>\n",
       "      <td>58.40</td>\n",
       "      <td>24.0</td>\n",
       "      <td>29</td>\n",
       "      <td>0</td>\n",
       "      <td>0</td>\n",
       "      <td>0</td>\n",
       "      <td>0</td>\n",
       "      <td>0</td>\n",
       "      <td>low</td>\n",
       "    </tr>\n",
       "    <tr>\n",
       "      <th>1</th>\n",
       "      <td>1</td>\n",
       "      <td>17.50</td>\n",
       "      <td>52.0</td>\n",
       "      <td>0.0</td>\n",
       "      <td>7.0</td>\n",
       "      <td>65.13</td>\n",
       "      <td>32.0</td>\n",
       "      <td>1</td>\n",
       "      <td>1</td>\n",
       "      <td>0</td>\n",
       "      <td>0</td>\n",
       "      <td>0</td>\n",
       "      <td>0</td>\n",
       "      <td>low</td>\n",
       "    </tr>\n",
       "    <tr>\n",
       "      <th>2</th>\n",
       "      <td>2</td>\n",
       "      <td>18.50</td>\n",
       "      <td>51.0</td>\n",
       "      <td>0.5</td>\n",
       "      <td>0.0</td>\n",
       "      <td>57.63</td>\n",
       "      <td>30.0</td>\n",
       "      <td>18</td>\n",
       "      <td>0</td>\n",
       "      <td>0</td>\n",
       "      <td>0</td>\n",
       "      <td>0</td>\n",
       "      <td>0</td>\n",
       "      <td>low</td>\n",
       "    </tr>\n",
       "    <tr>\n",
       "      <th>3</th>\n",
       "      <td>1</td>\n",
       "      <td>14.80</td>\n",
       "      <td>41.0</td>\n",
       "      <td>0.0</td>\n",
       "      <td>0.0</td>\n",
       "      <td>41.80</td>\n",
       "      <td>29.0</td>\n",
       "      <td>13</td>\n",
       "      <td>0</td>\n",
       "      <td>0</td>\n",
       "      <td>0</td>\n",
       "      <td>0</td>\n",
       "      <td>0</td>\n",
       "      <td>low</td>\n",
       "    </tr>\n",
       "    <tr>\n",
       "      <th>4</th>\n",
       "      <td>1</td>\n",
       "      <td>14.30</td>\n",
       "      <td>39.5</td>\n",
       "      <td>0.5</td>\n",
       "      <td>0.0</td>\n",
       "      <td>40.80</td>\n",
       "      <td>22.0</td>\n",
       "      <td>29</td>\n",
       "      <td>0</td>\n",
       "      <td>0</td>\n",
       "      <td>0</td>\n",
       "      <td>0</td>\n",
       "      <td>0</td>\n",
       "      <td>low</td>\n",
       "    </tr>\n",
       "  </tbody>\n",
       "</table>\n",
       "</div>"
      ],
      "text/plain": [
       "   passenger_count  trip_distance  fare_amount  extra  tip_amount  total_amount  duration  pickupday  isholiday  LaGuardia Airport  Lower Manhattan  Midtown  Upper East Side demand\n",
       "0                2          12.74         47.5    0.5         9.6         58.40      24.0         29          0                  0                0        0                0    low\n",
       "1                1          17.50         52.0    0.0         7.0         65.13      32.0          1          1                  0                0        0                0    low\n",
       "2                2          18.50         51.0    0.5         0.0         57.63      30.0         18          0                  0                0        0                0    low\n",
       "3                1          14.80         41.0    0.0         0.0         41.80      29.0         13          0                  0                0        0                0    low\n",
       "4                1          14.30         39.5    0.5         0.0         40.80      22.0         29          0                  0                0        0                0    low"
      ]
     },
     "execution_count": 17,
     "metadata": {},
     "output_type": "execute_result"
    }
   ],
   "source": [
    "df2.head()"
   ]
  },
  {
   "cell_type": "markdown",
   "metadata": {},
   "source": [
    "### Data Visualization"
   ]
  },
  {
   "cell_type": "markdown",
   "metadata": {},
   "source": [
    "### Univariate Data Exploration"
   ]
  },
  {
   "cell_type": "code",
   "execution_count": 18,
   "metadata": {},
   "outputs": [
    {
     "data": {
      "image/png": "[encoded data removed]",
      "text/plain": [
       "<Figure size 1440x1080 with 16 Axes>"
      ]
     },
     "metadata": {},
     "output_type": "display_data"
    }
   ],
   "source": [
    "df2.hist(bins=50, figsize=(20,15))\n",
    "plt.suptitle('Feature Distribution', x=0.5, y=1.02, ha='center', fontsize='large')\n",
    "plt.tight_layout()\n",
    "plt.show()"
   ]
  },
  {
   "cell_type": "code",
   "execution_count": 19,
   "metadata": {},
   "outputs": [
    {
     "data": {
      "image/png": "[encoded data removed]",
      "text/plain": [
       "<Figure size 1440x1440 with 1 Axes>"
      ]
     },
     "metadata": {},
     "output_type": "display_data"
    }
   ],
   "source": [
    "df2.boxplot(figsize=(20,20))\n",
    "plt.suptitle('BoxPlot', x=0.5, y=1.02, ha='center', fontsize='large')\n",
    "plt.tight_layout()\n",
    "plt.show()"
   ]
  },
  {
   "cell_type": "markdown",
   "metadata": {},
   "source": [
    "### Correlation"
   ]
  },
  {
   "cell_type": "code",
   "execution_count": 20,
   "metadata": {},
   "outputs": [
    {
     "data": {
      "text/html": [
       "<div>\n",
       "<style scoped>\n",
       "    .dataframe tbody tr th:only-of-type {\n",
       "        vertical-align: middle;\n",
       "    }\n",
       "\n",
       "    .dataframe tbody tr th {\n",
       "        vertical-align: top;\n",
       "    }\n",
       "\n",
       "    .dataframe thead th {\n",
       "        text-align: right;\n",
       "    }\n",
       "</style>\n",
       "<table border=\"1\" class=\"dataframe\">\n",
       "  <thead>\n",
       "    <tr style=\"text-align: right;\">\n",
       "      <th></th>\n",
       "      <th>passenger_count</th>\n",
       "      <th>trip_distance</th>\n",
       "      <th>fare_amount</th>\n",
       "      <th>extra</th>\n",
       "      <th>tip_amount</th>\n",
       "      <th>total_amount</th>\n",
       "      <th>duration</th>\n",
       "      <th>pickupday</th>\n",
       "      <th>isholiday</th>\n",
       "      <th>LaGuardia Airport</th>\n",
       "      <th>Lower Manhattan</th>\n",
       "      <th>Midtown</th>\n",
       "      <th>Upper East Side</th>\n",
       "    </tr>\n",
       "  </thead>\n",
       "  <tbody>\n",
       "    <tr>\n",
       "      <th>passenger_count</th>\n",
       "      <td>1.000000</td>\n",
       "      <td>-0.001952</td>\n",
       "      <td>0.013251</td>\n",
       "      <td>-0.004897</td>\n",
       "      <td>-0.009516</td>\n",
       "      <td>0.010623</td>\n",
       "      <td>0.015734</td>\n",
       "      <td>-0.012447</td>\n",
       "      <td>0.009499</td>\n",
       "      <td>0.005835</td>\n",
       "      <td>-0.006575</td>\n",
       "      <td>-0.007640</td>\n",
       "      <td>0.005656</td>\n",
       "    </tr>\n",
       "    <tr>\n",
       "      <th>trip_distance</th>\n",
       "      <td>-0.001952</td>\n",
       "      <td>1.000000</td>\n",
       "      <td>0.000253</td>\n",
       "      <td>-0.003012</td>\n",
       "      <td>0.002720</td>\n",
       "      <td>0.000517</td>\n",
       "      <td>0.000451</td>\n",
       "      <td>0.003563</td>\n",
       "      <td>-0.000938</td>\n",
       "      <td>-0.001355</td>\n",
       "      <td>-0.001139</td>\n",
       "      <td>0.003133</td>\n",
       "      <td>-0.001693</td>\n",
       "    </tr>\n",
       "    <tr>\n",
       "      <th>fare_amount</th>\n",
       "      <td>0.013251</td>\n",
       "      <td>0.000253</td>\n",
       "      <td>1.000000</td>\n",
       "      <td>-0.091227</td>\n",
       "      <td>0.604967</td>\n",
       "      <td>0.985443</td>\n",
       "      <td>0.261480</td>\n",
       "      <td>-0.021277</td>\n",
       "      <td>0.018778</td>\n",
       "      <td>-0.100120</td>\n",
       "      <td>-0.073609</td>\n",
       "      <td>-0.279646</td>\n",
       "      <td>0.071621</td>\n",
       "    </tr>\n",
       "    <tr>\n",
       "      <th>extra</th>\n",
       "      <td>-0.004897</td>\n",
       "      <td>-0.003012</td>\n",
       "      <td>-0.091227</td>\n",
       "      <td>1.000000</td>\n",
       "      <td>-0.034286</td>\n",
       "      <td>-0.066663</td>\n",
       "      <td>-0.026354</td>\n",
       "      <td>-0.005520</td>\n",
       "      <td>-0.069695</td>\n",
       "      <td>-0.008645</td>\n",
       "      <td>-0.016675</td>\n",
       "      <td>0.057144</td>\n",
       "      <td>0.007416</td>\n",
       "    </tr>\n",
       "    <tr>\n",
       "      <th>tip_amount</th>\n",
       "      <td>-0.009516</td>\n",
       "      <td>0.002720</td>\n",
       "      <td>0.604967</td>\n",
       "      <td>-0.034286</td>\n",
       "      <td>1.000000</td>\n",
       "      <td>0.715987</td>\n",
       "      <td>0.149022</td>\n",
       "      <td>0.014505</td>\n",
       "      <td>-0.000159</td>\n",
       "      <td>-0.058870</td>\n",
       "      <td>-0.060522</td>\n",
       "      <td>-0.170010</td>\n",
       "      <td>0.078581</td>\n",
       "    </tr>\n",
       "    <tr>\n",
       "      <th>total_amount</th>\n",
       "      <td>0.010623</td>\n",
       "      <td>0.000517</td>\n",
       "      <td>0.985443</td>\n",
       "      <td>-0.066663</td>\n",
       "      <td>0.715987</td>\n",
       "      <td>1.000000</td>\n",
       "      <td>0.255307</td>\n",
       "      <td>-0.016650</td>\n",
       "      <td>0.014982</td>\n",
       "      <td>-0.100853</td>\n",
       "      <td>-0.077941</td>\n",
       "      <td>-0.277848</td>\n",
       "      <td>0.088905</td>\n",
       "    </tr>\n",
       "    <tr>\n",
       "      <th>duration</th>\n",
       "      <td>0.015734</td>\n",
       "      <td>0.000451</td>\n",
       "      <td>0.261480</td>\n",
       "      <td>-0.026354</td>\n",
       "      <td>0.149022</td>\n",
       "      <td>0.255307</td>\n",
       "      <td>1.000000</td>\n",
       "      <td>0.004476</td>\n",
       "      <td>0.004844</td>\n",
       "      <td>-0.028464</td>\n",
       "      <td>-0.017849</td>\n",
       "      <td>-0.073539</td>\n",
       "      <td>0.023480</td>\n",
       "    </tr>\n",
       "    <tr>\n",
       "      <th>pickupday</th>\n",
       "      <td>-0.012447</td>\n",
       "      <td>0.003563</td>\n",
       "      <td>-0.021277</td>\n",
       "      <td>-0.005520</td>\n",
       "      <td>0.014505</td>\n",
       "      <td>-0.016650</td>\n",
       "      <td>0.004476</td>\n",
       "      <td>1.000000</td>\n",
       "      <td>-0.161067</td>\n",
       "      <td>0.012614</td>\n",
       "      <td>0.007767</td>\n",
       "      <td>0.004426</td>\n",
       "      <td>0.000890</td>\n",
       "    </tr>\n",
       "    <tr>\n",
       "      <th>isholiday</th>\n",
       "      <td>0.009499</td>\n",
       "      <td>-0.000938</td>\n",
       "      <td>0.018778</td>\n",
       "      <td>-0.069695</td>\n",
       "      <td>-0.000159</td>\n",
       "      <td>0.014982</td>\n",
       "      <td>0.004844</td>\n",
       "      <td>-0.161067</td>\n",
       "      <td>1.000000</td>\n",
       "      <td>0.002639</td>\n",
       "      <td>0.001484</td>\n",
       "      <td>-0.015934</td>\n",
       "      <td>0.004641</td>\n",
       "    </tr>\n",
       "    <tr>\n",
       "      <th>LaGuardia Airport</th>\n",
       "      <td>0.005835</td>\n",
       "      <td>-0.001355</td>\n",
       "      <td>-0.100120</td>\n",
       "      <td>-0.008645</td>\n",
       "      <td>-0.058870</td>\n",
       "      <td>-0.100853</td>\n",
       "      <td>-0.028464</td>\n",
       "      <td>0.012614</td>\n",
       "      <td>0.002639</td>\n",
       "      <td>1.000000</td>\n",
       "      <td>-0.100438</td>\n",
       "      <td>-0.405713</td>\n",
       "      <td>-0.155459</td>\n",
       "    </tr>\n",
       "    <tr>\n",
       "      <th>Lower Manhattan</th>\n",
       "      <td>-0.006575</td>\n",
       "      <td>-0.001139</td>\n",
       "      <td>-0.073609</td>\n",
       "      <td>-0.016675</td>\n",
       "      <td>-0.060522</td>\n",
       "      <td>-0.077941</td>\n",
       "      <td>-0.017849</td>\n",
       "      <td>0.007767</td>\n",
       "      <td>0.001484</td>\n",
       "      <td>-0.100438</td>\n",
       "      <td>1.000000</td>\n",
       "      <td>-0.342473</td>\n",
       "      <td>-0.131227</td>\n",
       "    </tr>\n",
       "    <tr>\n",
       "      <th>Midtown</th>\n",
       "      <td>-0.007640</td>\n",
       "      <td>0.003133</td>\n",
       "      <td>-0.279646</td>\n",
       "      <td>0.057144</td>\n",
       "      <td>-0.170010</td>\n",
       "      <td>-0.277848</td>\n",
       "      <td>-0.073539</td>\n",
       "      <td>0.004426</td>\n",
       "      <td>-0.015934</td>\n",
       "      <td>-0.405713</td>\n",
       "      <td>-0.342473</td>\n",
       "      <td>1.000000</td>\n",
       "      <td>-0.530086</td>\n",
       "    </tr>\n",
       "    <tr>\n",
       "      <th>Upper East Side</th>\n",
       "      <td>0.005656</td>\n",
       "      <td>-0.001693</td>\n",
       "      <td>0.071621</td>\n",
       "      <td>0.007416</td>\n",
       "      <td>0.078581</td>\n",
       "      <td>0.088905</td>\n",
       "      <td>0.023480</td>\n",
       "      <td>0.000890</td>\n",
       "      <td>0.004641</td>\n",
       "      <td>-0.155459</td>\n",
       "      <td>-0.131227</td>\n",
       "      <td>-0.530086</td>\n",
       "      <td>1.000000</td>\n",
       "    </tr>\n",
       "  </tbody>\n",
       "</table>\n",
       "</div>"
      ],
      "text/plain": [
       "                   passenger_count  trip_distance  fare_amount     extra  tip_amount  total_amount  duration  pickupday  isholiday  LaGuardia Airport  Lower Manhattan   Midtown  Upper East Side\n",
       "passenger_count           1.000000      -0.001952     0.013251 -0.004897   -0.009516      0.010623  0.015734  -0.012447   0.009499           0.005835        -0.006575 -0.007640         0.005656\n",
       "trip_distance            -0.001952       1.000000     0.000253 -0.003012    0.002720      0.000517  0.000451   0.003563  -0.000938          -0.001355        -0.001139  0.003133        -0.001693\n",
       "fare_amount               0.013251       0.000253     1.000000 -0.091227    0.604967      0.985443  0.261480  -0.021277   0.018778          -0.100120        -0.073609 -0.279646         0.071621\n",
       "extra                    -0.004897      -0.003012    -0.091227  1.000000   -0.034286     -0.066663 -0.026354  -0.005520  -0.069695          -0.008645        -0.016675  0.057144         0.007416\n",
       "tip_amount               -0.009516       0.002720     0.604967 -0.034286    1.000000      0.715987  0.149022   0.014505  -0.000159          -0.058870        -0.060522 -0.170010         0.078581\n",
       "total_amount              0.010623       0.000517     0.985443 -0.066663    0.715987      1.000000  0.255307  -0.016650   0.014982          -0.100853        -0.077941 -0.277848         0.088905\n",
       "duration                  0.015734       0.000451     0.261480 -0.026354    0.149022      0.255307  1.000000   0.004476   0.004844          -0.028464        -0.017849 -0.073539         0.023480\n",
       "pickupday                -0.012447       0.003563    -0.021277 -0.005520    0.014505     -0.016650  0.004476   1.000000  -0.161067           0.012614         0.007767  0.004426         0.000890\n",
       "isholiday                 0.009499      -0.000938     0.018778 -0.069695   -0.000159      0.014982  0.004844  -0.161067   1.000000           0.002639         0.001484 -0.015934         0.004641\n",
       "LaGuardia Airport         0.005835      -0.001355    -0.100120 -0.008645   -0.058870     -0.100853 -0.028464   0.012614   0.002639           1.000000        -0.100438 -0.405713        -0.155459\n",
       "Lower Manhattan          -0.006575      -0.001139    -0.073609 -0.016675   -0.060522     -0.077941 -0.017849   0.007767   0.001484          -0.100438         1.000000 -0.342473        -0.131227\n",
       "Midtown                  -0.007640       0.003133    -0.279646  0.057144   -0.170010     -0.277848 -0.073539   0.004426  -0.015934          -0.405713        -0.342473  1.000000        -0.530086\n",
       "Upper East Side           0.005656      -0.001693     0.071621  0.007416    0.078581      0.088905  0.023480   0.000890   0.004641          -0.155459        -0.131227 -0.530086         1.000000"
      ]
     },
     "execution_count": 20,
     "metadata": {},
     "output_type": "execute_result"
    }
   ],
   "source": [
    "df2.corr()"
   ]
  },
  {
   "cell_type": "code",
   "execution_count": 21,
   "metadata": {},
   "outputs": [
    {
     "data": {
      "image/png": "[encoded data removed]",
      "text/plain": [
       "<Figure size 1152x648 with 2 Axes>"
      ]
     },
     "metadata": {},
     "output_type": "display_data"
    }
   ],
   "source": [
    "plt.figure(figsize=(16,9))\n",
    "sns.heatmap(df2.corr(),cmap=\"coolwarm\",annot=True,fmt='.2f',linewidths=2)\n",
    "plt.show()"
   ]
  },
  {
   "cell_type": "markdown",
   "metadata": {},
   "source": [
    "### Treat Missing Values"
   ]
  },
  {
   "cell_type": "code",
   "execution_count": 22,
   "metadata": {},
   "outputs": [
    {
     "data": {
      "text/plain": [
       "passenger_count      0\n",
       "trip_distance        0\n",
       "fare_amount          0\n",
       "extra                0\n",
       "tip_amount           0\n",
       "total_amount         0\n",
       "duration             0\n",
       "pickupday            0\n",
       "isholiday            0\n",
       "LaGuardia Airport    0\n",
       "Lower Manhattan      0\n",
       "Midtown              0\n",
       "Upper East Side      0\n",
       "demand               0\n",
       "dtype: int64"
      ]
     },
     "execution_count": 22,
     "metadata": {},
     "output_type": "execute_result"
    }
   ],
   "source": [
    "df2.isnull().sum()"
   ]
  },
  {
   "cell_type": "markdown",
   "metadata": {},
   "source": [
    "### Treat Duplicate Values"
   ]
  },
  {
   "cell_type": "code",
   "execution_count": 23,
   "metadata": {},
   "outputs": [
    {
     "data": {
      "text/plain": [
       "1128"
      ]
     },
     "execution_count": 23,
     "metadata": {},
     "output_type": "execute_result"
    }
   ],
   "source": [
    "df2.duplicated(keep='first').sum()"
   ]
  },
  {
   "cell_type": "code",
   "execution_count": 24,
   "metadata": {},
   "outputs": [
    {
     "data": {
      "text/html": [
       "<div>\n",
       "<style scoped>\n",
       "    .dataframe tbody tr th:only-of-type {\n",
       "        vertical-align: middle;\n",
       "    }\n",
       "\n",
       "    .dataframe tbody tr th {\n",
       "        vertical-align: top;\n",
       "    }\n",
       "\n",
       "    .dataframe thead th {\n",
       "        text-align: right;\n",
       "    }\n",
       "</style>\n",
       "<table border=\"1\" class=\"dataframe\">\n",
       "  <thead>\n",
       "    <tr style=\"text-align: right;\">\n",
       "      <th></th>\n",
       "      <th>passenger_count</th>\n",
       "      <th>trip_distance</th>\n",
       "      <th>fare_amount</th>\n",
       "      <th>extra</th>\n",
       "      <th>tip_amount</th>\n",
       "      <th>total_amount</th>\n",
       "      <th>duration</th>\n",
       "      <th>pickupday</th>\n",
       "      <th>isholiday</th>\n",
       "      <th>LaGuardia Airport</th>\n",
       "      <th>Lower Manhattan</th>\n",
       "      <th>Midtown</th>\n",
       "      <th>Upper East Side</th>\n",
       "      <th>demand</th>\n",
       "    </tr>\n",
       "  </thead>\n",
       "  <tbody>\n",
       "    <tr>\n",
       "      <th>722</th>\n",
       "      <td>1</td>\n",
       "      <td>0.0</td>\n",
       "      <td>2.5</td>\n",
       "      <td>0.0</td>\n",
       "      <td>0.0</td>\n",
       "      <td>3.30</td>\n",
       "      <td>0.0</td>\n",
       "      <td>18</td>\n",
       "      <td>0</td>\n",
       "      <td>0</td>\n",
       "      <td>0</td>\n",
       "      <td>0</td>\n",
       "      <td>0</td>\n",
       "      <td>low</td>\n",
       "    </tr>\n",
       "    <tr>\n",
       "      <th>820</th>\n",
       "      <td>1</td>\n",
       "      <td>0.0</td>\n",
       "      <td>2.5</td>\n",
       "      <td>0.0</td>\n",
       "      <td>0.0</td>\n",
       "      <td>3.30</td>\n",
       "      <td>0.0</td>\n",
       "      <td>18</td>\n",
       "      <td>0</td>\n",
       "      <td>0</td>\n",
       "      <td>0</td>\n",
       "      <td>0</td>\n",
       "      <td>0</td>\n",
       "      <td>low</td>\n",
       "    </tr>\n",
       "    <tr>\n",
       "      <th>823</th>\n",
       "      <td>1</td>\n",
       "      <td>18.7</td>\n",
       "      <td>52.0</td>\n",
       "      <td>0.0</td>\n",
       "      <td>0.0</td>\n",
       "      <td>58.13</td>\n",
       "      <td>52.0</td>\n",
       "      <td>12</td>\n",
       "      <td>0</td>\n",
       "      <td>0</td>\n",
       "      <td>0</td>\n",
       "      <td>0</td>\n",
       "      <td>0</td>\n",
       "      <td>low</td>\n",
       "    </tr>\n",
       "    <tr>\n",
       "      <th>3831</th>\n",
       "      <td>1</td>\n",
       "      <td>18.7</td>\n",
       "      <td>52.0</td>\n",
       "      <td>0.0</td>\n",
       "      <td>0.0</td>\n",
       "      <td>58.13</td>\n",
       "      <td>52.0</td>\n",
       "      <td>12</td>\n",
       "      <td>0</td>\n",
       "      <td>0</td>\n",
       "      <td>0</td>\n",
       "      <td>0</td>\n",
       "      <td>0</td>\n",
       "      <td>low</td>\n",
       "    </tr>\n",
       "    <tr>\n",
       "      <th>3887</th>\n",
       "      <td>1</td>\n",
       "      <td>0.0</td>\n",
       "      <td>2.5</td>\n",
       "      <td>0.0</td>\n",
       "      <td>0.0</td>\n",
       "      <td>3.30</td>\n",
       "      <td>0.0</td>\n",
       "      <td>18</td>\n",
       "      <td>0</td>\n",
       "      <td>0</td>\n",
       "      <td>0</td>\n",
       "      <td>0</td>\n",
       "      <td>0</td>\n",
       "      <td>low</td>\n",
       "    </tr>\n",
       "    <tr>\n",
       "      <th>...</th>\n",
       "      <td>...</td>\n",
       "      <td>...</td>\n",
       "      <td>...</td>\n",
       "      <td>...</td>\n",
       "      <td>...</td>\n",
       "      <td>...</td>\n",
       "      <td>...</td>\n",
       "      <td>...</td>\n",
       "      <td>...</td>\n",
       "      <td>...</td>\n",
       "      <td>...</td>\n",
       "      <td>...</td>\n",
       "      <td>...</td>\n",
       "      <td>...</td>\n",
       "    </tr>\n",
       "    <tr>\n",
       "      <th>68185</th>\n",
       "      <td>1</td>\n",
       "      <td>1.4</td>\n",
       "      <td>6.5</td>\n",
       "      <td>0.0</td>\n",
       "      <td>1.0</td>\n",
       "      <td>8.30</td>\n",
       "      <td>5.0</td>\n",
       "      <td>15</td>\n",
       "      <td>0</td>\n",
       "      <td>0</td>\n",
       "      <td>0</td>\n",
       "      <td>0</td>\n",
       "      <td>1</td>\n",
       "      <td>low</td>\n",
       "    </tr>\n",
       "    <tr>\n",
       "      <th>68297</th>\n",
       "      <td>3</td>\n",
       "      <td>1.1</td>\n",
       "      <td>6.5</td>\n",
       "      <td>0.0</td>\n",
       "      <td>0.0</td>\n",
       "      <td>7.30</td>\n",
       "      <td>6.0</td>\n",
       "      <td>10</td>\n",
       "      <td>0</td>\n",
       "      <td>0</td>\n",
       "      <td>0</td>\n",
       "      <td>0</td>\n",
       "      <td>1</td>\n",
       "      <td>medium</td>\n",
       "    </tr>\n",
       "    <tr>\n",
       "      <th>68449</th>\n",
       "      <td>1</td>\n",
       "      <td>1.1</td>\n",
       "      <td>5.5</td>\n",
       "      <td>0.5</td>\n",
       "      <td>0.0</td>\n",
       "      <td>6.80</td>\n",
       "      <td>4.0</td>\n",
       "      <td>4</td>\n",
       "      <td>0</td>\n",
       "      <td>0</td>\n",
       "      <td>0</td>\n",
       "      <td>0</td>\n",
       "      <td>1</td>\n",
       "      <td>low</td>\n",
       "    </tr>\n",
       "    <tr>\n",
       "      <th>68459</th>\n",
       "      <td>1</td>\n",
       "      <td>1.2</td>\n",
       "      <td>6.0</td>\n",
       "      <td>0.5</td>\n",
       "      <td>0.0</td>\n",
       "      <td>7.30</td>\n",
       "      <td>5.0</td>\n",
       "      <td>24</td>\n",
       "      <td>0</td>\n",
       "      <td>0</td>\n",
       "      <td>0</td>\n",
       "      <td>0</td>\n",
       "      <td>1</td>\n",
       "      <td>low</td>\n",
       "    </tr>\n",
       "    <tr>\n",
       "      <th>68532</th>\n",
       "      <td>1</td>\n",
       "      <td>0.8</td>\n",
       "      <td>5.0</td>\n",
       "      <td>0.0</td>\n",
       "      <td>0.0</td>\n",
       "      <td>5.80</td>\n",
       "      <td>4.0</td>\n",
       "      <td>31</td>\n",
       "      <td>0</td>\n",
       "      <td>0</td>\n",
       "      <td>0</td>\n",
       "      <td>0</td>\n",
       "      <td>1</td>\n",
       "      <td>low</td>\n",
       "    </tr>\n",
       "  </tbody>\n",
       "</table>\n",
       "<p>2144 rows × 14 columns</p>\n",
       "</div>"
      ],
      "text/plain": [
       "       passenger_count  trip_distance  fare_amount  extra  tip_amount  total_amount  duration  pickupday  isholiday  LaGuardia Airport  Lower Manhattan  Midtown  Upper East Side  demand\n",
       "722                  1            0.0          2.5    0.0         0.0          3.30       0.0         18          0                  0                0        0                0     low\n",
       "820                  1            0.0          2.5    0.0         0.0          3.30       0.0         18          0                  0                0        0                0     low\n",
       "823                  1           18.7         52.0    0.0         0.0         58.13      52.0         12          0                  0                0        0                0     low\n",
       "3831                 1           18.7         52.0    0.0         0.0         58.13      52.0         12          0                  0                0        0                0     low\n",
       "3887                 1            0.0          2.5    0.0         0.0          3.30       0.0         18          0                  0                0        0                0     low\n",
       "...                ...            ...          ...    ...         ...           ...       ...        ...        ...                ...              ...      ...              ...     ...\n",
       "68185                1            1.4          6.5    0.0         1.0          8.30       5.0         15          0                  0                0        0                1     low\n",
       "68297                3            1.1          6.5    0.0         0.0          7.30       6.0         10          0                  0                0        0                1  medium\n",
       "68449                1            1.1          5.5    0.5         0.0          6.80       4.0          4          0                  0                0        0                1     low\n",
       "68459                1            1.2          6.0    0.5         0.0          7.30       5.0         24          0                  0                0        0                1     low\n",
       "68532                1            0.8          5.0    0.0         0.0          5.80       4.0         31          0                  0                0        0                1     low\n",
       "\n",
       "[2144 rows x 14 columns]"
      ]
     },
     "execution_count": 24,
     "metadata": {},
     "output_type": "execute_result"
    }
   ],
   "source": [
    "df2[df2.duplicated(keep=False)] #Check duplicate values"
   ]
  },
  {
   "cell_type": "code",
   "execution_count": 25,
   "metadata": {},
   "outputs": [],
   "source": [
    "df2.drop_duplicates(ignore_index=True, inplace=True)"
   ]
  },
  {
   "cell_type": "code",
   "execution_count": 26,
   "metadata": {},
   "outputs": [
    {
     "data": {
      "text/plain": [
       "0"
      ]
     },
     "execution_count": 26,
     "metadata": {},
     "output_type": "execute_result"
    }
   ],
   "source": [
    "df2.duplicated(keep='first').sum()"
   ]
  },
  {
   "cell_type": "code",
   "execution_count": 27,
   "metadata": {},
   "outputs": [
    {
     "data": {
      "text/plain": [
       "(67440, 14)"
      ]
     },
     "execution_count": 27,
     "metadata": {},
     "output_type": "execute_result"
    }
   ],
   "source": [
    "df2.shape"
   ]
  },
  {
   "cell_type": "markdown",
   "metadata": {},
   "source": [
    "### Treat Outliers"
   ]
  },
  {
   "cell_type": "code",
   "execution_count": 28,
   "metadata": {},
   "outputs": [
    {
     "data": {
      "text/html": [
       "<div>\n",
       "<style scoped>\n",
       "    .dataframe tbody tr th:only-of-type {\n",
       "        vertical-align: middle;\n",
       "    }\n",
       "\n",
       "    .dataframe tbody tr th {\n",
       "        vertical-align: top;\n",
       "    }\n",
       "\n",
       "    .dataframe thead th {\n",
       "        text-align: right;\n",
       "    }\n",
       "</style>\n",
       "<table border=\"1\" class=\"dataframe\">\n",
       "  <thead>\n",
       "    <tr style=\"text-align: right;\">\n",
       "      <th></th>\n",
       "      <th>passenger_count</th>\n",
       "      <th>trip_distance</th>\n",
       "      <th>fare_amount</th>\n",
       "      <th>extra</th>\n",
       "      <th>tip_amount</th>\n",
       "      <th>total_amount</th>\n",
       "      <th>duration</th>\n",
       "      <th>pickupday</th>\n",
       "      <th>isholiday</th>\n",
       "      <th>LaGuardia Airport</th>\n",
       "      <th>Lower Manhattan</th>\n",
       "      <th>Midtown</th>\n",
       "      <th>Upper East Side</th>\n",
       "    </tr>\n",
       "  </thead>\n",
       "  <tbody>\n",
       "    <tr>\n",
       "      <th>count</th>\n",
       "      <td>67440.000000</td>\n",
       "      <td>6.744000e+04</td>\n",
       "      <td>67440.000000</td>\n",
       "      <td>67440.000000</td>\n",
       "      <td>67440.000000</td>\n",
       "      <td>67440.000000</td>\n",
       "      <td>67440.000000</td>\n",
       "      <td>67440.000000</td>\n",
       "      <td>67440.000000</td>\n",
       "      <td>67440.000000</td>\n",
       "      <td>67440.000000</td>\n",
       "      <td>67440.000000</td>\n",
       "      <td>67440.000000</td>\n",
       "    </tr>\n",
       "    <tr>\n",
       "      <th>mean</th>\n",
       "      <td>1.700964</td>\n",
       "      <td>5.279263e+01</td>\n",
       "      <td>13.966014</td>\n",
       "      <td>0.287745</td>\n",
       "      <td>1.784418</td>\n",
       "      <td>17.335439</td>\n",
       "      <td>14.686907</td>\n",
       "      <td>15.836225</td>\n",
       "      <td>0.058170</td>\n",
       "      <td>0.107458</td>\n",
       "      <td>0.079167</td>\n",
       "      <td>0.575504</td>\n",
       "      <td>0.170552</td>\n",
       "    </tr>\n",
       "    <tr>\n",
       "      <th>std</th>\n",
       "      <td>1.354785</td>\n",
       "      <td>1.277665e+04</td>\n",
       "      <td>13.127648</td>\n",
       "      <td>0.366618</td>\n",
       "      <td>2.791333</td>\n",
       "      <td>16.081857</td>\n",
       "      <td>37.273105</td>\n",
       "      <td>8.718419</td>\n",
       "      <td>0.234067</td>\n",
       "      <td>0.309698</td>\n",
       "      <td>0.270001</td>\n",
       "      <td>0.494270</td>\n",
       "      <td>0.376119</td>\n",
       "    </tr>\n",
       "    <tr>\n",
       "      <th>min</th>\n",
       "      <td>0.000000</td>\n",
       "      <td>0.000000e+00</td>\n",
       "      <td>-52.000000</td>\n",
       "      <td>-1.000000</td>\n",
       "      <td>0.000000</td>\n",
       "      <td>-52.800000</td>\n",
       "      <td>0.000000</td>\n",
       "      <td>1.000000</td>\n",
       "      <td>0.000000</td>\n",
       "      <td>0.000000</td>\n",
       "      <td>0.000000</td>\n",
       "      <td>0.000000</td>\n",
       "      <td>0.000000</td>\n",
       "    </tr>\n",
       "    <tr>\n",
       "      <th>25%</th>\n",
       "      <td>1.000000</td>\n",
       "      <td>1.000000e+00</td>\n",
       "      <td>6.500000</td>\n",
       "      <td>0.000000</td>\n",
       "      <td>0.000000</td>\n",
       "      <td>8.300000</td>\n",
       "      <td>6.000000</td>\n",
       "      <td>8.000000</td>\n",
       "      <td>0.000000</td>\n",
       "      <td>0.000000</td>\n",
       "      <td>0.000000</td>\n",
       "      <td>0.000000</td>\n",
       "      <td>0.000000</td>\n",
       "    </tr>\n",
       "    <tr>\n",
       "      <th>50%</th>\n",
       "      <td>1.000000</td>\n",
       "      <td>1.720000e+00</td>\n",
       "      <td>9.000000</td>\n",
       "      <td>0.000000</td>\n",
       "      <td>1.000000</td>\n",
       "      <td>11.400000</td>\n",
       "      <td>10.000000</td>\n",
       "      <td>15.000000</td>\n",
       "      <td>0.000000</td>\n",
       "      <td>0.000000</td>\n",
       "      <td>0.000000</td>\n",
       "      <td>1.000000</td>\n",
       "      <td>0.000000</td>\n",
       "    </tr>\n",
       "    <tr>\n",
       "      <th>75%</th>\n",
       "      <td>2.000000</td>\n",
       "      <td>3.420000e+00</td>\n",
       "      <td>15.000000</td>\n",
       "      <td>0.500000</td>\n",
       "      <td>2.200000</td>\n",
       "      <td>17.800000</td>\n",
       "      <td>17.000000</td>\n",
       "      <td>23.000000</td>\n",
       "      <td>0.000000</td>\n",
       "      <td>0.000000</td>\n",
       "      <td>0.000000</td>\n",
       "      <td>1.000000</td>\n",
       "      <td>0.000000</td>\n",
       "    </tr>\n",
       "    <tr>\n",
       "      <th>max</th>\n",
       "      <td>6.000000</td>\n",
       "      <td>3.318000e+06</td>\n",
       "      <td>570.080000</td>\n",
       "      <td>1.000000</td>\n",
       "      <td>94.510000</td>\n",
       "      <td>590.380000</td>\n",
       "      <td>1440.000000</td>\n",
       "      <td>31.000000</td>\n",
       "      <td>1.000000</td>\n",
       "      <td>1.000000</td>\n",
       "      <td>1.000000</td>\n",
       "      <td>1.000000</td>\n",
       "      <td>1.000000</td>\n",
       "    </tr>\n",
       "  </tbody>\n",
       "</table>\n",
       "</div>"
      ],
      "text/plain": [
       "       passenger_count  trip_distance   fare_amount         extra    tip_amount  total_amount      duration     pickupday     isholiday  LaGuardia Airport  Lower Manhattan       Midtown  Upper East Side\n",
       "count     67440.000000   6.744000e+04  67440.000000  67440.000000  67440.000000  67440.000000  67440.000000  67440.000000  67440.000000       67440.000000     67440.000000  67440.000000     67440.000000\n",
       "mean          1.700964   5.279263e+01     13.966014      0.287745      1.784418     17.335439     14.686907     15.836225      0.058170           0.107458         0.079167      0.575504         0.170552\n",
       "std           1.354785   1.277665e+04     13.127648      0.366618      2.791333     16.081857     37.273105      8.718419      0.234067           0.309698         0.270001      0.494270         0.376119\n",
       "min           0.000000   0.000000e+00    -52.000000     -1.000000      0.000000    -52.800000      0.000000      1.000000      0.000000           0.000000         0.000000      0.000000         0.000000\n",
       "25%           1.000000   1.000000e+00      6.500000      0.000000      0.000000      8.300000      6.000000      8.000000      0.000000           0.000000         0.000000      0.000000         0.000000\n",
       "50%           1.000000   1.720000e+00      9.000000      0.000000      1.000000     11.400000     10.000000     15.000000      0.000000           0.000000         0.000000      1.000000         0.000000\n",
       "75%           2.000000   3.420000e+00     15.000000      0.500000      2.200000     17.800000     17.000000     23.000000      0.000000           0.000000         0.000000      1.000000         0.000000\n",
       "max           6.000000   3.318000e+06    570.080000      1.000000     94.510000    590.380000   1440.000000     31.000000      1.000000           1.000000         1.000000      1.000000         1.000000"
      ]
     },
     "execution_count": 28,
     "metadata": {},
     "output_type": "execute_result"
    }
   ],
   "source": [
    "df2.describe()"
   ]
  },
  {
   "cell_type": "markdown",
   "metadata": {},
   "source": [
    "### Treat Data Types"
   ]
  },
  {
   "cell_type": "code",
   "execution_count": 29,
   "metadata": {},
   "outputs": [
    {
     "name": "stdout",
     "output_type": "stream",
     "text": [
      "<class 'pandas.core.frame.DataFrame'>\n",
      "RangeIndex: 67440 entries, 0 to 67439\n",
      "Data columns (total 14 columns):\n",
      " #   Column             Non-Null Count  Dtype  \n",
      "---  ------             --------------  -----  \n",
      " 0   passenger_count    67440 non-null  int64  \n",
      " 1   trip_distance      67440 non-null  float64\n",
      " 2   fare_amount        67440 non-null  float64\n",
      " 3   extra              67440 non-null  float64\n",
      " 4   tip_amount         67440 non-null  float64\n",
      " 5   total_amount       67440 non-null  float64\n",
      " 6   duration           67440 non-null  float64\n",
      " 7   pickupday          67440 non-null  int64  \n",
      " 8   isholiday          67440 non-null  int64  \n",
      " 9   LaGuardia Airport  67440 non-null  uint8  \n",
      " 10  Lower Manhattan    67440 non-null  uint8  \n",
      " 11  Midtown            67440 non-null  uint8  \n",
      " 12  Upper East Side    67440 non-null  uint8  \n",
      " 13  demand             67440 non-null  object \n",
      "dtypes: float64(6), int64(3), object(1), uint8(4)\n",
      "memory usage: 5.4+ MB\n"
     ]
    }
   ],
   "source": [
    "df2.info()"
   ]
  },
  {
   "cell_type": "markdown",
   "metadata": {},
   "source": [
    "### Create and save processed dataset"
   ]
  },
  {
   "cell_type": "code",
   "execution_count": 30,
   "metadata": {},
   "outputs": [],
   "source": [
    "#df2.to_csv(\"finaltrain3.csv\",index=False)"
   ]
  },
  {
   "cell_type": "markdown",
   "metadata": {},
   "source": [
    "### Train Test Split"
   ]
  },
  {
   "cell_type": "code",
   "execution_count": 31,
   "metadata": {},
   "outputs": [],
   "source": [
    "df = pd.read_csv(\"finaltrain3.csv\")"
   ]
  },
  {
   "cell_type": "code",
   "execution_count": 32,
   "metadata": {},
   "outputs": [
    {
     "data": {
      "text/plain": [
       "(67440, 14)"
      ]
     },
     "execution_count": 32,
     "metadata": {},
     "output_type": "execute_result"
    }
   ],
   "source": [
    "df.shape"
   ]
  },
  {
   "cell_type": "code",
   "execution_count": 33,
   "metadata": {},
   "outputs": [
    {
     "data": {
      "text/html": [
       "<div>\n",
       "<style scoped>\n",
       "    .dataframe tbody tr th:only-of-type {\n",
       "        vertical-align: middle;\n",
       "    }\n",
       "\n",
       "    .dataframe tbody tr th {\n",
       "        vertical-align: top;\n",
       "    }\n",
       "\n",
       "    .dataframe thead th {\n",
       "        text-align: right;\n",
       "    }\n",
       "</style>\n",
       "<table border=\"1\" class=\"dataframe\">\n",
       "  <thead>\n",
       "    <tr style=\"text-align: right;\">\n",
       "      <th></th>\n",
       "      <th>passenger_count</th>\n",
       "      <th>trip_distance</th>\n",
       "      <th>fare_amount</th>\n",
       "      <th>extra</th>\n",
       "      <th>tip_amount</th>\n",
       "      <th>total_amount</th>\n",
       "      <th>duration</th>\n",
       "      <th>pickupday</th>\n",
       "      <th>isholiday</th>\n",
       "      <th>LaGuardia Airport</th>\n",
       "      <th>Lower Manhattan</th>\n",
       "      <th>Midtown</th>\n",
       "      <th>Upper East Side</th>\n",
       "      <th>demand</th>\n",
       "    </tr>\n",
       "  </thead>\n",
       "  <tbody>\n",
       "    <tr>\n",
       "      <th>0</th>\n",
       "      <td>2</td>\n",
       "      <td>12.74</td>\n",
       "      <td>47.5</td>\n",
       "      <td>0.5</td>\n",
       "      <td>9.6</td>\n",
       "      <td>58.40</td>\n",
       "      <td>24.0</td>\n",
       "      <td>29</td>\n",
       "      <td>0</td>\n",
       "      <td>0</td>\n",
       "      <td>0</td>\n",
       "      <td>0</td>\n",
       "      <td>0</td>\n",
       "      <td>low</td>\n",
       "    </tr>\n",
       "    <tr>\n",
       "      <th>1</th>\n",
       "      <td>1</td>\n",
       "      <td>17.50</td>\n",
       "      <td>52.0</td>\n",
       "      <td>0.0</td>\n",
       "      <td>7.0</td>\n",
       "      <td>65.13</td>\n",
       "      <td>32.0</td>\n",
       "      <td>1</td>\n",
       "      <td>1</td>\n",
       "      <td>0</td>\n",
       "      <td>0</td>\n",
       "      <td>0</td>\n",
       "      <td>0</td>\n",
       "      <td>low</td>\n",
       "    </tr>\n",
       "    <tr>\n",
       "      <th>2</th>\n",
       "      <td>2</td>\n",
       "      <td>18.50</td>\n",
       "      <td>51.0</td>\n",
       "      <td>0.5</td>\n",
       "      <td>0.0</td>\n",
       "      <td>57.63</td>\n",
       "      <td>30.0</td>\n",
       "      <td>18</td>\n",
       "      <td>0</td>\n",
       "      <td>0</td>\n",
       "      <td>0</td>\n",
       "      <td>0</td>\n",
       "      <td>0</td>\n",
       "      <td>low</td>\n",
       "    </tr>\n",
       "    <tr>\n",
       "      <th>3</th>\n",
       "      <td>1</td>\n",
       "      <td>14.80</td>\n",
       "      <td>41.0</td>\n",
       "      <td>0.0</td>\n",
       "      <td>0.0</td>\n",
       "      <td>41.80</td>\n",
       "      <td>29.0</td>\n",
       "      <td>13</td>\n",
       "      <td>0</td>\n",
       "      <td>0</td>\n",
       "      <td>0</td>\n",
       "      <td>0</td>\n",
       "      <td>0</td>\n",
       "      <td>low</td>\n",
       "    </tr>\n",
       "    <tr>\n",
       "      <th>4</th>\n",
       "      <td>1</td>\n",
       "      <td>14.30</td>\n",
       "      <td>39.5</td>\n",
       "      <td>0.5</td>\n",
       "      <td>0.0</td>\n",
       "      <td>40.80</td>\n",
       "      <td>22.0</td>\n",
       "      <td>29</td>\n",
       "      <td>0</td>\n",
       "      <td>0</td>\n",
       "      <td>0</td>\n",
       "      <td>0</td>\n",
       "      <td>0</td>\n",
       "      <td>low</td>\n",
       "    </tr>\n",
       "  </tbody>\n",
       "</table>\n",
       "</div>"
      ],
      "text/plain": [
       "   passenger_count  trip_distance  fare_amount  extra  tip_amount  total_amount  duration  pickupday  isholiday  LaGuardia Airport  Lower Manhattan  Midtown  Upper East Side demand\n",
       "0                2          12.74         47.5    0.5         9.6         58.40      24.0         29          0                  0                0        0                0    low\n",
       "1                1          17.50         52.0    0.0         7.0         65.13      32.0          1          1                  0                0        0                0    low\n",
       "2                2          18.50         51.0    0.5         0.0         57.63      30.0         18          0                  0                0        0                0    low\n",
       "3                1          14.80         41.0    0.0         0.0         41.80      29.0         13          0                  0                0        0                0    low\n",
       "4                1          14.30         39.5    0.5         0.0         40.80      22.0         29          0                  0                0        0                0    low"
      ]
     },
     "execution_count": 33,
     "metadata": {},
     "output_type": "execute_result"
    }
   ],
   "source": [
    "df.head()"
   ]
  },
  {
   "cell_type": "code",
   "execution_count": 34,
   "metadata": {},
   "outputs": [
    {
     "data": {
      "text/plain": [
       "low       56917\n",
       "high       6304\n",
       "medium     4219\n",
       "Name: demand, dtype: int64"
      ]
     },
     "execution_count": 34,
     "metadata": {},
     "output_type": "execute_result"
    }
   ],
   "source": [
    "df[\"demand\"].value_counts()"
   ]
  },
  {
   "cell_type": "code",
   "execution_count": 35,
   "metadata": {},
   "outputs": [],
   "source": [
    "le = LabelEncoder()"
   ]
  },
  {
   "cell_type": "code",
   "execution_count": 36,
   "metadata": {},
   "outputs": [],
   "source": [
    "df[\"demand\"] = le.fit_transform(df[\"demand\"])"
   ]
  },
  {
   "cell_type": "code",
   "execution_count": 37,
   "metadata": {},
   "outputs": [
    {
     "data": {
      "text/html": [
       "<div>\n",
       "<style scoped>\n",
       "    .dataframe tbody tr th:only-of-type {\n",
       "        vertical-align: middle;\n",
       "    }\n",
       "\n",
       "    .dataframe tbody tr th {\n",
       "        vertical-align: top;\n",
       "    }\n",
       "\n",
       "    .dataframe thead th {\n",
       "        text-align: right;\n",
       "    }\n",
       "</style>\n",
       "<table border=\"1\" class=\"dataframe\">\n",
       "  <thead>\n",
       "    <tr style=\"text-align: right;\">\n",
       "      <th></th>\n",
       "      <th>passenger_count</th>\n",
       "      <th>trip_distance</th>\n",
       "      <th>fare_amount</th>\n",
       "      <th>extra</th>\n",
       "      <th>tip_amount</th>\n",
       "      <th>total_amount</th>\n",
       "      <th>duration</th>\n",
       "      <th>pickupday</th>\n",
       "      <th>isholiday</th>\n",
       "      <th>LaGuardia Airport</th>\n",
       "      <th>Lower Manhattan</th>\n",
       "      <th>Midtown</th>\n",
       "      <th>Upper East Side</th>\n",
       "      <th>demand</th>\n",
       "    </tr>\n",
       "  </thead>\n",
       "  <tbody>\n",
       "    <tr>\n",
       "      <th>0</th>\n",
       "      <td>2</td>\n",
       "      <td>12.74</td>\n",
       "      <td>47.5</td>\n",
       "      <td>0.5</td>\n",
       "      <td>9.6</td>\n",
       "      <td>58.40</td>\n",
       "      <td>24.0</td>\n",
       "      <td>29</td>\n",
       "      <td>0</td>\n",
       "      <td>0</td>\n",
       "      <td>0</td>\n",
       "      <td>0</td>\n",
       "      <td>0</td>\n",
       "      <td>1</td>\n",
       "    </tr>\n",
       "    <tr>\n",
       "      <th>1</th>\n",
       "      <td>1</td>\n",
       "      <td>17.50</td>\n",
       "      <td>52.0</td>\n",
       "      <td>0.0</td>\n",
       "      <td>7.0</td>\n",
       "      <td>65.13</td>\n",
       "      <td>32.0</td>\n",
       "      <td>1</td>\n",
       "      <td>1</td>\n",
       "      <td>0</td>\n",
       "      <td>0</td>\n",
       "      <td>0</td>\n",
       "      <td>0</td>\n",
       "      <td>1</td>\n",
       "    </tr>\n",
       "    <tr>\n",
       "      <th>2</th>\n",
       "      <td>2</td>\n",
       "      <td>18.50</td>\n",
       "      <td>51.0</td>\n",
       "      <td>0.5</td>\n",
       "      <td>0.0</td>\n",
       "      <td>57.63</td>\n",
       "      <td>30.0</td>\n",
       "      <td>18</td>\n",
       "      <td>0</td>\n",
       "      <td>0</td>\n",
       "      <td>0</td>\n",
       "      <td>0</td>\n",
       "      <td>0</td>\n",
       "      <td>1</td>\n",
       "    </tr>\n",
       "    <tr>\n",
       "      <th>3</th>\n",
       "      <td>1</td>\n",
       "      <td>14.80</td>\n",
       "      <td>41.0</td>\n",
       "      <td>0.0</td>\n",
       "      <td>0.0</td>\n",
       "      <td>41.80</td>\n",
       "      <td>29.0</td>\n",
       "      <td>13</td>\n",
       "      <td>0</td>\n",
       "      <td>0</td>\n",
       "      <td>0</td>\n",
       "      <td>0</td>\n",
       "      <td>0</td>\n",
       "      <td>1</td>\n",
       "    </tr>\n",
       "    <tr>\n",
       "      <th>4</th>\n",
       "      <td>1</td>\n",
       "      <td>14.30</td>\n",
       "      <td>39.5</td>\n",
       "      <td>0.5</td>\n",
       "      <td>0.0</td>\n",
       "      <td>40.80</td>\n",
       "      <td>22.0</td>\n",
       "      <td>29</td>\n",
       "      <td>0</td>\n",
       "      <td>0</td>\n",
       "      <td>0</td>\n",
       "      <td>0</td>\n",
       "      <td>0</td>\n",
       "      <td>1</td>\n",
       "    </tr>\n",
       "  </tbody>\n",
       "</table>\n",
       "</div>"
      ],
      "text/plain": [
       "   passenger_count  trip_distance  fare_amount  extra  tip_amount  total_amount  duration  pickupday  isholiday  LaGuardia Airport  Lower Manhattan  Midtown  Upper East Side  demand\n",
       "0                2          12.74         47.5    0.5         9.6         58.40      24.0         29          0                  0                0        0                0       1\n",
       "1                1          17.50         52.0    0.0         7.0         65.13      32.0          1          1                  0                0        0                0       1\n",
       "2                2          18.50         51.0    0.5         0.0         57.63      30.0         18          0                  0                0        0                0       1\n",
       "3                1          14.80         41.0    0.0         0.0         41.80      29.0         13          0                  0                0        0                0       1\n",
       "4                1          14.30         39.5    0.5         0.0         40.80      22.0         29          0                  0                0        0                0       1"
      ]
     },
     "execution_count": 37,
     "metadata": {},
     "output_type": "execute_result"
    }
   ],
   "source": [
    "df.head()"
   ]
  },
  {
   "cell_type": "code",
   "execution_count": 38,
   "metadata": {},
   "outputs": [
    {
     "data": {
      "text/plain": [
       "1    56917\n",
       "0     6304\n",
       "2     4219\n",
       "Name: demand, dtype: int64"
      ]
     },
     "execution_count": 38,
     "metadata": {},
     "output_type": "execute_result"
    }
   ],
   "source": [
    "df[\"demand\"].value_counts()  # Low = 1; Medium = 2, High = 0"
   ]
  },
  {
   "cell_type": "code",
   "execution_count": 39,
   "metadata": {},
   "outputs": [],
   "source": [
    "#df.to_csv(\"finaltrain4.csv\",index=False)"
   ]
  },
  {
   "cell_type": "code",
   "execution_count": 40,
   "metadata": {},
   "outputs": [],
   "source": [
    "X = df.iloc[:,0:13]\n",
    "y = df.iloc[:,13]"
   ]
  },
  {
   "cell_type": "code",
   "execution_count": 41,
   "metadata": {},
   "outputs": [
    {
     "data": {
      "text/plain": [
       "(array([[ 2.  , 12.74, 47.5 , ...,  0.  ,  0.  ,  0.  ],\n",
       "        [ 1.  , 17.5 , 52.  , ...,  0.  ,  0.  ,  0.  ],\n",
       "        [ 2.  , 18.5 , 51.  , ...,  0.  ,  0.  ,  0.  ],\n",
       "        ...,\n",
       "        [ 5.  ,  1.54,  7.5 , ...,  0.  ,  0.  ,  1.  ],\n",
       "        [ 1.  ,  0.78,  5.5 , ...,  0.  ,  0.  ,  1.  ],\n",
       "        [ 1.  ,  1.01,  7.  , ...,  0.  ,  0.  ,  1.  ]]),\n",
       " array([1, 1, 1, ..., 0, 1, 1]))"
      ]
     },
     "execution_count": 41,
     "metadata": {},
     "output_type": "execute_result"
    }
   ],
   "source": [
    "X.values, y.values"
   ]
  },
  {
   "cell_type": "code",
   "execution_count": 42,
   "metadata": {},
   "outputs": [],
   "source": [
    "X_train, X_test, y_train, y_test = train_test_split(X, y, test_size=0.2, random_state=0)"
   ]
  },
  {
   "cell_type": "code",
   "execution_count": 43,
   "metadata": {},
   "outputs": [
    {
     "data": {
      "text/plain": [
       "((53952, 13), (13488, 13), (53952,), (13488,))"
      ]
     },
     "execution_count": 43,
     "metadata": {},
     "output_type": "execute_result"
    }
   ],
   "source": [
    "X_train.shape, X_test.shape, y_train.shape, y_test.shape"
   ]
  },
  {
   "cell_type": "markdown",
   "metadata": {},
   "source": [
    "### Feature Scaling"
   ]
  },
  {
   "cell_type": "code",
   "execution_count": 44,
   "metadata": {},
   "outputs": [
    {
     "data": {
      "text/html": [
       "<div>\n",
       "<style scoped>\n",
       "    .dataframe tbody tr th:only-of-type {\n",
       "        vertical-align: middle;\n",
       "    }\n",
       "\n",
       "    .dataframe tbody tr th {\n",
       "        vertical-align: top;\n",
       "    }\n",
       "\n",
       "    .dataframe thead th {\n",
       "        text-align: right;\n",
       "    }\n",
       "</style>\n",
       "<table border=\"1\" class=\"dataframe\">\n",
       "  <thead>\n",
       "    <tr style=\"text-align: right;\">\n",
       "      <th></th>\n",
       "      <th>passenger_count</th>\n",
       "      <th>trip_distance</th>\n",
       "      <th>fare_amount</th>\n",
       "      <th>extra</th>\n",
       "      <th>tip_amount</th>\n",
       "      <th>total_amount</th>\n",
       "      <th>duration</th>\n",
       "      <th>pickupday</th>\n",
       "      <th>isholiday</th>\n",
       "      <th>LaGuardia Airport</th>\n",
       "      <th>Lower Manhattan</th>\n",
       "      <th>Midtown</th>\n",
       "      <th>Upper East Side</th>\n",
       "    </tr>\n",
       "  </thead>\n",
       "  <tbody>\n",
       "    <tr>\n",
       "      <th>66137</th>\n",
       "      <td>1</td>\n",
       "      <td>9.79</td>\n",
       "      <td>30.0</td>\n",
       "      <td>0.0</td>\n",
       "      <td>8.83</td>\n",
       "      <td>44.96</td>\n",
       "      <td>24.0</td>\n",
       "      <td>13</td>\n",
       "      <td>0</td>\n",
       "      <td>0</td>\n",
       "      <td>0</td>\n",
       "      <td>0</td>\n",
       "      <td>1</td>\n",
       "    </tr>\n",
       "    <tr>\n",
       "      <th>41743</th>\n",
       "      <td>1</td>\n",
       "      <td>1.28</td>\n",
       "      <td>6.5</td>\n",
       "      <td>1.0</td>\n",
       "      <td>0.00</td>\n",
       "      <td>8.30</td>\n",
       "      <td>6.0</td>\n",
       "      <td>20</td>\n",
       "      <td>0</td>\n",
       "      <td>0</td>\n",
       "      <td>0</td>\n",
       "      <td>1</td>\n",
       "      <td>0</td>\n",
       "    </tr>\n",
       "    <tr>\n",
       "      <th>12199</th>\n",
       "      <td>1</td>\n",
       "      <td>0.80</td>\n",
       "      <td>5.0</td>\n",
       "      <td>1.0</td>\n",
       "      <td>1.35</td>\n",
       "      <td>8.15</td>\n",
       "      <td>5.0</td>\n",
       "      <td>21</td>\n",
       "      <td>0</td>\n",
       "      <td>0</td>\n",
       "      <td>1</td>\n",
       "      <td>0</td>\n",
       "      <td>0</td>\n",
       "    </tr>\n",
       "    <tr>\n",
       "      <th>9707</th>\n",
       "      <td>1</td>\n",
       "      <td>4.12</td>\n",
       "      <td>18.5</td>\n",
       "      <td>0.0</td>\n",
       "      <td>2.00</td>\n",
       "      <td>21.30</td>\n",
       "      <td>25.0</td>\n",
       "      <td>31</td>\n",
       "      <td>0</td>\n",
       "      <td>1</td>\n",
       "      <td>0</td>\n",
       "      <td>0</td>\n",
       "      <td>0</td>\n",
       "    </tr>\n",
       "    <tr>\n",
       "      <th>22540</th>\n",
       "      <td>1</td>\n",
       "      <td>0.55</td>\n",
       "      <td>4.5</td>\n",
       "      <td>0.5</td>\n",
       "      <td>1.50</td>\n",
       "      <td>7.30</td>\n",
       "      <td>4.0</td>\n",
       "      <td>5</td>\n",
       "      <td>0</td>\n",
       "      <td>0</td>\n",
       "      <td>0</td>\n",
       "      <td>1</td>\n",
       "      <td>0</td>\n",
       "    </tr>\n",
       "    <tr>\n",
       "      <th>...</th>\n",
       "      <td>...</td>\n",
       "      <td>...</td>\n",
       "      <td>...</td>\n",
       "      <td>...</td>\n",
       "      <td>...</td>\n",
       "      <td>...</td>\n",
       "      <td>...</td>\n",
       "      <td>...</td>\n",
       "      <td>...</td>\n",
       "      <td>...</td>\n",
       "      <td>...</td>\n",
       "      <td>...</td>\n",
       "      <td>...</td>\n",
       "    </tr>\n",
       "    <tr>\n",
       "      <th>41993</th>\n",
       "      <td>1</td>\n",
       "      <td>1.49</td>\n",
       "      <td>8.5</td>\n",
       "      <td>0.0</td>\n",
       "      <td>2.79</td>\n",
       "      <td>12.09</td>\n",
       "      <td>11.0</td>\n",
       "      <td>30</td>\n",
       "      <td>0</td>\n",
       "      <td>0</td>\n",
       "      <td>0</td>\n",
       "      <td>1</td>\n",
       "      <td>0</td>\n",
       "    </tr>\n",
       "    <tr>\n",
       "      <th>21243</th>\n",
       "      <td>1</td>\n",
       "      <td>3.53</td>\n",
       "      <td>13.5</td>\n",
       "      <td>0.0</td>\n",
       "      <td>2.00</td>\n",
       "      <td>16.30</td>\n",
       "      <td>17.0</td>\n",
       "      <td>28</td>\n",
       "      <td>0</td>\n",
       "      <td>0</td>\n",
       "      <td>0</td>\n",
       "      <td>1</td>\n",
       "      <td>0</td>\n",
       "    </tr>\n",
       "    <tr>\n",
       "      <th>45891</th>\n",
       "      <td>2</td>\n",
       "      <td>0.50</td>\n",
       "      <td>5.5</td>\n",
       "      <td>0.0</td>\n",
       "      <td>1.25</td>\n",
       "      <td>7.55</td>\n",
       "      <td>6.0</td>\n",
       "      <td>10</td>\n",
       "      <td>0</td>\n",
       "      <td>0</td>\n",
       "      <td>0</td>\n",
       "      <td>1</td>\n",
       "      <td>0</td>\n",
       "    </tr>\n",
       "    <tr>\n",
       "      <th>42613</th>\n",
       "      <td>1</td>\n",
       "      <td>4.00</td>\n",
       "      <td>14.0</td>\n",
       "      <td>0.5</td>\n",
       "      <td>0.00</td>\n",
       "      <td>15.30</td>\n",
       "      <td>10.0</td>\n",
       "      <td>21</td>\n",
       "      <td>0</td>\n",
       "      <td>0</td>\n",
       "      <td>0</td>\n",
       "      <td>1</td>\n",
       "      <td>0</td>\n",
       "    </tr>\n",
       "    <tr>\n",
       "      <th>43567</th>\n",
       "      <td>1</td>\n",
       "      <td>2.50</td>\n",
       "      <td>12.0</td>\n",
       "      <td>0.0</td>\n",
       "      <td>3.80</td>\n",
       "      <td>16.60</td>\n",
       "      <td>14.0</td>\n",
       "      <td>25</td>\n",
       "      <td>0</td>\n",
       "      <td>0</td>\n",
       "      <td>0</td>\n",
       "      <td>1</td>\n",
       "      <td>0</td>\n",
       "    </tr>\n",
       "  </tbody>\n",
       "</table>\n",
       "<p>53952 rows × 13 columns</p>\n",
       "</div>"
      ],
      "text/plain": [
       "       passenger_count  trip_distance  fare_amount  extra  tip_amount  total_amount  duration  pickupday  isholiday  LaGuardia Airport  Lower Manhattan  Midtown  Upper East Side\n",
       "66137                1           9.79         30.0    0.0        8.83         44.96      24.0         13          0                  0                0        0                1\n",
       "41743                1           1.28          6.5    1.0        0.00          8.30       6.0         20          0                  0                0        1                0\n",
       "12199                1           0.80          5.0    1.0        1.35          8.15       5.0         21          0                  0                1        0                0\n",
       "9707                 1           4.12         18.5    0.0        2.00         21.30      25.0         31          0                  1                0        0                0\n",
       "22540                1           0.55          4.5    0.5        1.50          7.30       4.0          5          0                  0                0        1                0\n",
       "...                ...            ...          ...    ...         ...           ...       ...        ...        ...                ...              ...      ...              ...\n",
       "41993                1           1.49          8.5    0.0        2.79         12.09      11.0         30          0                  0                0        1                0\n",
       "21243                1           3.53         13.5    0.0        2.00         16.30      17.0         28          0                  0                0        1                0\n",
       "45891                2           0.50          5.5    0.0        1.25          7.55       6.0         10          0                  0                0        1                0\n",
       "42613                1           4.00         14.0    0.5        0.00         15.30      10.0         21          0                  0                0        1                0\n",
       "43567                1           2.50         12.0    0.0        3.80         16.60      14.0         25          0                  0                0        1                0\n",
       "\n",
       "[53952 rows x 13 columns]"
      ]
     },
     "execution_count": 44,
     "metadata": {},
     "output_type": "execute_result"
    }
   ],
   "source": [
    "X_train"
   ]
  },
  {
   "cell_type": "code",
   "execution_count": 45,
   "metadata": {},
   "outputs": [],
   "source": [
    "minmax = MinMaxScaler()"
   ]
  },
  {
   "cell_type": "code",
   "execution_count": 46,
   "metadata": {},
   "outputs": [],
   "source": [
    "X_train_scaled = minmax.fit_transform(X_train)"
   ]
  },
  {
   "cell_type": "code",
   "execution_count": 47,
   "metadata": {},
   "outputs": [],
   "source": [
    "X_test_scaled = minmax.transform(X_test)"
   ]
  },
  {
   "cell_type": "code",
   "execution_count": 48,
   "metadata": {},
   "outputs": [
    {
     "data": {
      "text/plain": [
       "array([[0.16666667, 0.00000295, 0.13181584, ..., 0.        , 0.        ,\n",
       "        1.        ],\n",
       "       [0.16666667, 0.00000039, 0.09403935, ..., 0.        , 1.        ,\n",
       "        0.        ],\n",
       "       [0.16666667, 0.00000024, 0.09162809, ..., 1.        , 0.        ,\n",
       "        0.        ],\n",
       "       ...,\n",
       "       [0.33333333, 0.00000015, 0.09243184, ..., 0.        , 1.        ,\n",
       "        0.        ],\n",
       "       [0.16666667, 0.00000121, 0.10609568, ..., 0.        , 1.        ,\n",
       "        0.        ],\n",
       "       [0.16666667, 0.00000075, 0.10288066, ..., 0.        , 1.        ,\n",
       "        0.        ]])"
      ]
     },
     "execution_count": 48,
     "metadata": {},
     "output_type": "execute_result"
    }
   ],
   "source": [
    "X_train_scaled"
   ]
  },
  {
   "cell_type": "code",
   "execution_count": 49,
   "metadata": {},
   "outputs": [
    {
     "data": {
      "text/plain": [
       "array([[0.5       , 0.00000579, 0.16718107, ..., 0.        , 0.        ,\n",
       "        0.        ],\n",
       "       [0.16666667, 0.00000036, 0.0932356 , ..., 0.        , 1.        ,\n",
       "        0.        ],\n",
       "       [0.33333333, 0.00000058, 0.09805813, ..., 0.        , 1.        ,\n",
       "        0.        ],\n",
       "       ...,\n",
       "       [0.16666667, 0.00000527, 0.16718107, ..., 0.        , 0.        ,\n",
       "        0.        ],\n",
       "       [0.16666667, 0.00000043, 0.09484311, ..., 0.        , 1.        ,\n",
       "        0.        ],\n",
       "       [0.16666667, 0.00000096, 0.10689943, ..., 0.        , 0.        ,\n",
       "        0.        ]])"
      ]
     },
     "execution_count": 49,
     "metadata": {},
     "output_type": "execute_result"
    }
   ],
   "source": [
    "X_test_scaled"
   ]
  },
  {
   "cell_type": "markdown",
   "metadata": {},
   "source": [
    "### Model Training"
   ]
  },
  {
   "cell_type": "markdown",
   "metadata": {},
   "source": [
    "### Using PyCaret"
   ]
  },
  {
   "cell_type": "code",
   "execution_count": 50,
   "metadata": {},
   "outputs": [
    {
     "data": {
      "text/html": [
       "<style  type=\"text/css\" >\n",
       "#T_85cc8067_45d1_11eb_8f9c_3c528213d836row29_col1{\n",
       "            background-color:  lightgreen;\n",
       "        }</style><table id=\"T_85cc8067_45d1_11eb_8f9c_3c528213d836\" ><thead>    <tr>        <th class=\"blank level0\" ></th>        <th class=\"col_heading level0 col0\" >Description</th>        <th class=\"col_heading level0 col1\" >Value</th>    </tr></thead><tbody>\n",
       "                <tr>\n",
       "                        <th id=\"T_85cc8067_45d1_11eb_8f9c_3c528213d836level0_row0\" class=\"row_heading level0 row0\" >0</th>\n",
       "                        <td id=\"T_85cc8067_45d1_11eb_8f9c_3c528213d836row0_col0\" class=\"data row0 col0\" >session_id</td>\n",
       "                        <td id=\"T_85cc8067_45d1_11eb_8f9c_3c528213d836row0_col1\" class=\"data row0 col1\" >0</td>\n",
       "            </tr>\n",
       "            <tr>\n",
       "                        <th id=\"T_85cc8067_45d1_11eb_8f9c_3c528213d836level0_row1\" class=\"row_heading level0 row1\" >1</th>\n",
       "                        <td id=\"T_85cc8067_45d1_11eb_8f9c_3c528213d836row1_col0\" class=\"data row1 col0\" >Target</td>\n",
       "                        <td id=\"T_85cc8067_45d1_11eb_8f9c_3c528213d836row1_col1\" class=\"data row1 col1\" >demand</td>\n",
       "            </tr>\n",
       "            <tr>\n",
       "                        <th id=\"T_85cc8067_45d1_11eb_8f9c_3c528213d836level0_row2\" class=\"row_heading level0 row2\" >2</th>\n",
       "                        <td id=\"T_85cc8067_45d1_11eb_8f9c_3c528213d836row2_col0\" class=\"data row2 col0\" >Target Type</td>\n",
       "                        <td id=\"T_85cc8067_45d1_11eb_8f9c_3c528213d836row2_col1\" class=\"data row2 col1\" >Multiclass</td>\n",
       "            </tr>\n",
       "            <tr>\n",
       "                        <th id=\"T_85cc8067_45d1_11eb_8f9c_3c528213d836level0_row3\" class=\"row_heading level0 row3\" >3</th>\n",
       "                        <td id=\"T_85cc8067_45d1_11eb_8f9c_3c528213d836row3_col0\" class=\"data row3 col0\" >Label Encoded</td>\n",
       "                        <td id=\"T_85cc8067_45d1_11eb_8f9c_3c528213d836row3_col1\" class=\"data row3 col1\" >None</td>\n",
       "            </tr>\n",
       "            <tr>\n",
       "                        <th id=\"T_85cc8067_45d1_11eb_8f9c_3c528213d836level0_row4\" class=\"row_heading level0 row4\" >4</th>\n",
       "                        <td id=\"T_85cc8067_45d1_11eb_8f9c_3c528213d836row4_col0\" class=\"data row4 col0\" >Original Data</td>\n",
       "                        <td id=\"T_85cc8067_45d1_11eb_8f9c_3c528213d836row4_col1\" class=\"data row4 col1\" >(67440, 14)</td>\n",
       "            </tr>\n",
       "            <tr>\n",
       "                        <th id=\"T_85cc8067_45d1_11eb_8f9c_3c528213d836level0_row5\" class=\"row_heading level0 row5\" >5</th>\n",
       "                        <td id=\"T_85cc8067_45d1_11eb_8f9c_3c528213d836row5_col0\" class=\"data row5 col0\" >Missing Values</td>\n",
       "                        <td id=\"T_85cc8067_45d1_11eb_8f9c_3c528213d836row5_col1\" class=\"data row5 col1\" >False</td>\n",
       "            </tr>\n",
       "            <tr>\n",
       "                        <th id=\"T_85cc8067_45d1_11eb_8f9c_3c528213d836level0_row6\" class=\"row_heading level0 row6\" >6</th>\n",
       "                        <td id=\"T_85cc8067_45d1_11eb_8f9c_3c528213d836row6_col0\" class=\"data row6 col0\" >Numeric Features</td>\n",
       "                        <td id=\"T_85cc8067_45d1_11eb_8f9c_3c528213d836row6_col1\" class=\"data row6 col1\" >8</td>\n",
       "            </tr>\n",
       "            <tr>\n",
       "                        <th id=\"T_85cc8067_45d1_11eb_8f9c_3c528213d836level0_row7\" class=\"row_heading level0 row7\" >7</th>\n",
       "                        <td id=\"T_85cc8067_45d1_11eb_8f9c_3c528213d836row7_col0\" class=\"data row7 col0\" >Categorical Features</td>\n",
       "                        <td id=\"T_85cc8067_45d1_11eb_8f9c_3c528213d836row7_col1\" class=\"data row7 col1\" >5</td>\n",
       "            </tr>\n",
       "            <tr>\n",
       "                        <th id=\"T_85cc8067_45d1_11eb_8f9c_3c528213d836level0_row8\" class=\"row_heading level0 row8\" >8</th>\n",
       "                        <td id=\"T_85cc8067_45d1_11eb_8f9c_3c528213d836row8_col0\" class=\"data row8 col0\" >Ordinal Features</td>\n",
       "                        <td id=\"T_85cc8067_45d1_11eb_8f9c_3c528213d836row8_col1\" class=\"data row8 col1\" >False</td>\n",
       "            </tr>\n",
       "            <tr>\n",
       "                        <th id=\"T_85cc8067_45d1_11eb_8f9c_3c528213d836level0_row9\" class=\"row_heading level0 row9\" >9</th>\n",
       "                        <td id=\"T_85cc8067_45d1_11eb_8f9c_3c528213d836row9_col0\" class=\"data row9 col0\" >High Cardinality Features</td>\n",
       "                        <td id=\"T_85cc8067_45d1_11eb_8f9c_3c528213d836row9_col1\" class=\"data row9 col1\" >False</td>\n",
       "            </tr>\n",
       "            <tr>\n",
       "                        <th id=\"T_85cc8067_45d1_11eb_8f9c_3c528213d836level0_row10\" class=\"row_heading level0 row10\" >10</th>\n",
       "                        <td id=\"T_85cc8067_45d1_11eb_8f9c_3c528213d836row10_col0\" class=\"data row10 col0\" >High Cardinality Method</td>\n",
       "                        <td id=\"T_85cc8067_45d1_11eb_8f9c_3c528213d836row10_col1\" class=\"data row10 col1\" >None</td>\n",
       "            </tr>\n",
       "            <tr>\n",
       "                        <th id=\"T_85cc8067_45d1_11eb_8f9c_3c528213d836level0_row11\" class=\"row_heading level0 row11\" >11</th>\n",
       "                        <td id=\"T_85cc8067_45d1_11eb_8f9c_3c528213d836row11_col0\" class=\"data row11 col0\" >Transformed Train Set</td>\n",
       "                        <td id=\"T_85cc8067_45d1_11eb_8f9c_3c528213d836row11_col1\" class=\"data row11 col1\" >(53952, 13)</td>\n",
       "            </tr>\n",
       "            <tr>\n",
       "                        <th id=\"T_85cc8067_45d1_11eb_8f9c_3c528213d836level0_row12\" class=\"row_heading level0 row12\" >12</th>\n",
       "                        <td id=\"T_85cc8067_45d1_11eb_8f9c_3c528213d836row12_col0\" class=\"data row12 col0\" >Transformed Test Set</td>\n",
       "                        <td id=\"T_85cc8067_45d1_11eb_8f9c_3c528213d836row12_col1\" class=\"data row12 col1\" >(13488, 13)</td>\n",
       "            </tr>\n",
       "            <tr>\n",
       "                        <th id=\"T_85cc8067_45d1_11eb_8f9c_3c528213d836level0_row13\" class=\"row_heading level0 row13\" >13</th>\n",
       "                        <td id=\"T_85cc8067_45d1_11eb_8f9c_3c528213d836row13_col0\" class=\"data row13 col0\" >Shuffle Train-Test</td>\n",
       "                        <td id=\"T_85cc8067_45d1_11eb_8f9c_3c528213d836row13_col1\" class=\"data row13 col1\" >True</td>\n",
       "            </tr>\n",
       "            <tr>\n",
       "                        <th id=\"T_85cc8067_45d1_11eb_8f9c_3c528213d836level0_row14\" class=\"row_heading level0 row14\" >14</th>\n",
       "                        <td id=\"T_85cc8067_45d1_11eb_8f9c_3c528213d836row14_col0\" class=\"data row14 col0\" >Stratify Train-Test</td>\n",
       "                        <td id=\"T_85cc8067_45d1_11eb_8f9c_3c528213d836row14_col1\" class=\"data row14 col1\" >False</td>\n",
       "            </tr>\n",
       "            <tr>\n",
       "                        <th id=\"T_85cc8067_45d1_11eb_8f9c_3c528213d836level0_row15\" class=\"row_heading level0 row15\" >15</th>\n",
       "                        <td id=\"T_85cc8067_45d1_11eb_8f9c_3c528213d836row15_col0\" class=\"data row15 col0\" >Fold Generator</td>\n",
       "                        <td id=\"T_85cc8067_45d1_11eb_8f9c_3c528213d836row15_col1\" class=\"data row15 col1\" >StratifiedKFold</td>\n",
       "            </tr>\n",
       "            <tr>\n",
       "                        <th id=\"T_85cc8067_45d1_11eb_8f9c_3c528213d836level0_row16\" class=\"row_heading level0 row16\" >16</th>\n",
       "                        <td id=\"T_85cc8067_45d1_11eb_8f9c_3c528213d836row16_col0\" class=\"data row16 col0\" >Fold Number</td>\n",
       "                        <td id=\"T_85cc8067_45d1_11eb_8f9c_3c528213d836row16_col1\" class=\"data row16 col1\" >10</td>\n",
       "            </tr>\n",
       "            <tr>\n",
       "                        <th id=\"T_85cc8067_45d1_11eb_8f9c_3c528213d836level0_row17\" class=\"row_heading level0 row17\" >17</th>\n",
       "                        <td id=\"T_85cc8067_45d1_11eb_8f9c_3c528213d836row17_col0\" class=\"data row17 col0\" >CPU Jobs</td>\n",
       "                        <td id=\"T_85cc8067_45d1_11eb_8f9c_3c528213d836row17_col1\" class=\"data row17 col1\" >-1</td>\n",
       "            </tr>\n",
       "            <tr>\n",
       "                        <th id=\"T_85cc8067_45d1_11eb_8f9c_3c528213d836level0_row18\" class=\"row_heading level0 row18\" >18</th>\n",
       "                        <td id=\"T_85cc8067_45d1_11eb_8f9c_3c528213d836row18_col0\" class=\"data row18 col0\" >Use GPU</td>\n",
       "                        <td id=\"T_85cc8067_45d1_11eb_8f9c_3c528213d836row18_col1\" class=\"data row18 col1\" >False</td>\n",
       "            </tr>\n",
       "            <tr>\n",
       "                        <th id=\"T_85cc8067_45d1_11eb_8f9c_3c528213d836level0_row19\" class=\"row_heading level0 row19\" >19</th>\n",
       "                        <td id=\"T_85cc8067_45d1_11eb_8f9c_3c528213d836row19_col0\" class=\"data row19 col0\" >Log Experiment</td>\n",
       "                        <td id=\"T_85cc8067_45d1_11eb_8f9c_3c528213d836row19_col1\" class=\"data row19 col1\" >False</td>\n",
       "            </tr>\n",
       "            <tr>\n",
       "                        <th id=\"T_85cc8067_45d1_11eb_8f9c_3c528213d836level0_row20\" class=\"row_heading level0 row20\" >20</th>\n",
       "                        <td id=\"T_85cc8067_45d1_11eb_8f9c_3c528213d836row20_col0\" class=\"data row20 col0\" >Experiment Name</td>\n",
       "                        <td id=\"T_85cc8067_45d1_11eb_8f9c_3c528213d836row20_col1\" class=\"data row20 col1\" >clf-default-name</td>\n",
       "            </tr>\n",
       "            <tr>\n",
       "                        <th id=\"T_85cc8067_45d1_11eb_8f9c_3c528213d836level0_row21\" class=\"row_heading level0 row21\" >21</th>\n",
       "                        <td id=\"T_85cc8067_45d1_11eb_8f9c_3c528213d836row21_col0\" class=\"data row21 col0\" >USI</td>\n",
       "                        <td id=\"T_85cc8067_45d1_11eb_8f9c_3c528213d836row21_col1\" class=\"data row21 col1\" >b8b2</td>\n",
       "            </tr>\n",
       "            <tr>\n",
       "                        <th id=\"T_85cc8067_45d1_11eb_8f9c_3c528213d836level0_row22\" class=\"row_heading level0 row22\" >22</th>\n",
       "                        <td id=\"T_85cc8067_45d1_11eb_8f9c_3c528213d836row22_col0\" class=\"data row22 col0\" >Imputation Type</td>\n",
       "                        <td id=\"T_85cc8067_45d1_11eb_8f9c_3c528213d836row22_col1\" class=\"data row22 col1\" >simple</td>\n",
       "            </tr>\n",
       "            <tr>\n",
       "                        <th id=\"T_85cc8067_45d1_11eb_8f9c_3c528213d836level0_row23\" class=\"row_heading level0 row23\" >23</th>\n",
       "                        <td id=\"T_85cc8067_45d1_11eb_8f9c_3c528213d836row23_col0\" class=\"data row23 col0\" >Iterative Imputation Iteration</td>\n",
       "                        <td id=\"T_85cc8067_45d1_11eb_8f9c_3c528213d836row23_col1\" class=\"data row23 col1\" >None</td>\n",
       "            </tr>\n",
       "            <tr>\n",
       "                        <th id=\"T_85cc8067_45d1_11eb_8f9c_3c528213d836level0_row24\" class=\"row_heading level0 row24\" >24</th>\n",
       "                        <td id=\"T_85cc8067_45d1_11eb_8f9c_3c528213d836row24_col0\" class=\"data row24 col0\" >Numeric Imputer</td>\n",
       "                        <td id=\"T_85cc8067_45d1_11eb_8f9c_3c528213d836row24_col1\" class=\"data row24 col1\" >mean</td>\n",
       "            </tr>\n",
       "            <tr>\n",
       "                        <th id=\"T_85cc8067_45d1_11eb_8f9c_3c528213d836level0_row25\" class=\"row_heading level0 row25\" >25</th>\n",
       "                        <td id=\"T_85cc8067_45d1_11eb_8f9c_3c528213d836row25_col0\" class=\"data row25 col0\" >Iterative Imputation Numeric Model</td>\n",
       "                        <td id=\"T_85cc8067_45d1_11eb_8f9c_3c528213d836row25_col1\" class=\"data row25 col1\" >None</td>\n",
       "            </tr>\n",
       "            <tr>\n",
       "                        <th id=\"T_85cc8067_45d1_11eb_8f9c_3c528213d836level0_row26\" class=\"row_heading level0 row26\" >26</th>\n",
       "                        <td id=\"T_85cc8067_45d1_11eb_8f9c_3c528213d836row26_col0\" class=\"data row26 col0\" >Categorical Imputer</td>\n",
       "                        <td id=\"T_85cc8067_45d1_11eb_8f9c_3c528213d836row26_col1\" class=\"data row26 col1\" >constant</td>\n",
       "            </tr>\n",
       "            <tr>\n",
       "                        <th id=\"T_85cc8067_45d1_11eb_8f9c_3c528213d836level0_row27\" class=\"row_heading level0 row27\" >27</th>\n",
       "                        <td id=\"T_85cc8067_45d1_11eb_8f9c_3c528213d836row27_col0\" class=\"data row27 col0\" >Iterative Imputation Categorical Model</td>\n",
       "                        <td id=\"T_85cc8067_45d1_11eb_8f9c_3c528213d836row27_col1\" class=\"data row27 col1\" >None</td>\n",
       "            </tr>\n",
       "            <tr>\n",
       "                        <th id=\"T_85cc8067_45d1_11eb_8f9c_3c528213d836level0_row28\" class=\"row_heading level0 row28\" >28</th>\n",
       "                        <td id=\"T_85cc8067_45d1_11eb_8f9c_3c528213d836row28_col0\" class=\"data row28 col0\" >Unknown Categoricals Handling</td>\n",
       "                        <td id=\"T_85cc8067_45d1_11eb_8f9c_3c528213d836row28_col1\" class=\"data row28 col1\" >least_frequent</td>\n",
       "            </tr>\n",
       "            <tr>\n",
       "                        <th id=\"T_85cc8067_45d1_11eb_8f9c_3c528213d836level0_row29\" class=\"row_heading level0 row29\" >29</th>\n",
       "                        <td id=\"T_85cc8067_45d1_11eb_8f9c_3c528213d836row29_col0\" class=\"data row29 col0\" >Normalize</td>\n",
       "                        <td id=\"T_85cc8067_45d1_11eb_8f9c_3c528213d836row29_col1\" class=\"data row29 col1\" >True</td>\n",
       "            </tr>\n",
       "            <tr>\n",
       "                        <th id=\"T_85cc8067_45d1_11eb_8f9c_3c528213d836level0_row30\" class=\"row_heading level0 row30\" >30</th>\n",
       "                        <td id=\"T_85cc8067_45d1_11eb_8f9c_3c528213d836row30_col0\" class=\"data row30 col0\" >Normalize Method</td>\n",
       "                        <td id=\"T_85cc8067_45d1_11eb_8f9c_3c528213d836row30_col1\" class=\"data row30 col1\" >minmax</td>\n",
       "            </tr>\n",
       "            <tr>\n",
       "                        <th id=\"T_85cc8067_45d1_11eb_8f9c_3c528213d836level0_row31\" class=\"row_heading level0 row31\" >31</th>\n",
       "                        <td id=\"T_85cc8067_45d1_11eb_8f9c_3c528213d836row31_col0\" class=\"data row31 col0\" >Transformation</td>\n",
       "                        <td id=\"T_85cc8067_45d1_11eb_8f9c_3c528213d836row31_col1\" class=\"data row31 col1\" >False</td>\n",
       "            </tr>\n",
       "            <tr>\n",
       "                        <th id=\"T_85cc8067_45d1_11eb_8f9c_3c528213d836level0_row32\" class=\"row_heading level0 row32\" >32</th>\n",
       "                        <td id=\"T_85cc8067_45d1_11eb_8f9c_3c528213d836row32_col0\" class=\"data row32 col0\" >Transformation Method</td>\n",
       "                        <td id=\"T_85cc8067_45d1_11eb_8f9c_3c528213d836row32_col1\" class=\"data row32 col1\" >None</td>\n",
       "            </tr>\n",
       "            <tr>\n",
       "                        <th id=\"T_85cc8067_45d1_11eb_8f9c_3c528213d836level0_row33\" class=\"row_heading level0 row33\" >33</th>\n",
       "                        <td id=\"T_85cc8067_45d1_11eb_8f9c_3c528213d836row33_col0\" class=\"data row33 col0\" >PCA</td>\n",
       "                        <td id=\"T_85cc8067_45d1_11eb_8f9c_3c528213d836row33_col1\" class=\"data row33 col1\" >False</td>\n",
       "            </tr>\n",
       "            <tr>\n",
       "                        <th id=\"T_85cc8067_45d1_11eb_8f9c_3c528213d836level0_row34\" class=\"row_heading level0 row34\" >34</th>\n",
       "                        <td id=\"T_85cc8067_45d1_11eb_8f9c_3c528213d836row34_col0\" class=\"data row34 col0\" >PCA Method</td>\n",
       "                        <td id=\"T_85cc8067_45d1_11eb_8f9c_3c528213d836row34_col1\" class=\"data row34 col1\" >None</td>\n",
       "            </tr>\n",
       "            <tr>\n",
       "                        <th id=\"T_85cc8067_45d1_11eb_8f9c_3c528213d836level0_row35\" class=\"row_heading level0 row35\" >35</th>\n",
       "                        <td id=\"T_85cc8067_45d1_11eb_8f9c_3c528213d836row35_col0\" class=\"data row35 col0\" >PCA Components</td>\n",
       "                        <td id=\"T_85cc8067_45d1_11eb_8f9c_3c528213d836row35_col1\" class=\"data row35 col1\" >None</td>\n",
       "            </tr>\n",
       "            <tr>\n",
       "                        <th id=\"T_85cc8067_45d1_11eb_8f9c_3c528213d836level0_row36\" class=\"row_heading level0 row36\" >36</th>\n",
       "                        <td id=\"T_85cc8067_45d1_11eb_8f9c_3c528213d836row36_col0\" class=\"data row36 col0\" >Ignore Low Variance</td>\n",
       "                        <td id=\"T_85cc8067_45d1_11eb_8f9c_3c528213d836row36_col1\" class=\"data row36 col1\" >False</td>\n",
       "            </tr>\n",
       "            <tr>\n",
       "                        <th id=\"T_85cc8067_45d1_11eb_8f9c_3c528213d836level0_row37\" class=\"row_heading level0 row37\" >37</th>\n",
       "                        <td id=\"T_85cc8067_45d1_11eb_8f9c_3c528213d836row37_col0\" class=\"data row37 col0\" >Combine Rare Levels</td>\n",
       "                        <td id=\"T_85cc8067_45d1_11eb_8f9c_3c528213d836row37_col1\" class=\"data row37 col1\" >False</td>\n",
       "            </tr>\n",
       "            <tr>\n",
       "                        <th id=\"T_85cc8067_45d1_11eb_8f9c_3c528213d836level0_row38\" class=\"row_heading level0 row38\" >38</th>\n",
       "                        <td id=\"T_85cc8067_45d1_11eb_8f9c_3c528213d836row38_col0\" class=\"data row38 col0\" >Rare Level Threshold</td>\n",
       "                        <td id=\"T_85cc8067_45d1_11eb_8f9c_3c528213d836row38_col1\" class=\"data row38 col1\" >None</td>\n",
       "            </tr>\n",
       "            <tr>\n",
       "                        <th id=\"T_85cc8067_45d1_11eb_8f9c_3c528213d836level0_row39\" class=\"row_heading level0 row39\" >39</th>\n",
       "                        <td id=\"T_85cc8067_45d1_11eb_8f9c_3c528213d836row39_col0\" class=\"data row39 col0\" >Numeric Binning</td>\n",
       "                        <td id=\"T_85cc8067_45d1_11eb_8f9c_3c528213d836row39_col1\" class=\"data row39 col1\" >False</td>\n",
       "            </tr>\n",
       "            <tr>\n",
       "                        <th id=\"T_85cc8067_45d1_11eb_8f9c_3c528213d836level0_row40\" class=\"row_heading level0 row40\" >40</th>\n",
       "                        <td id=\"T_85cc8067_45d1_11eb_8f9c_3c528213d836row40_col0\" class=\"data row40 col0\" >Remove Outliers</td>\n",
       "                        <td id=\"T_85cc8067_45d1_11eb_8f9c_3c528213d836row40_col1\" class=\"data row40 col1\" >False</td>\n",
       "            </tr>\n",
       "            <tr>\n",
       "                        <th id=\"T_85cc8067_45d1_11eb_8f9c_3c528213d836level0_row41\" class=\"row_heading level0 row41\" >41</th>\n",
       "                        <td id=\"T_85cc8067_45d1_11eb_8f9c_3c528213d836row41_col0\" class=\"data row41 col0\" >Outliers Threshold</td>\n",
       "                        <td id=\"T_85cc8067_45d1_11eb_8f9c_3c528213d836row41_col1\" class=\"data row41 col1\" >None</td>\n",
       "            </tr>\n",
       "            <tr>\n",
       "                        <th id=\"T_85cc8067_45d1_11eb_8f9c_3c528213d836level0_row42\" class=\"row_heading level0 row42\" >42</th>\n",
       "                        <td id=\"T_85cc8067_45d1_11eb_8f9c_3c528213d836row42_col0\" class=\"data row42 col0\" >Remove Multicollinearity</td>\n",
       "                        <td id=\"T_85cc8067_45d1_11eb_8f9c_3c528213d836row42_col1\" class=\"data row42 col1\" >False</td>\n",
       "            </tr>\n",
       "            <tr>\n",
       "                        <th id=\"T_85cc8067_45d1_11eb_8f9c_3c528213d836level0_row43\" class=\"row_heading level0 row43\" >43</th>\n",
       "                        <td id=\"T_85cc8067_45d1_11eb_8f9c_3c528213d836row43_col0\" class=\"data row43 col0\" >Multicollinearity Threshold</td>\n",
       "                        <td id=\"T_85cc8067_45d1_11eb_8f9c_3c528213d836row43_col1\" class=\"data row43 col1\" >None</td>\n",
       "            </tr>\n",
       "            <tr>\n",
       "                        <th id=\"T_85cc8067_45d1_11eb_8f9c_3c528213d836level0_row44\" class=\"row_heading level0 row44\" >44</th>\n",
       "                        <td id=\"T_85cc8067_45d1_11eb_8f9c_3c528213d836row44_col0\" class=\"data row44 col0\" >Clustering</td>\n",
       "                        <td id=\"T_85cc8067_45d1_11eb_8f9c_3c528213d836row44_col1\" class=\"data row44 col1\" >False</td>\n",
       "            </tr>\n",
       "            <tr>\n",
       "                        <th id=\"T_85cc8067_45d1_11eb_8f9c_3c528213d836level0_row45\" class=\"row_heading level0 row45\" >45</th>\n",
       "                        <td id=\"T_85cc8067_45d1_11eb_8f9c_3c528213d836row45_col0\" class=\"data row45 col0\" >Clustering Iteration</td>\n",
       "                        <td id=\"T_85cc8067_45d1_11eb_8f9c_3c528213d836row45_col1\" class=\"data row45 col1\" >None</td>\n",
       "            </tr>\n",
       "            <tr>\n",
       "                        <th id=\"T_85cc8067_45d1_11eb_8f9c_3c528213d836level0_row46\" class=\"row_heading level0 row46\" >46</th>\n",
       "                        <td id=\"T_85cc8067_45d1_11eb_8f9c_3c528213d836row46_col0\" class=\"data row46 col0\" >Polynomial Features</td>\n",
       "                        <td id=\"T_85cc8067_45d1_11eb_8f9c_3c528213d836row46_col1\" class=\"data row46 col1\" >False</td>\n",
       "            </tr>\n",
       "            <tr>\n",
       "                        <th id=\"T_85cc8067_45d1_11eb_8f9c_3c528213d836level0_row47\" class=\"row_heading level0 row47\" >47</th>\n",
       "                        <td id=\"T_85cc8067_45d1_11eb_8f9c_3c528213d836row47_col0\" class=\"data row47 col0\" >Polynomial Degree</td>\n",
       "                        <td id=\"T_85cc8067_45d1_11eb_8f9c_3c528213d836row47_col1\" class=\"data row47 col1\" >None</td>\n",
       "            </tr>\n",
       "            <tr>\n",
       "                        <th id=\"T_85cc8067_45d1_11eb_8f9c_3c528213d836level0_row48\" class=\"row_heading level0 row48\" >48</th>\n",
       "                        <td id=\"T_85cc8067_45d1_11eb_8f9c_3c528213d836row48_col0\" class=\"data row48 col0\" >Trignometry Features</td>\n",
       "                        <td id=\"T_85cc8067_45d1_11eb_8f9c_3c528213d836row48_col1\" class=\"data row48 col1\" >False</td>\n",
       "            </tr>\n",
       "            <tr>\n",
       "                        <th id=\"T_85cc8067_45d1_11eb_8f9c_3c528213d836level0_row49\" class=\"row_heading level0 row49\" >49</th>\n",
       "                        <td id=\"T_85cc8067_45d1_11eb_8f9c_3c528213d836row49_col0\" class=\"data row49 col0\" >Polynomial Threshold</td>\n",
       "                        <td id=\"T_85cc8067_45d1_11eb_8f9c_3c528213d836row49_col1\" class=\"data row49 col1\" >None</td>\n",
       "            </tr>\n",
       "            <tr>\n",
       "                        <th id=\"T_85cc8067_45d1_11eb_8f9c_3c528213d836level0_row50\" class=\"row_heading level0 row50\" >50</th>\n",
       "                        <td id=\"T_85cc8067_45d1_11eb_8f9c_3c528213d836row50_col0\" class=\"data row50 col0\" >Group Features</td>\n",
       "                        <td id=\"T_85cc8067_45d1_11eb_8f9c_3c528213d836row50_col1\" class=\"data row50 col1\" >False</td>\n",
       "            </tr>\n",
       "            <tr>\n",
       "                        <th id=\"T_85cc8067_45d1_11eb_8f9c_3c528213d836level0_row51\" class=\"row_heading level0 row51\" >51</th>\n",
       "                        <td id=\"T_85cc8067_45d1_11eb_8f9c_3c528213d836row51_col0\" class=\"data row51 col0\" >Feature Selection</td>\n",
       "                        <td id=\"T_85cc8067_45d1_11eb_8f9c_3c528213d836row51_col1\" class=\"data row51 col1\" >False</td>\n",
       "            </tr>\n",
       "            <tr>\n",
       "                        <th id=\"T_85cc8067_45d1_11eb_8f9c_3c528213d836level0_row52\" class=\"row_heading level0 row52\" >52</th>\n",
       "                        <td id=\"T_85cc8067_45d1_11eb_8f9c_3c528213d836row52_col0\" class=\"data row52 col0\" >Features Selection Threshold</td>\n",
       "                        <td id=\"T_85cc8067_45d1_11eb_8f9c_3c528213d836row52_col1\" class=\"data row52 col1\" >None</td>\n",
       "            </tr>\n",
       "            <tr>\n",
       "                        <th id=\"T_85cc8067_45d1_11eb_8f9c_3c528213d836level0_row53\" class=\"row_heading level0 row53\" >53</th>\n",
       "                        <td id=\"T_85cc8067_45d1_11eb_8f9c_3c528213d836row53_col0\" class=\"data row53 col0\" >Feature Interaction</td>\n",
       "                        <td id=\"T_85cc8067_45d1_11eb_8f9c_3c528213d836row53_col1\" class=\"data row53 col1\" >False</td>\n",
       "            </tr>\n",
       "            <tr>\n",
       "                        <th id=\"T_85cc8067_45d1_11eb_8f9c_3c528213d836level0_row54\" class=\"row_heading level0 row54\" >54</th>\n",
       "                        <td id=\"T_85cc8067_45d1_11eb_8f9c_3c528213d836row54_col0\" class=\"data row54 col0\" >Feature Ratio</td>\n",
       "                        <td id=\"T_85cc8067_45d1_11eb_8f9c_3c528213d836row54_col1\" class=\"data row54 col1\" >False</td>\n",
       "            </tr>\n",
       "            <tr>\n",
       "                        <th id=\"T_85cc8067_45d1_11eb_8f9c_3c528213d836level0_row55\" class=\"row_heading level0 row55\" >55</th>\n",
       "                        <td id=\"T_85cc8067_45d1_11eb_8f9c_3c528213d836row55_col0\" class=\"data row55 col0\" >Interaction Threshold</td>\n",
       "                        <td id=\"T_85cc8067_45d1_11eb_8f9c_3c528213d836row55_col1\" class=\"data row55 col1\" >None</td>\n",
       "            </tr>\n",
       "            <tr>\n",
       "                        <th id=\"T_85cc8067_45d1_11eb_8f9c_3c528213d836level0_row56\" class=\"row_heading level0 row56\" >56</th>\n",
       "                        <td id=\"T_85cc8067_45d1_11eb_8f9c_3c528213d836row56_col0\" class=\"data row56 col0\" >Fix Imbalance</td>\n",
       "                        <td id=\"T_85cc8067_45d1_11eb_8f9c_3c528213d836row56_col1\" class=\"data row56 col1\" >False</td>\n",
       "            </tr>\n",
       "            <tr>\n",
       "                        <th id=\"T_85cc8067_45d1_11eb_8f9c_3c528213d836level0_row57\" class=\"row_heading level0 row57\" >57</th>\n",
       "                        <td id=\"T_85cc8067_45d1_11eb_8f9c_3c528213d836row57_col0\" class=\"data row57 col0\" >Fix Imbalance Method</td>\n",
       "                        <td id=\"T_85cc8067_45d1_11eb_8f9c_3c528213d836row57_col1\" class=\"data row57 col1\" >SMOTE</td>\n",
       "            </tr>\n",
       "    </tbody></table>"
      ],
      "text/plain": [
       "<pandas.io.formats.style.Styler at 0x1dcc0ded340>"
      ]
     },
     "metadata": {},
     "output_type": "display_data"
    }
   ],
   "source": [
    "exp = setup(data = df, target = 'demand', session_id=0, normalize=True, \n",
    "            train_size= 0.8,normalize_method='minmax',\n",
    "            categorical_features=['LaGuardia Airport','Lower Manhattan','Midtown','Upper East Side'],\n",
    "            numeric_features=['passenger_count']\n",
    "           )"
   ]
  },
  {
   "cell_type": "code",
   "execution_count": 51,
   "metadata": {},
   "outputs": [
    {
     "data": {
      "text/html": [
       "<div>\n",
       "<style scoped>\n",
       "    .dataframe tbody tr th:only-of-type {\n",
       "        vertical-align: middle;\n",
       "    }\n",
       "\n",
       "    .dataframe tbody tr th {\n",
       "        vertical-align: top;\n",
       "    }\n",
       "\n",
       "    .dataframe thead th {\n",
       "        text-align: right;\n",
       "    }\n",
       "</style>\n",
       "<table border=\"1\" class=\"dataframe\">\n",
       "  <thead>\n",
       "    <tr style=\"text-align: right;\">\n",
       "      <th></th>\n",
       "      <th>Name</th>\n",
       "      <th>Reference</th>\n",
       "      <th>Turbo</th>\n",
       "    </tr>\n",
       "    <tr>\n",
       "      <th>ID</th>\n",
       "      <th></th>\n",
       "      <th></th>\n",
       "      <th></th>\n",
       "    </tr>\n",
       "  </thead>\n",
       "  <tbody>\n",
       "    <tr>\n",
       "      <th>lr</th>\n",
       "      <td>Logistic Regression</td>\n",
       "      <td>sklearn.linear_model._logistic.LogisticRegression</td>\n",
       "      <td>True</td>\n",
       "    </tr>\n",
       "    <tr>\n",
       "      <th>knn</th>\n",
       "      <td>K Neighbors Classifier</td>\n",
       "      <td>sklearn.neighbors._classification.KNeighborsCl...</td>\n",
       "      <td>True</td>\n",
       "    </tr>\n",
       "    <tr>\n",
       "      <th>nb</th>\n",
       "      <td>Naive Bayes</td>\n",
       "      <td>sklearn.naive_bayes.GaussianNB</td>\n",
       "      <td>True</td>\n",
       "    </tr>\n",
       "    <tr>\n",
       "      <th>dt</th>\n",
       "      <td>Decision Tree Classifier</td>\n",
       "      <td>sklearn.tree._classes.DecisionTreeClassifier</td>\n",
       "      <td>True</td>\n",
       "    </tr>\n",
       "    <tr>\n",
       "      <th>svm</th>\n",
       "      <td>SVM - Linear Kernel</td>\n",
       "      <td>sklearn.linear_model._stochastic_gradient.SGDC...</td>\n",
       "      <td>True</td>\n",
       "    </tr>\n",
       "    <tr>\n",
       "      <th>rbfsvm</th>\n",
       "      <td>SVM - Radial Kernel</td>\n",
       "      <td>sklearn.svm._classes.SVC</td>\n",
       "      <td>False</td>\n",
       "    </tr>\n",
       "    <tr>\n",
       "      <th>gpc</th>\n",
       "      <td>Gaussian Process Classifier</td>\n",
       "      <td>sklearn.gaussian_process._gpc.GaussianProcessC...</td>\n",
       "      <td>False</td>\n",
       "    </tr>\n",
       "    <tr>\n",
       "      <th>mlp</th>\n",
       "      <td>MLP Classifier</td>\n",
       "      <td>pycaret.internal.tunable.TunableMLPClassifier</td>\n",
       "      <td>False</td>\n",
       "    </tr>\n",
       "    <tr>\n",
       "      <th>ridge</th>\n",
       "      <td>Ridge Classifier</td>\n",
       "      <td>sklearn.linear_model._ridge.RidgeClassifier</td>\n",
       "      <td>True</td>\n",
       "    </tr>\n",
       "    <tr>\n",
       "      <th>rf</th>\n",
       "      <td>Random Forest Classifier</td>\n",
       "      <td>sklearn.ensemble._forest.RandomForestClassifier</td>\n",
       "      <td>True</td>\n",
       "    </tr>\n",
       "    <tr>\n",
       "      <th>qda</th>\n",
       "      <td>Quadratic Discriminant Analysis</td>\n",
       "      <td>sklearn.discriminant_analysis.QuadraticDiscrim...</td>\n",
       "      <td>True</td>\n",
       "    </tr>\n",
       "    <tr>\n",
       "      <th>ada</th>\n",
       "      <td>Ada Boost Classifier</td>\n",
       "      <td>sklearn.ensemble._weight_boosting.AdaBoostClas...</td>\n",
       "      <td>True</td>\n",
       "    </tr>\n",
       "    <tr>\n",
       "      <th>gbc</th>\n",
       "      <td>Gradient Boosting Classifier</td>\n",
       "      <td>sklearn.ensemble._gb.GradientBoostingClassifier</td>\n",
       "      <td>True</td>\n",
       "    </tr>\n",
       "    <tr>\n",
       "      <th>lda</th>\n",
       "      <td>Linear Discriminant Analysis</td>\n",
       "      <td>sklearn.discriminant_analysis.LinearDiscrimina...</td>\n",
       "      <td>True</td>\n",
       "    </tr>\n",
       "    <tr>\n",
       "      <th>et</th>\n",
       "      <td>Extra Trees Classifier</td>\n",
       "      <td>sklearn.ensemble._forest.ExtraTreesClassifier</td>\n",
       "      <td>True</td>\n",
       "    </tr>\n",
       "    <tr>\n",
       "      <th>xgboost</th>\n",
       "      <td>Extreme Gradient Boosting</td>\n",
       "      <td>xgboost.sklearn.XGBClassifier</td>\n",
       "      <td>True</td>\n",
       "    </tr>\n",
       "    <tr>\n",
       "      <th>lightgbm</th>\n",
       "      <td>Light Gradient Boosting Machine</td>\n",
       "      <td>lightgbm.sklearn.LGBMClassifier</td>\n",
       "      <td>True</td>\n",
       "    </tr>\n",
       "    <tr>\n",
       "      <th>catboost</th>\n",
       "      <td>CatBoost Classifier</td>\n",
       "      <td>catboost.core.CatBoostClassifier</td>\n",
       "      <td>True</td>\n",
       "    </tr>\n",
       "  </tbody>\n",
       "</table>\n",
       "</div>"
      ],
      "text/plain": [
       "                                     Name                                          Reference  Turbo\n",
       "ID                                                                                                 \n",
       "lr                    Logistic Regression  sklearn.linear_model._logistic.LogisticRegression   True\n",
       "knn                K Neighbors Classifier  sklearn.neighbors._classification.KNeighborsCl...   True\n",
       "nb                            Naive Bayes                     sklearn.naive_bayes.GaussianNB   True\n",
       "dt               Decision Tree Classifier       sklearn.tree._classes.DecisionTreeClassifier   True\n",
       "svm                   SVM - Linear Kernel  sklearn.linear_model._stochastic_gradient.SGDC...   True\n",
       "rbfsvm                SVM - Radial Kernel                           sklearn.svm._classes.SVC  False\n",
       "gpc           Gaussian Process Classifier  sklearn.gaussian_process._gpc.GaussianProcessC...  False\n",
       "mlp                        MLP Classifier      pycaret.internal.tunable.TunableMLPClassifier  False\n",
       "ridge                    Ridge Classifier        sklearn.linear_model._ridge.RidgeClassifier   True\n",
       "rf               Random Forest Classifier    sklearn.ensemble._forest.RandomForestClassifier   True\n",
       "qda       Quadratic Discriminant Analysis  sklearn.discriminant_analysis.QuadraticDiscrim...   True\n",
       "ada                  Ada Boost Classifier  sklearn.ensemble._weight_boosting.AdaBoostClas...   True\n",
       "gbc          Gradient Boosting Classifier    sklearn.ensemble._gb.GradientBoostingClassifier   True\n",
       "lda          Linear Discriminant Analysis  sklearn.discriminant_analysis.LinearDiscrimina...   True\n",
       "et                 Extra Trees Classifier      sklearn.ensemble._forest.ExtraTreesClassifier   True\n",
       "xgboost         Extreme Gradient Boosting                      xgboost.sklearn.XGBClassifier   True\n",
       "lightgbm  Light Gradient Boosting Machine                    lightgbm.sklearn.LGBMClassifier   True\n",
       "catboost              CatBoost Classifier                   catboost.core.CatBoostClassifier   True"
      ]
     },
     "execution_count": 51,
     "metadata": {},
     "output_type": "execute_result"
    }
   ],
   "source": [
    "models()"
   ]
  },
  {
   "cell_type": "code",
   "execution_count": 52,
   "metadata": {},
   "outputs": [
    {
     "data": {
      "text/html": [
       "<style  type=\"text/css\" >\n",
       "    #T_d33286d7_45d1_11eb_b4bf_3c528213d836 th {\n",
       "          text-align: left;\n",
       "    }#T_d33286d7_45d1_11eb_b4bf_3c528213d836row0_col0,#T_d33286d7_45d1_11eb_b4bf_3c528213d836row1_col0,#T_d33286d7_45d1_11eb_b4bf_3c528213d836row2_col0,#T_d33286d7_45d1_11eb_b4bf_3c528213d836row3_col0,#T_d33286d7_45d1_11eb_b4bf_3c528213d836row4_col0,#T_d33286d7_45d1_11eb_b4bf_3c528213d836row5_col0,#T_d33286d7_45d1_11eb_b4bf_3c528213d836row6_col0,#T_d33286d7_45d1_11eb_b4bf_3c528213d836row7_col0,#T_d33286d7_45d1_11eb_b4bf_3c528213d836row7_col1,#T_d33286d7_45d1_11eb_b4bf_3c528213d836row7_col2,#T_d33286d7_45d1_11eb_b4bf_3c528213d836row7_col3,#T_d33286d7_45d1_11eb_b4bf_3c528213d836row7_col4,#T_d33286d7_45d1_11eb_b4bf_3c528213d836row7_col5,#T_d33286d7_45d1_11eb_b4bf_3c528213d836row7_col6,#T_d33286d7_45d1_11eb_b4bf_3c528213d836row7_col7,#T_d33286d7_45d1_11eb_b4bf_3c528213d836row8_col0,#T_d33286d7_45d1_11eb_b4bf_3c528213d836row8_col1,#T_d33286d7_45d1_11eb_b4bf_3c528213d836row8_col2,#T_d33286d7_45d1_11eb_b4bf_3c528213d836row8_col3,#T_d33286d7_45d1_11eb_b4bf_3c528213d836row8_col4,#T_d33286d7_45d1_11eb_b4bf_3c528213d836row8_col5,#T_d33286d7_45d1_11eb_b4bf_3c528213d836row8_col6,#T_d33286d7_45d1_11eb_b4bf_3c528213d836row8_col7{\n",
       "            text-align:  left;\n",
       "            text-align:  left;\n",
       "        }#T_d33286d7_45d1_11eb_b4bf_3c528213d836row0_col1,#T_d33286d7_45d1_11eb_b4bf_3c528213d836row0_col2,#T_d33286d7_45d1_11eb_b4bf_3c528213d836row0_col3,#T_d33286d7_45d1_11eb_b4bf_3c528213d836row0_col4,#T_d33286d7_45d1_11eb_b4bf_3c528213d836row0_col5,#T_d33286d7_45d1_11eb_b4bf_3c528213d836row0_col6,#T_d33286d7_45d1_11eb_b4bf_3c528213d836row0_col7,#T_d33286d7_45d1_11eb_b4bf_3c528213d836row1_col1,#T_d33286d7_45d1_11eb_b4bf_3c528213d836row1_col2,#T_d33286d7_45d1_11eb_b4bf_3c528213d836row1_col3,#T_d33286d7_45d1_11eb_b4bf_3c528213d836row1_col4,#T_d33286d7_45d1_11eb_b4bf_3c528213d836row1_col5,#T_d33286d7_45d1_11eb_b4bf_3c528213d836row1_col6,#T_d33286d7_45d1_11eb_b4bf_3c528213d836row1_col7,#T_d33286d7_45d1_11eb_b4bf_3c528213d836row2_col1,#T_d33286d7_45d1_11eb_b4bf_3c528213d836row2_col2,#T_d33286d7_45d1_11eb_b4bf_3c528213d836row2_col3,#T_d33286d7_45d1_11eb_b4bf_3c528213d836row2_col4,#T_d33286d7_45d1_11eb_b4bf_3c528213d836row2_col5,#T_d33286d7_45d1_11eb_b4bf_3c528213d836row2_col6,#T_d33286d7_45d1_11eb_b4bf_3c528213d836row2_col7,#T_d33286d7_45d1_11eb_b4bf_3c528213d836row3_col1,#T_d33286d7_45d1_11eb_b4bf_3c528213d836row3_col2,#T_d33286d7_45d1_11eb_b4bf_3c528213d836row3_col3,#T_d33286d7_45d1_11eb_b4bf_3c528213d836row3_col4,#T_d33286d7_45d1_11eb_b4bf_3c528213d836row3_col5,#T_d33286d7_45d1_11eb_b4bf_3c528213d836row3_col6,#T_d33286d7_45d1_11eb_b4bf_3c528213d836row3_col7,#T_d33286d7_45d1_11eb_b4bf_3c528213d836row4_col1,#T_d33286d7_45d1_11eb_b4bf_3c528213d836row4_col2,#T_d33286d7_45d1_11eb_b4bf_3c528213d836row4_col3,#T_d33286d7_45d1_11eb_b4bf_3c528213d836row4_col4,#T_d33286d7_45d1_11eb_b4bf_3c528213d836row4_col5,#T_d33286d7_45d1_11eb_b4bf_3c528213d836row4_col6,#T_d33286d7_45d1_11eb_b4bf_3c528213d836row4_col7,#T_d33286d7_45d1_11eb_b4bf_3c528213d836row5_col1,#T_d33286d7_45d1_11eb_b4bf_3c528213d836row5_col2,#T_d33286d7_45d1_11eb_b4bf_3c528213d836row5_col3,#T_d33286d7_45d1_11eb_b4bf_3c528213d836row5_col4,#T_d33286d7_45d1_11eb_b4bf_3c528213d836row5_col5,#T_d33286d7_45d1_11eb_b4bf_3c528213d836row5_col6,#T_d33286d7_45d1_11eb_b4bf_3c528213d836row5_col7,#T_d33286d7_45d1_11eb_b4bf_3c528213d836row6_col1,#T_d33286d7_45d1_11eb_b4bf_3c528213d836row6_col2,#T_d33286d7_45d1_11eb_b4bf_3c528213d836row6_col3,#T_d33286d7_45d1_11eb_b4bf_3c528213d836row6_col4,#T_d33286d7_45d1_11eb_b4bf_3c528213d836row6_col5,#T_d33286d7_45d1_11eb_b4bf_3c528213d836row6_col6,#T_d33286d7_45d1_11eb_b4bf_3c528213d836row6_col7{\n",
       "            text-align:  left;\n",
       "            text-align:  left;\n",
       "            background-color:  yellow;\n",
       "        }#T_d33286d7_45d1_11eb_b4bf_3c528213d836row0_col8,#T_d33286d7_45d1_11eb_b4bf_3c528213d836row2_col8,#T_d33286d7_45d1_11eb_b4bf_3c528213d836row3_col8,#T_d33286d7_45d1_11eb_b4bf_3c528213d836row4_col8,#T_d33286d7_45d1_11eb_b4bf_3c528213d836row5_col8,#T_d33286d7_45d1_11eb_b4bf_3c528213d836row6_col8,#T_d33286d7_45d1_11eb_b4bf_3c528213d836row7_col8,#T_d33286d7_45d1_11eb_b4bf_3c528213d836row8_col8{\n",
       "            text-align:  left;\n",
       "            text-align:  left;\n",
       "            background-color:  lightgrey;\n",
       "        }#T_d33286d7_45d1_11eb_b4bf_3c528213d836row1_col8{\n",
       "            text-align:  left;\n",
       "            text-align:  left;\n",
       "            background-color:  yellow;\n",
       "            background-color:  lightgrey;\n",
       "        }</style><table id=\"T_d33286d7_45d1_11eb_b4bf_3c528213d836\" ><thead>    <tr>        <th class=\"blank level0\" ></th>        <th class=\"col_heading level0 col0\" >Model</th>        <th class=\"col_heading level0 col1\" >Accuracy</th>        <th class=\"col_heading level0 col2\" >AUC</th>        <th class=\"col_heading level0 col3\" >Recall</th>        <th class=\"col_heading level0 col4\" >Prec.</th>        <th class=\"col_heading level0 col5\" >F1</th>        <th class=\"col_heading level0 col6\" >Kappa</th>        <th class=\"col_heading level0 col7\" >MCC</th>        <th class=\"col_heading level0 col8\" >TT (Sec)</th>    </tr></thead><tbody>\n",
       "                <tr>\n",
       "                        <th id=\"T_d33286d7_45d1_11eb_b4bf_3c528213d836level0_row0\" class=\"row_heading level0 row0\" >lr</th>\n",
       "                        <td id=\"T_d33286d7_45d1_11eb_b4bf_3c528213d836row0_col0\" class=\"data row0 col0\" >Logistic Regression</td>\n",
       "                        <td id=\"T_d33286d7_45d1_11eb_b4bf_3c528213d836row0_col1\" class=\"data row0 col1\" >1.0000</td>\n",
       "                        <td id=\"T_d33286d7_45d1_11eb_b4bf_3c528213d836row0_col2\" class=\"data row0 col2\" >1.0000</td>\n",
       "                        <td id=\"T_d33286d7_45d1_11eb_b4bf_3c528213d836row0_col3\" class=\"data row0 col3\" >1.0000</td>\n",
       "                        <td id=\"T_d33286d7_45d1_11eb_b4bf_3c528213d836row0_col4\" class=\"data row0 col4\" >1.0000</td>\n",
       "                        <td id=\"T_d33286d7_45d1_11eb_b4bf_3c528213d836row0_col5\" class=\"data row0 col5\" >1.0000</td>\n",
       "                        <td id=\"T_d33286d7_45d1_11eb_b4bf_3c528213d836row0_col6\" class=\"data row0 col6\" >1.0000</td>\n",
       "                        <td id=\"T_d33286d7_45d1_11eb_b4bf_3c528213d836row0_col7\" class=\"data row0 col7\" >1.0000</td>\n",
       "                        <td id=\"T_d33286d7_45d1_11eb_b4bf_3c528213d836row0_col8\" class=\"data row0 col8\" >2.0980</td>\n",
       "            </tr>\n",
       "            <tr>\n",
       "                        <th id=\"T_d33286d7_45d1_11eb_b4bf_3c528213d836level0_row1\" class=\"row_heading level0 row1\" >dt</th>\n",
       "                        <td id=\"T_d33286d7_45d1_11eb_b4bf_3c528213d836row1_col0\" class=\"data row1 col0\" >Decision Tree Classifier</td>\n",
       "                        <td id=\"T_d33286d7_45d1_11eb_b4bf_3c528213d836row1_col1\" class=\"data row1 col1\" >1.0000</td>\n",
       "                        <td id=\"T_d33286d7_45d1_11eb_b4bf_3c528213d836row1_col2\" class=\"data row1 col2\" >1.0000</td>\n",
       "                        <td id=\"T_d33286d7_45d1_11eb_b4bf_3c528213d836row1_col3\" class=\"data row1 col3\" >1.0000</td>\n",
       "                        <td id=\"T_d33286d7_45d1_11eb_b4bf_3c528213d836row1_col4\" class=\"data row1 col4\" >1.0000</td>\n",
       "                        <td id=\"T_d33286d7_45d1_11eb_b4bf_3c528213d836row1_col5\" class=\"data row1 col5\" >1.0000</td>\n",
       "                        <td id=\"T_d33286d7_45d1_11eb_b4bf_3c528213d836row1_col6\" class=\"data row1 col6\" >1.0000</td>\n",
       "                        <td id=\"T_d33286d7_45d1_11eb_b4bf_3c528213d836row1_col7\" class=\"data row1 col7\" >1.0000</td>\n",
       "                        <td id=\"T_d33286d7_45d1_11eb_b4bf_3c528213d836row1_col8\" class=\"data row1 col8\" >0.0800</td>\n",
       "            </tr>\n",
       "            <tr>\n",
       "                        <th id=\"T_d33286d7_45d1_11eb_b4bf_3c528213d836level0_row2\" class=\"row_heading level0 row2\" >rf</th>\n",
       "                        <td id=\"T_d33286d7_45d1_11eb_b4bf_3c528213d836row2_col0\" class=\"data row2 col0\" >Random Forest Classifier</td>\n",
       "                        <td id=\"T_d33286d7_45d1_11eb_b4bf_3c528213d836row2_col1\" class=\"data row2 col1\" >1.0000</td>\n",
       "                        <td id=\"T_d33286d7_45d1_11eb_b4bf_3c528213d836row2_col2\" class=\"data row2 col2\" >1.0000</td>\n",
       "                        <td id=\"T_d33286d7_45d1_11eb_b4bf_3c528213d836row2_col3\" class=\"data row2 col3\" >1.0000</td>\n",
       "                        <td id=\"T_d33286d7_45d1_11eb_b4bf_3c528213d836row2_col4\" class=\"data row2 col4\" >1.0000</td>\n",
       "                        <td id=\"T_d33286d7_45d1_11eb_b4bf_3c528213d836row2_col5\" class=\"data row2 col5\" >1.0000</td>\n",
       "                        <td id=\"T_d33286d7_45d1_11eb_b4bf_3c528213d836row2_col6\" class=\"data row2 col6\" >1.0000</td>\n",
       "                        <td id=\"T_d33286d7_45d1_11eb_b4bf_3c528213d836row2_col7\" class=\"data row2 col7\" >1.0000</td>\n",
       "                        <td id=\"T_d33286d7_45d1_11eb_b4bf_3c528213d836row2_col8\" class=\"data row2 col8\" >1.0880</td>\n",
       "            </tr>\n",
       "            <tr>\n",
       "                        <th id=\"T_d33286d7_45d1_11eb_b4bf_3c528213d836level0_row3\" class=\"row_heading level0 row3\" >ada</th>\n",
       "                        <td id=\"T_d33286d7_45d1_11eb_b4bf_3c528213d836row3_col0\" class=\"data row3 col0\" >Ada Boost Classifier</td>\n",
       "                        <td id=\"T_d33286d7_45d1_11eb_b4bf_3c528213d836row3_col1\" class=\"data row3 col1\" >1.0000</td>\n",
       "                        <td id=\"T_d33286d7_45d1_11eb_b4bf_3c528213d836row3_col2\" class=\"data row3 col2\" >1.0000</td>\n",
       "                        <td id=\"T_d33286d7_45d1_11eb_b4bf_3c528213d836row3_col3\" class=\"data row3 col3\" >1.0000</td>\n",
       "                        <td id=\"T_d33286d7_45d1_11eb_b4bf_3c528213d836row3_col4\" class=\"data row3 col4\" >1.0000</td>\n",
       "                        <td id=\"T_d33286d7_45d1_11eb_b4bf_3c528213d836row3_col5\" class=\"data row3 col5\" >1.0000</td>\n",
       "                        <td id=\"T_d33286d7_45d1_11eb_b4bf_3c528213d836row3_col6\" class=\"data row3 col6\" >1.0000</td>\n",
       "                        <td id=\"T_d33286d7_45d1_11eb_b4bf_3c528213d836row3_col7\" class=\"data row3 col7\" >1.0000</td>\n",
       "                        <td id=\"T_d33286d7_45d1_11eb_b4bf_3c528213d836row3_col8\" class=\"data row3 col8\" >0.9680</td>\n",
       "            </tr>\n",
       "            <tr>\n",
       "                        <th id=\"T_d33286d7_45d1_11eb_b4bf_3c528213d836level0_row4\" class=\"row_heading level0 row4\" >gbc</th>\n",
       "                        <td id=\"T_d33286d7_45d1_11eb_b4bf_3c528213d836row4_col0\" class=\"data row4 col0\" >Gradient Boosting Classifier</td>\n",
       "                        <td id=\"T_d33286d7_45d1_11eb_b4bf_3c528213d836row4_col1\" class=\"data row4 col1\" >1.0000</td>\n",
       "                        <td id=\"T_d33286d7_45d1_11eb_b4bf_3c528213d836row4_col2\" class=\"data row4 col2\" >1.0000</td>\n",
       "                        <td id=\"T_d33286d7_45d1_11eb_b4bf_3c528213d836row4_col3\" class=\"data row4 col3\" >1.0000</td>\n",
       "                        <td id=\"T_d33286d7_45d1_11eb_b4bf_3c528213d836row4_col4\" class=\"data row4 col4\" >1.0000</td>\n",
       "                        <td id=\"T_d33286d7_45d1_11eb_b4bf_3c528213d836row4_col5\" class=\"data row4 col5\" >1.0000</td>\n",
       "                        <td id=\"T_d33286d7_45d1_11eb_b4bf_3c528213d836row4_col6\" class=\"data row4 col6\" >1.0000</td>\n",
       "                        <td id=\"T_d33286d7_45d1_11eb_b4bf_3c528213d836row4_col7\" class=\"data row4 col7\" >1.0000</td>\n",
       "                        <td id=\"T_d33286d7_45d1_11eb_b4bf_3c528213d836row4_col8\" class=\"data row4 col8\" >8.0040</td>\n",
       "            </tr>\n",
       "            <tr>\n",
       "                        <th id=\"T_d33286d7_45d1_11eb_b4bf_3c528213d836level0_row5\" class=\"row_heading level0 row5\" >et</th>\n",
       "                        <td id=\"T_d33286d7_45d1_11eb_b4bf_3c528213d836row5_col0\" class=\"data row5 col0\" >Extra Trees Classifier</td>\n",
       "                        <td id=\"T_d33286d7_45d1_11eb_b4bf_3c528213d836row5_col1\" class=\"data row5 col1\" >1.0000</td>\n",
       "                        <td id=\"T_d33286d7_45d1_11eb_b4bf_3c528213d836row5_col2\" class=\"data row5 col2\" >1.0000</td>\n",
       "                        <td id=\"T_d33286d7_45d1_11eb_b4bf_3c528213d836row5_col3\" class=\"data row5 col3\" >1.0000</td>\n",
       "                        <td id=\"T_d33286d7_45d1_11eb_b4bf_3c528213d836row5_col4\" class=\"data row5 col4\" >1.0000</td>\n",
       "                        <td id=\"T_d33286d7_45d1_11eb_b4bf_3c528213d836row5_col5\" class=\"data row5 col5\" >1.0000</td>\n",
       "                        <td id=\"T_d33286d7_45d1_11eb_b4bf_3c528213d836row5_col6\" class=\"data row5 col6\" >1.0000</td>\n",
       "                        <td id=\"T_d33286d7_45d1_11eb_b4bf_3c528213d836row5_col7\" class=\"data row5 col7\" >1.0000</td>\n",
       "                        <td id=\"T_d33286d7_45d1_11eb_b4bf_3c528213d836row5_col8\" class=\"data row5 col8\" >0.9800</td>\n",
       "            </tr>\n",
       "            <tr>\n",
       "                        <th id=\"T_d33286d7_45d1_11eb_b4bf_3c528213d836level0_row6\" class=\"row_heading level0 row6\" >xgboost</th>\n",
       "                        <td id=\"T_d33286d7_45d1_11eb_b4bf_3c528213d836row6_col0\" class=\"data row6 col0\" >Extreme Gradient Boosting</td>\n",
       "                        <td id=\"T_d33286d7_45d1_11eb_b4bf_3c528213d836row6_col1\" class=\"data row6 col1\" >1.0000</td>\n",
       "                        <td id=\"T_d33286d7_45d1_11eb_b4bf_3c528213d836row6_col2\" class=\"data row6 col2\" >1.0000</td>\n",
       "                        <td id=\"T_d33286d7_45d1_11eb_b4bf_3c528213d836row6_col3\" class=\"data row6 col3\" >1.0000</td>\n",
       "                        <td id=\"T_d33286d7_45d1_11eb_b4bf_3c528213d836row6_col4\" class=\"data row6 col4\" >1.0000</td>\n",
       "                        <td id=\"T_d33286d7_45d1_11eb_b4bf_3c528213d836row6_col5\" class=\"data row6 col5\" >1.0000</td>\n",
       "                        <td id=\"T_d33286d7_45d1_11eb_b4bf_3c528213d836row6_col6\" class=\"data row6 col6\" >1.0000</td>\n",
       "                        <td id=\"T_d33286d7_45d1_11eb_b4bf_3c528213d836row6_col7\" class=\"data row6 col7\" >1.0000</td>\n",
       "                        <td id=\"T_d33286d7_45d1_11eb_b4bf_3c528213d836row6_col8\" class=\"data row6 col8\" >2.0520</td>\n",
       "            </tr>\n",
       "            <tr>\n",
       "                        <th id=\"T_d33286d7_45d1_11eb_b4bf_3c528213d836level0_row7\" class=\"row_heading level0 row7\" >knn</th>\n",
       "                        <td id=\"T_d33286d7_45d1_11eb_b4bf_3c528213d836row7_col0\" class=\"data row7 col0\" >K Neighbors Classifier</td>\n",
       "                        <td id=\"T_d33286d7_45d1_11eb_b4bf_3c528213d836row7_col1\" class=\"data row7 col1\" >0.9990</td>\n",
       "                        <td id=\"T_d33286d7_45d1_11eb_b4bf_3c528213d836row7_col2\" class=\"data row7 col2\" >0.9999</td>\n",
       "                        <td id=\"T_d33286d7_45d1_11eb_b4bf_3c528213d836row7_col3\" class=\"data row7 col3\" >0.9947</td>\n",
       "                        <td id=\"T_d33286d7_45d1_11eb_b4bf_3c528213d836row7_col4\" class=\"data row7 col4\" >0.9990</td>\n",
       "                        <td id=\"T_d33286d7_45d1_11eb_b4bf_3c528213d836row7_col5\" class=\"data row7 col5\" >0.9990</td>\n",
       "                        <td id=\"T_d33286d7_45d1_11eb_b4bf_3c528213d836row7_col6\" class=\"data row7 col6\" >0.9963</td>\n",
       "                        <td id=\"T_d33286d7_45d1_11eb_b4bf_3c528213d836row7_col7\" class=\"data row7 col7\" >0.9963</td>\n",
       "                        <td id=\"T_d33286d7_45d1_11eb_b4bf_3c528213d836row7_col8\" class=\"data row7 col8\" >3.4880</td>\n",
       "            </tr>\n",
       "            <tr>\n",
       "                        <th id=\"T_d33286d7_45d1_11eb_b4bf_3c528213d836level0_row8\" class=\"row_heading level0 row8\" >svm</th>\n",
       "                        <td id=\"T_d33286d7_45d1_11eb_b4bf_3c528213d836row8_col0\" class=\"data row8 col0\" >SVM - Linear Kernel</td>\n",
       "                        <td id=\"T_d33286d7_45d1_11eb_b4bf_3c528213d836row8_col1\" class=\"data row8 col1\" >0.9729</td>\n",
       "                        <td id=\"T_d33286d7_45d1_11eb_b4bf_3c528213d836row8_col2\" class=\"data row8 col2\" >0.0000</td>\n",
       "                        <td id=\"T_d33286d7_45d1_11eb_b4bf_3c528213d836row8_col3\" class=\"data row8 col3\" >0.8556</td>\n",
       "                        <td id=\"T_d33286d7_45d1_11eb_b4bf_3c528213d836row8_col4\" class=\"data row8 col4\" >0.9751</td>\n",
       "                        <td id=\"T_d33286d7_45d1_11eb_b4bf_3c528213d836row8_col5\" class=\"data row8 col5\" >0.9629</td>\n",
       "                        <td id=\"T_d33286d7_45d1_11eb_b4bf_3c528213d836row8_col6\" class=\"data row8 col6\" >0.8896</td>\n",
       "                        <td id=\"T_d33286d7_45d1_11eb_b4bf_3c528213d836row8_col7\" class=\"data row8 col7\" >0.8962</td>\n",
       "                        <td id=\"T_d33286d7_45d1_11eb_b4bf_3c528213d836row8_col8\" class=\"data row8 col8\" >0.1840</td>\n",
       "            </tr>\n",
       "    </tbody></table>"
      ],
      "text/plain": [
       "<pandas.io.formats.style.Styler at 0x1dcba26ea60>"
      ]
     },
     "metadata": {},
     "output_type": "display_data"
    },
    {
     "data": {
      "text/plain": [
       "LogisticRegression(C=1.0, class_weight=None, dual=False, fit_intercept=True,\n",
       "                   intercept_scaling=1, l1_ratio=None, max_iter=1000,\n",
       "                   multi_class='auto', n_jobs=None, penalty='l2',\n",
       "                   random_state=0, solver='lbfgs', tol=0.0001, verbose=0,\n",
       "                   warm_start=False)"
      ]
     },
     "execution_count": 52,
     "metadata": {},
     "output_type": "execute_result"
    }
   ],
   "source": [
    "compare_models(exclude=['catboost','lightgbm','lda','qda','mlp','nb','ridge'],fold=5)"
   ]
  },
  {
   "cell_type": "code",
   "execution_count": 53,
   "metadata": {},
   "outputs": [
    {
     "data": {
      "text/html": [
       "<style  type=\"text/css\" >\n",
       "#T_f3aa8712_45d1_11eb_9de1_3c528213d836row5_col0,#T_f3aa8712_45d1_11eb_9de1_3c528213d836row5_col1,#T_f3aa8712_45d1_11eb_9de1_3c528213d836row5_col2,#T_f3aa8712_45d1_11eb_9de1_3c528213d836row5_col3,#T_f3aa8712_45d1_11eb_9de1_3c528213d836row5_col4,#T_f3aa8712_45d1_11eb_9de1_3c528213d836row5_col5,#T_f3aa8712_45d1_11eb_9de1_3c528213d836row5_col6{\n",
       "            background:  yellow;\n",
       "        }</style><table id=\"T_f3aa8712_45d1_11eb_9de1_3c528213d836\" ><thead>    <tr>        <th class=\"blank level0\" ></th>        <th class=\"col_heading level0 col0\" >Accuracy</th>        <th class=\"col_heading level0 col1\" >AUC</th>        <th class=\"col_heading level0 col2\" >Recall</th>        <th class=\"col_heading level0 col3\" >Prec.</th>        <th class=\"col_heading level0 col4\" >F1</th>        <th class=\"col_heading level0 col5\" >Kappa</th>        <th class=\"col_heading level0 col6\" >MCC</th>    </tr></thead><tbody>\n",
       "                <tr>\n",
       "                        <th id=\"T_f3aa8712_45d1_11eb_9de1_3c528213d836level0_row0\" class=\"row_heading level0 row0\" >0</th>\n",
       "                        <td id=\"T_f3aa8712_45d1_11eb_9de1_3c528213d836row0_col0\" class=\"data row0 col0\" >1.0000</td>\n",
       "                        <td id=\"T_f3aa8712_45d1_11eb_9de1_3c528213d836row0_col1\" class=\"data row0 col1\" >1.0000</td>\n",
       "                        <td id=\"T_f3aa8712_45d1_11eb_9de1_3c528213d836row0_col2\" class=\"data row0 col2\" >1.0000</td>\n",
       "                        <td id=\"T_f3aa8712_45d1_11eb_9de1_3c528213d836row0_col3\" class=\"data row0 col3\" >1.0000</td>\n",
       "                        <td id=\"T_f3aa8712_45d1_11eb_9de1_3c528213d836row0_col4\" class=\"data row0 col4\" >1.0000</td>\n",
       "                        <td id=\"T_f3aa8712_45d1_11eb_9de1_3c528213d836row0_col5\" class=\"data row0 col5\" >1.0000</td>\n",
       "                        <td id=\"T_f3aa8712_45d1_11eb_9de1_3c528213d836row0_col6\" class=\"data row0 col6\" >1.0000</td>\n",
       "            </tr>\n",
       "            <tr>\n",
       "                        <th id=\"T_f3aa8712_45d1_11eb_9de1_3c528213d836level0_row1\" class=\"row_heading level0 row1\" >1</th>\n",
       "                        <td id=\"T_f3aa8712_45d1_11eb_9de1_3c528213d836row1_col0\" class=\"data row1 col0\" >1.0000</td>\n",
       "                        <td id=\"T_f3aa8712_45d1_11eb_9de1_3c528213d836row1_col1\" class=\"data row1 col1\" >1.0000</td>\n",
       "                        <td id=\"T_f3aa8712_45d1_11eb_9de1_3c528213d836row1_col2\" class=\"data row1 col2\" >1.0000</td>\n",
       "                        <td id=\"T_f3aa8712_45d1_11eb_9de1_3c528213d836row1_col3\" class=\"data row1 col3\" >1.0000</td>\n",
       "                        <td id=\"T_f3aa8712_45d1_11eb_9de1_3c528213d836row1_col4\" class=\"data row1 col4\" >1.0000</td>\n",
       "                        <td id=\"T_f3aa8712_45d1_11eb_9de1_3c528213d836row1_col5\" class=\"data row1 col5\" >1.0000</td>\n",
       "                        <td id=\"T_f3aa8712_45d1_11eb_9de1_3c528213d836row1_col6\" class=\"data row1 col6\" >1.0000</td>\n",
       "            </tr>\n",
       "            <tr>\n",
       "                        <th id=\"T_f3aa8712_45d1_11eb_9de1_3c528213d836level0_row2\" class=\"row_heading level0 row2\" >2</th>\n",
       "                        <td id=\"T_f3aa8712_45d1_11eb_9de1_3c528213d836row2_col0\" class=\"data row2 col0\" >1.0000</td>\n",
       "                        <td id=\"T_f3aa8712_45d1_11eb_9de1_3c528213d836row2_col1\" class=\"data row2 col1\" >1.0000</td>\n",
       "                        <td id=\"T_f3aa8712_45d1_11eb_9de1_3c528213d836row2_col2\" class=\"data row2 col2\" >1.0000</td>\n",
       "                        <td id=\"T_f3aa8712_45d1_11eb_9de1_3c528213d836row2_col3\" class=\"data row2 col3\" >1.0000</td>\n",
       "                        <td id=\"T_f3aa8712_45d1_11eb_9de1_3c528213d836row2_col4\" class=\"data row2 col4\" >1.0000</td>\n",
       "                        <td id=\"T_f3aa8712_45d1_11eb_9de1_3c528213d836row2_col5\" class=\"data row2 col5\" >1.0000</td>\n",
       "                        <td id=\"T_f3aa8712_45d1_11eb_9de1_3c528213d836row2_col6\" class=\"data row2 col6\" >1.0000</td>\n",
       "            </tr>\n",
       "            <tr>\n",
       "                        <th id=\"T_f3aa8712_45d1_11eb_9de1_3c528213d836level0_row3\" class=\"row_heading level0 row3\" >3</th>\n",
       "                        <td id=\"T_f3aa8712_45d1_11eb_9de1_3c528213d836row3_col0\" class=\"data row3 col0\" >1.0000</td>\n",
       "                        <td id=\"T_f3aa8712_45d1_11eb_9de1_3c528213d836row3_col1\" class=\"data row3 col1\" >1.0000</td>\n",
       "                        <td id=\"T_f3aa8712_45d1_11eb_9de1_3c528213d836row3_col2\" class=\"data row3 col2\" >1.0000</td>\n",
       "                        <td id=\"T_f3aa8712_45d1_11eb_9de1_3c528213d836row3_col3\" class=\"data row3 col3\" >1.0000</td>\n",
       "                        <td id=\"T_f3aa8712_45d1_11eb_9de1_3c528213d836row3_col4\" class=\"data row3 col4\" >1.0000</td>\n",
       "                        <td id=\"T_f3aa8712_45d1_11eb_9de1_3c528213d836row3_col5\" class=\"data row3 col5\" >1.0000</td>\n",
       "                        <td id=\"T_f3aa8712_45d1_11eb_9de1_3c528213d836row3_col6\" class=\"data row3 col6\" >1.0000</td>\n",
       "            </tr>\n",
       "            <tr>\n",
       "                        <th id=\"T_f3aa8712_45d1_11eb_9de1_3c528213d836level0_row4\" class=\"row_heading level0 row4\" >4</th>\n",
       "                        <td id=\"T_f3aa8712_45d1_11eb_9de1_3c528213d836row4_col0\" class=\"data row4 col0\" >1.0000</td>\n",
       "                        <td id=\"T_f3aa8712_45d1_11eb_9de1_3c528213d836row4_col1\" class=\"data row4 col1\" >1.0000</td>\n",
       "                        <td id=\"T_f3aa8712_45d1_11eb_9de1_3c528213d836row4_col2\" class=\"data row4 col2\" >1.0000</td>\n",
       "                        <td id=\"T_f3aa8712_45d1_11eb_9de1_3c528213d836row4_col3\" class=\"data row4 col3\" >1.0000</td>\n",
       "                        <td id=\"T_f3aa8712_45d1_11eb_9de1_3c528213d836row4_col4\" class=\"data row4 col4\" >1.0000</td>\n",
       "                        <td id=\"T_f3aa8712_45d1_11eb_9de1_3c528213d836row4_col5\" class=\"data row4 col5\" >1.0000</td>\n",
       "                        <td id=\"T_f3aa8712_45d1_11eb_9de1_3c528213d836row4_col6\" class=\"data row4 col6\" >1.0000</td>\n",
       "            </tr>\n",
       "            <tr>\n",
       "                        <th id=\"T_f3aa8712_45d1_11eb_9de1_3c528213d836level0_row5\" class=\"row_heading level0 row5\" >Mean</th>\n",
       "                        <td id=\"T_f3aa8712_45d1_11eb_9de1_3c528213d836row5_col0\" class=\"data row5 col0\" >1.0000</td>\n",
       "                        <td id=\"T_f3aa8712_45d1_11eb_9de1_3c528213d836row5_col1\" class=\"data row5 col1\" >1.0000</td>\n",
       "                        <td id=\"T_f3aa8712_45d1_11eb_9de1_3c528213d836row5_col2\" class=\"data row5 col2\" >1.0000</td>\n",
       "                        <td id=\"T_f3aa8712_45d1_11eb_9de1_3c528213d836row5_col3\" class=\"data row5 col3\" >1.0000</td>\n",
       "                        <td id=\"T_f3aa8712_45d1_11eb_9de1_3c528213d836row5_col4\" class=\"data row5 col4\" >1.0000</td>\n",
       "                        <td id=\"T_f3aa8712_45d1_11eb_9de1_3c528213d836row5_col5\" class=\"data row5 col5\" >1.0000</td>\n",
       "                        <td id=\"T_f3aa8712_45d1_11eb_9de1_3c528213d836row5_col6\" class=\"data row5 col6\" >1.0000</td>\n",
       "            </tr>\n",
       "            <tr>\n",
       "                        <th id=\"T_f3aa8712_45d1_11eb_9de1_3c528213d836level0_row6\" class=\"row_heading level0 row6\" >SD</th>\n",
       "                        <td id=\"T_f3aa8712_45d1_11eb_9de1_3c528213d836row6_col0\" class=\"data row6 col0\" >0.0000</td>\n",
       "                        <td id=\"T_f3aa8712_45d1_11eb_9de1_3c528213d836row6_col1\" class=\"data row6 col1\" >0.0000</td>\n",
       "                        <td id=\"T_f3aa8712_45d1_11eb_9de1_3c528213d836row6_col2\" class=\"data row6 col2\" >0.0000</td>\n",
       "                        <td id=\"T_f3aa8712_45d1_11eb_9de1_3c528213d836row6_col3\" class=\"data row6 col3\" >0.0000</td>\n",
       "                        <td id=\"T_f3aa8712_45d1_11eb_9de1_3c528213d836row6_col4\" class=\"data row6 col4\" >0.0000</td>\n",
       "                        <td id=\"T_f3aa8712_45d1_11eb_9de1_3c528213d836row6_col5\" class=\"data row6 col5\" >0.0000</td>\n",
       "                        <td id=\"T_f3aa8712_45d1_11eb_9de1_3c528213d836row6_col6\" class=\"data row6 col6\" >0.0000</td>\n",
       "            </tr>\n",
       "    </tbody></table>"
      ],
      "text/plain": [
       "<pandas.io.formats.style.Styler at 0x1dcc0b615e0>"
      ]
     },
     "metadata": {},
     "output_type": "display_data"
    }
   ],
   "source": [
    "logistic = create_model('lr', fold=5)"
   ]
  },
  {
   "cell_type": "code",
   "execution_count": 54,
   "metadata": {},
   "outputs": [
    {
     "data": {
      "image/png": "[encoded data removed]",
      "text/plain": [
       "<Figure size 576x396 with 1 Axes>"
      ]
     },
     "metadata": {},
     "output_type": "display_data"
    }
   ],
   "source": [
    "plot_model(logistic)"
   ]
  },
  {
   "cell_type": "code",
   "execution_count": 55,
   "metadata": {},
   "outputs": [
    {
     "data": {
      "image/png": "[encoded data removed]",
      "text/plain": [
       "<Figure size 576x396 with 1 Axes>"
      ]
     },
     "metadata": {},
     "output_type": "display_data"
    }
   ],
   "source": [
    "plot_model(logistic, plot='pr')"
   ]
  },
  {
   "cell_type": "code",
   "execution_count": 56,
   "metadata": {},
   "outputs": [
    {
     "data": {
      "image/png": "[encoded data removed]",
      "text/plain": [
       "<Figure size 576x396 with 1 Axes>"
      ]
     },
     "metadata": {},
     "output_type": "display_data"
    }
   ],
   "source": [
    "plot_model(logistic, plot='confusion_matrix')"
   ]
  },
  {
   "cell_type": "code",
   "execution_count": 57,
   "metadata": {},
   "outputs": [
    {
     "data": {
      "image/png": "[encoded data removed]",
      "text/plain": [
       "<Figure size 576x396 with 2 Axes>"
      ]
     },
     "metadata": {},
     "output_type": "display_data"
    }
   ],
   "source": [
    "plot_model(logistic, plot='class_report')"
   ]
  },
  {
   "cell_type": "code",
   "execution_count": 58,
   "metadata": {},
   "outputs": [
    {
     "data": {
      "image/png": "[encoded data removed]",
      "text/plain": [
       "<Figure size 800x500 with 1 Axes>"
      ]
     },
     "metadata": {},
     "output_type": "display_data"
    }
   ],
   "source": [
    "plot_model(logistic, plot='feature_all')"
   ]
  },
  {
   "cell_type": "markdown",
   "metadata": {},
   "source": [
    "### Using Classification Models (Model 1)"
   ]
  },
  {
   "cell_type": "code",
   "execution_count": 59,
   "metadata": {},
   "outputs": [],
   "source": [
    "lr = LogisticRegression(random_state=0)"
   ]
  },
  {
   "cell_type": "code",
   "execution_count": 60,
   "metadata": {},
   "outputs": [
    {
     "data": {
      "text/plain": [
       "LogisticRegression(C=1.0, class_weight=None, dual=False, fit_intercept=True,\n",
       "                   intercept_scaling=1, l1_ratio=None, max_iter=100,\n",
       "                   multi_class='auto', n_jobs=None, penalty='l2',\n",
       "                   random_state=0, solver='lbfgs', tol=0.0001, verbose=0,\n",
       "                   warm_start=False)"
      ]
     },
     "execution_count": 60,
     "metadata": {},
     "output_type": "execute_result"
    }
   ],
   "source": [
    "lr.fit(X_train_scaled, y_train)"
   ]
  },
  {
   "cell_type": "code",
   "execution_count": 61,
   "metadata": {},
   "outputs": [],
   "source": [
    "lr_pred = lr.predict(X_test_scaled)"
   ]
  },
  {
   "cell_type": "code",
   "execution_count": 62,
   "metadata": {},
   "outputs": [
    {
     "data": {
      "text/plain": [
       "array([2, 1, 1, ..., 1, 1, 1])"
      ]
     },
     "execution_count": 62,
     "metadata": {},
     "output_type": "execute_result"
    }
   ],
   "source": [
    "lr_pred"
   ]
  },
  {
   "cell_type": "markdown",
   "metadata": {},
   "source": [
    "### Model Evaluation"
   ]
  },
  {
   "cell_type": "code",
   "execution_count": 63,
   "metadata": {},
   "outputs": [
    {
     "data": {
      "text/plain": [
       "array([[ 1331,     0,     0],\n",
       "       [    0, 11311,     0],\n",
       "       [    0,     0,   846]], dtype=int64)"
      ]
     },
     "execution_count": 63,
     "metadata": {},
     "output_type": "execute_result"
    }
   ],
   "source": [
    "cm = confusion_matrix(y_test,lr_pred)\n",
    "cm"
   ]
  },
  {
   "cell_type": "code",
   "execution_count": 64,
   "metadata": {},
   "outputs": [
    {
     "data": {
      "image/png": "[encoded data removed]",
      "text/plain": [
       "<Figure size 720x360 with 2 Axes>"
      ]
     },
     "metadata": {},
     "output_type": "display_data"
    }
   ],
   "source": [
    "fig , ax = plt.subplots(figsize=(10,5))\n",
    "sns.heatmap(cm, annot=True,fmt='d',linewidths=2, cmap='viridis')\n",
    "plt.ylabel('True label')\n",
    "plt.xlabel('Predicted label')\n",
    "plt.show()"
   ]
  },
  {
   "cell_type": "code",
   "execution_count": 65,
   "metadata": {},
   "outputs": [
    {
     "name": "stdout",
     "output_type": "stream",
     "text": [
      "              precision    recall  f1-score   support\n",
      "\n",
      "           0       1.00      1.00      1.00      1331\n",
      "           1       1.00      1.00      1.00     11311\n",
      "           2       1.00      1.00      1.00       846\n",
      "\n",
      "    accuracy                           1.00     13488\n",
      "   macro avg       1.00      1.00      1.00     13488\n",
      "weighted avg       1.00      1.00      1.00     13488\n",
      "\n"
     ]
    }
   ],
   "source": [
    "print(classification_report(y_test,lr_pred))"
   ]
  },
  {
   "cell_type": "code",
   "execution_count": 66,
   "metadata": {},
   "outputs": [
    {
     "data": {
      "text/plain": [
       "1.0"
      ]
     },
     "execution_count": 66,
     "metadata": {},
     "output_type": "execute_result"
    }
   ],
   "source": [
    "accuracy_score(y_test,lr_pred)"
   ]
  },
  {
   "cell_type": "markdown",
   "metadata": {},
   "source": [
    "### Using XGBoost (Scikit-Learn)"
   ]
  },
  {
   "cell_type": "markdown",
   "metadata": {},
   "source": [
    "### Using RandomSearchCV"
   ]
  },
  {
   "cell_type": "code",
   "execution_count": 67,
   "metadata": {},
   "outputs": [],
   "source": [
    "model = XGBClassifier(random_state=0, n_estimators=100, objective='softmax:multi')"
   ]
  },
  {
   "cell_type": "code",
   "execution_count": 68,
   "metadata": {},
   "outputs": [],
   "source": [
    "parameters = {'max_depth': np.arange(3,10,1),\n",
    "              'eta': np.arange(0.05,0.3,0.05),\n",
    "              'n_estimators':np.arange(100,1000,100),\n",
    "              'min_child_weight': np.arange(1,4,1),\n",
    "              'gamma':np.arange(0,10,2),\n",
    "              'subsample':np.arange(0.5,0.9,0.1),\n",
    "              'colsample_bytree':np.arange(0.5,0.9,0.1),\n",
    "              'reg_alpha':np.arange(0,1,0.1),\n",
    "              'reg_lambda':np.arange(0,1,0.1)\n",
    "             }"
   ]
  },
  {
   "cell_type": "code",
   "execution_count": 69,
   "metadata": {},
   "outputs": [],
   "source": [
    "randm = RandomizedSearchCV(estimator=model, param_distributions = parameters, cv = 5, n_iter = 10, \n",
    "                           n_jobs=-1, scoring='accuracy')"
   ]
  },
  {
   "cell_type": "code",
   "execution_count": 70,
   "metadata": {},
   "outputs": [
    {
     "name": "stdout",
     "output_type": "stream",
     "text": [
      "[18:36:05] WARNING: C:/Users/Administrator/workspace/xgboost-win64_release_1.3.0/src/learner.cc:1061: Starting in XGBoost 1.3.0, the default evaluation metric used with the objective 'multi:softprob' was changed from 'merror' to 'mlogloss'. Explicitly set eval_metric if you'd like to restore the old behavior.\n"
     ]
    },
    {
     "data": {
      "text/plain": [
       "RandomizedSearchCV(cv=5, error_score=nan,\n",
       "                   estimator=XGBClassifier(base_score=None, booster=None,\n",
       "                                           colsample_bylevel=None,\n",
       "                                           colsample_bynode=None,\n",
       "                                           colsample_bytree=None, gamma=None,\n",
       "                                           gpu_id=None, importance_type='gain',\n",
       "                                           interaction_constraints=None,\n",
       "                                           learning_rate=None,\n",
       "                                           max_delta_step=None, max_depth=None,\n",
       "                                           min_child_weight=None, missing=nan,\n",
       "                                           monotone_constraints=None,\n",
       "                                           n...\n",
       "                                        'min_child_weight': array([1, 2, 3]),\n",
       "                                        'n_estimators': array([100, 200, 300, 400, 500, 600, 700, 800, 900]),\n",
       "                                        'reg_alpha': array([0. , 0.1, 0.2, 0.3, 0.4, 0.5, 0.6, 0.7, 0.8, 0.9]),\n",
       "                                        'reg_lambda': array([0. , 0.1, 0.2, 0.3, 0.4, 0.5, 0.6, 0.7, 0.8, 0.9]),\n",
       "                                        'subsample': array([0.5, 0.6, 0.7, 0.8])},\n",
       "                   pre_dispatch='2*n_jobs', random_state=None, refit=True,\n",
       "                   return_train_score=False, scoring='accuracy', verbose=0)"
      ]
     },
     "execution_count": 70,
     "metadata": {},
     "output_type": "execute_result"
    }
   ],
   "source": [
    "randm.fit(X_train_scaled, y_train)"
   ]
  },
  {
   "cell_type": "code",
   "execution_count": 71,
   "metadata": {},
   "outputs": [
    {
     "data": {
      "text/plain": [
       "XGBClassifier(base_score=0.5, booster='gbtree', colsample_bylevel=1,\n",
       "              colsample_bynode=1, colsample_bytree=0.7, eta=0.1, gamma=8,\n",
       "              gpu_id=-1, importance_type='gain', interaction_constraints='',\n",
       "              learning_rate=0.100000001, max_delta_step=0, max_depth=6,\n",
       "              min_child_weight=3, missing=nan, monotone_constraints='()',\n",
       "              n_estimators=100, n_jobs=4, num_parallel_tree=1,\n",
       "              objective='multi:softprob', random_state=0, reg_alpha=0.0,\n",
       "              reg_lambda=0.30000000000000004, scale_pos_weight=None,\n",
       "              subsample=0.7999999999999999, tree_method='exact',\n",
       "              use_label_encoder=True, validate_parameters=1, verbosity=None)"
      ]
     },
     "execution_count": 71,
     "metadata": {},
     "output_type": "execute_result"
    }
   ],
   "source": [
    "randm.best_estimator_"
   ]
  },
  {
   "cell_type": "code",
   "execution_count": 72,
   "metadata": {},
   "outputs": [
    {
     "data": {
      "text/plain": [
       "1.0"
      ]
     },
     "execution_count": 72,
     "metadata": {},
     "output_type": "execute_result"
    }
   ],
   "source": [
    "randm.best_score_"
   ]
  },
  {
   "cell_type": "code",
   "execution_count": 73,
   "metadata": {},
   "outputs": [
    {
     "data": {
      "text/plain": [
       "{'subsample': 0.7999999999999999,\n",
       " 'reg_lambda': 0.30000000000000004,\n",
       " 'reg_alpha': 0.0,\n",
       " 'n_estimators': 100,\n",
       " 'min_child_weight': 3,\n",
       " 'max_depth': 6,\n",
       " 'gamma': 8,\n",
       " 'eta': 0.1,\n",
       " 'colsample_bytree': 0.7}"
      ]
     },
     "execution_count": 73,
     "metadata": {},
     "output_type": "execute_result"
    }
   ],
   "source": [
    "randm.best_params_"
   ]
  },
  {
   "cell_type": "markdown",
   "metadata": {},
   "source": [
    "### Final Model (Model 2)"
   ]
  },
  {
   "cell_type": "code",
   "execution_count": 74,
   "metadata": {},
   "outputs": [],
   "source": [
    "xgbmodel = XGBClassifier(random_state=0, n_estimators=100, objective='softmax:multi', \n",
    "                         subsample=0.8,reg_lambda =0.3, reg_alpha = 0.0, min_child_weight = 3,\n",
    "                         max_depth = 6, gamma = 8, eta = 0.1, colsample_bytree = 0.7)"
   ]
  },
  {
   "cell_type": "code",
   "execution_count": 75,
   "metadata": {},
   "outputs": [
    {
     "name": "stdout",
     "output_type": "stream",
     "text": [
      "[0]\tvalidation_0-mlogloss:0.96692\n",
      "[1]\tvalidation_0-mlogloss:0.85754\n",
      "[2]\tvalidation_0-mlogloss:0.76518\n",
      "[3]\tvalidation_0-mlogloss:0.67478\n",
      "[4]\tvalidation_0-mlogloss:0.59729\n",
      "[5]\tvalidation_0-mlogloss:0.53932\n",
      "[6]\tvalidation_0-mlogloss:0.48857\n",
      "[7]\tvalidation_0-mlogloss:0.44392\n",
      "[8]\tvalidation_0-mlogloss:0.40212\n",
      "[9]\tvalidation_0-mlogloss:0.37274\n",
      "[10]\tvalidation_0-mlogloss:0.33342\n",
      "[11]\tvalidation_0-mlogloss:0.29865\n",
      "[12]\tvalidation_0-mlogloss:0.27235\n",
      "[13]\tvalidation_0-mlogloss:0.24439\n",
      "[14]\tvalidation_0-mlogloss:0.22382\n",
      "[15]\tvalidation_0-mlogloss:0.20116\n",
      "[16]\tvalidation_0-mlogloss:0.18785\n",
      "[17]\tvalidation_0-mlogloss:0.17263\n",
      "[18]\tvalidation_0-mlogloss:0.15822\n",
      "[19]\tvalidation_0-mlogloss:0.14247\n",
      "[20]\tvalidation_0-mlogloss:0.13378\n",
      "[21]\tvalidation_0-mlogloss:0.12055\n",
      "[22]\tvalidation_0-mlogloss:0.11107\n",
      "[23]\tvalidation_0-mlogloss:0.10015\n",
      "[24]\tvalidation_0-mlogloss:0.09034\n",
      "[25]\tvalidation_0-mlogloss:0.08348\n",
      "[26]\tvalidation_0-mlogloss:0.07864\n",
      "[27]\tvalidation_0-mlogloss:0.07098\n",
      "[28]\tvalidation_0-mlogloss:0.06408\n",
      "[29]\tvalidation_0-mlogloss:0.05909\n",
      "[30]\tvalidation_0-mlogloss:0.05336\n",
      "[31]\tvalidation_0-mlogloss:0.04934\n",
      "[32]\tvalidation_0-mlogloss:0.04574\n",
      "[33]\tvalidation_0-mlogloss:0.04133\n",
      "[34]\tvalidation_0-mlogloss:0.03735\n",
      "[35]\tvalidation_0-mlogloss:0.03468\n",
      "[36]\tvalidation_0-mlogloss:0.03224\n",
      "[37]\tvalidation_0-mlogloss:0.03144\n",
      "[38]\tvalidation_0-mlogloss:0.02982\n",
      "[39]\tvalidation_0-mlogloss:0.02695\n",
      "[40]\tvalidation_0-mlogloss:0.02437\n",
      "[41]\tvalidation_0-mlogloss:0.02203\n",
      "[42]\tvalidation_0-mlogloss:0.02039\n",
      "[43]\tvalidation_0-mlogloss:0.01844\n",
      "[44]\tvalidation_0-mlogloss:0.01667\n",
      "[45]\tvalidation_0-mlogloss:0.01508\n",
      "[46]\tvalidation_0-mlogloss:0.01364\n",
      "[47]\tvalidation_0-mlogloss:0.01264\n",
      "[48]\tvalidation_0-mlogloss:0.01172\n",
      "[49]\tvalidation_0-mlogloss:0.01060\n",
      "[50]\tvalidation_0-mlogloss:0.00984\n",
      "[51]\tvalidation_0-mlogloss:0.00919\n",
      "[52]\tvalidation_0-mlogloss:0.00854\n",
      "[53]\tvalidation_0-mlogloss:0.00795\n",
      "[54]\tvalidation_0-mlogloss:0.00739\n",
      "[55]\tvalidation_0-mlogloss:0.00692\n",
      "[56]\tvalidation_0-mlogloss:0.00641\n",
      "[57]\tvalidation_0-mlogloss:0.00597\n",
      "[58]\tvalidation_0-mlogloss:0.00556\n",
      "[59]\tvalidation_0-mlogloss:0.00534\n",
      "[60]\tvalidation_0-mlogloss:0.00500\n",
      "[61]\tvalidation_0-mlogloss:0.00469\n",
      "[62]\tvalidation_0-mlogloss:0.00435\n",
      "[63]\tvalidation_0-mlogloss:0.00394\n",
      "[64]\tvalidation_0-mlogloss:0.00365\n",
      "[65]\tvalidation_0-mlogloss:0.00341\n",
      "[66]\tvalidation_0-mlogloss:0.00318\n",
      "[67]\tvalidation_0-mlogloss:0.00296\n",
      "[68]\tvalidation_0-mlogloss:0.00284\n",
      "[69]\tvalidation_0-mlogloss:0.00275\n",
      "[70]\tvalidation_0-mlogloss:0.00258\n",
      "[71]\tvalidation_0-mlogloss:0.00234\n",
      "[72]\tvalidation_0-mlogloss:0.00220\n",
      "[73]\tvalidation_0-mlogloss:0.00205\n",
      "[74]\tvalidation_0-mlogloss:0.00193\n",
      "[75]\tvalidation_0-mlogloss:0.00181\n",
      "[76]\tvalidation_0-mlogloss:0.00164\n",
      "[77]\tvalidation_0-mlogloss:0.00158\n",
      "[78]\tvalidation_0-mlogloss:0.00147\n",
      "[79]\tvalidation_0-mlogloss:0.00138\n",
      "[80]\tvalidation_0-mlogloss:0.00129\n",
      "[81]\tvalidation_0-mlogloss:0.00121\n",
      "[82]\tvalidation_0-mlogloss:0.00114\n",
      "[83]\tvalidation_0-mlogloss:0.00111\n",
      "[84]\tvalidation_0-mlogloss:0.00102\n",
      "[85]\tvalidation_0-mlogloss:0.00098\n",
      "[86]\tvalidation_0-mlogloss:0.00092\n",
      "[87]\tvalidation_0-mlogloss:0.00090\n",
      "[88]\tvalidation_0-mlogloss:0.00084\n",
      "[89]\tvalidation_0-mlogloss:0.00082\n",
      "[90]\tvalidation_0-mlogloss:0.00079\n",
      "[91]\tvalidation_0-mlogloss:0.00076\n",
      "[92]\tvalidation_0-mlogloss:0.00073\n",
      "[93]\tvalidation_0-mlogloss:0.00071\n",
      "[94]\tvalidation_0-mlogloss:0.00068\n",
      "[95]\tvalidation_0-mlogloss:0.00068\n",
      "[96]\tvalidation_0-mlogloss:0.00068\n",
      "[97]\tvalidation_0-mlogloss:0.00065\n",
      "[98]\tvalidation_0-mlogloss:0.00063\n",
      "[99]\tvalidation_0-mlogloss:0.00061\n"
     ]
    },
    {
     "data": {
      "text/plain": [
       "XGBClassifier(base_score=0.5, booster='gbtree', colsample_bylevel=1,\n",
       "              colsample_bynode=1, colsample_bytree=0.7, eta=0.1, gamma=8,\n",
       "              gpu_id=-1, importance_type='gain', interaction_constraints='',\n",
       "              learning_rate=0.100000001, max_delta_step=0, max_depth=6,\n",
       "              min_child_weight=3, missing=nan, monotone_constraints='()',\n",
       "              n_estimators=100, n_jobs=4, num_parallel_tree=1,\n",
       "              objective='multi:softprob', random_state=0, reg_alpha=0.0,\n",
       "              reg_lambda=0.3, scale_pos_weight=None, subsample=0.8,\n",
       "              tree_method='exact', use_label_encoder=True,\n",
       "              validate_parameters=1, verbosity=None)"
      ]
     },
     "execution_count": 75,
     "metadata": {},
     "output_type": "execute_result"
    }
   ],
   "source": [
    "xgbmodel.fit(X_train_scaled,y_train,eval_set=[(X_test_scaled,y_test)],eval_metric='mlogloss',early_stopping_rounds=10)"
   ]
  },
  {
   "cell_type": "code",
   "execution_count": 76,
   "metadata": {},
   "outputs": [],
   "source": [
    "y_pred = xgbmodel.predict(X_test_scaled)"
   ]
  },
  {
   "cell_type": "code",
   "execution_count": 77,
   "metadata": {},
   "outputs": [
    {
     "data": {
      "text/plain": [
       "array([2, 1, 1, ..., 1, 1, 1])"
      ]
     },
     "execution_count": 77,
     "metadata": {},
     "output_type": "execute_result"
    }
   ],
   "source": [
    "y_pred"
   ]
  },
  {
   "cell_type": "markdown",
   "metadata": {},
   "source": [
    "### Model Evaluation"
   ]
  },
  {
   "cell_type": "code",
   "execution_count": 78,
   "metadata": {},
   "outputs": [
    {
     "data": {
      "text/plain": [
       "array([[ 1331,     0,     0],\n",
       "       [    0, 11311,     0],\n",
       "       [    0,     0,   846]], dtype=int64)"
      ]
     },
     "execution_count": 78,
     "metadata": {},
     "output_type": "execute_result"
    }
   ],
   "source": [
    "cm = confusion_matrix(y_test,y_pred)\n",
    "cm"
   ]
  },
  {
   "cell_type": "code",
   "execution_count": 79,
   "metadata": {},
   "outputs": [
    {
     "data": {
      "image/png": "[encoded data removed]",
      "text/plain": [
       "<Figure size 720x360 with 2 Axes>"
      ]
     },
     "metadata": {},
     "output_type": "display_data"
    }
   ],
   "source": [
    "fig , ax = plt.subplots(figsize=(10,5))\n",
    "sns.heatmap(cm, annot=True,fmt='d',linewidths=2, cmap='viridis')\n",
    "plt.ylabel('True label')\n",
    "plt.xlabel('Predicted label')\n",
    "plt.show()"
   ]
  },
  {
   "cell_type": "code",
   "execution_count": 80,
   "metadata": {},
   "outputs": [
    {
     "name": "stdout",
     "output_type": "stream",
     "text": [
      "              precision    recall  f1-score   support\n",
      "\n",
      "           0       1.00      1.00      1.00      1331\n",
      "           1       1.00      1.00      1.00     11311\n",
      "           2       1.00      1.00      1.00       846\n",
      "\n",
      "    accuracy                           1.00     13488\n",
      "   macro avg       1.00      1.00      1.00     13488\n",
      "weighted avg       1.00      1.00      1.00     13488\n",
      "\n"
     ]
    }
   ],
   "source": [
    "print(classification_report(y_test,y_pred))"
   ]
  },
  {
   "cell_type": "markdown",
   "metadata": {},
   "source": [
    "### The permutation based importance"
   ]
  },
  {
   "cell_type": "code",
   "execution_count": 81,
   "metadata": {},
   "outputs": [],
   "source": [
    "perm_importance = permutation_importance(xgbmodel,X_test_scaled,y_test, random_state=0, scoring='accuracy')"
   ]
  },
  {
   "cell_type": "code",
   "execution_count": 82,
   "metadata": {},
   "outputs": [
    {
     "data": {
      "image/png": "[encoded data removed]",
      "text/plain": [
       "<Figure size 720x720 with 1 Axes>"
      ]
     },
     "metadata": {},
     "output_type": "display_data"
    }
   ],
   "source": [
    "sorted_idx = perm_importance.importances_mean.argsort()\n",
    "plt.figure(figsize=(10,10))\n",
    "plt.title(\"Permutation-based Importance\")\n",
    "plt.barh(X.columns[sorted_idx], perm_importance.importances_mean[sorted_idx])\n",
    "plt.xlabel(\"Permutation Importance\")\n",
    "plt.show()"
   ]
  },
  {
   "cell_type": "markdown",
   "metadata": {},
   "source": [
    "### Compute Importance from SHAP Values"
   ]
  },
  {
   "cell_type": "code",
   "execution_count": 83,
   "metadata": {},
   "outputs": [],
   "source": [
    "explainer = shap.TreeExplainer(xgbmodel)"
   ]
  },
  {
   "cell_type": "code",
   "execution_count": 84,
   "metadata": {},
   "outputs": [],
   "source": [
    "shap_values = explainer.shap_values(X_test_scaled)"
   ]
  },
  {
   "cell_type": "code",
   "execution_count": 85,
   "metadata": {},
   "outputs": [
    {
     "data": {
      "image/png": "[encoded data removed]",
      "text/plain": [
       "<Figure size 576x482.4 with 1 Axes>"
      ]
     },
     "metadata": {},
     "output_type": "display_data"
    }
   ],
   "source": [
    "shap.summary_plot(shap_values, X_test_scaled, plot_type=\"bar\")"
   ]
  },
  {
   "cell_type": "code",
   "execution_count": 86,
   "metadata": {},
   "outputs": [
    {
     "data": {
      "image/png": "[encoded data removed]",
      "text/plain": [
       "<Figure size 576x482.4 with 1 Axes>"
      ]
     },
     "metadata": {},
     "output_type": "display_data"
    }
   ],
   "source": [
    "shap.summary_plot(shap_values, X_test_scaled)"
   ]
  },
  {
   "cell_type": "markdown",
   "metadata": {},
   "source": [
    "### XGBoost Importance"
   ]
  },
  {
   "cell_type": "code",
   "execution_count": 87,
   "metadata": {},
   "outputs": [
    {
     "data": {
      "text/plain": [
       "Index(['passenger_count', 'trip_distance', 'fare_amount', 'extra', 'tip_amount', 'total_amount', 'duration', 'pickupday', 'isholiday', 'LaGuardia Airport', 'Lower Manhattan', 'Midtown', 'Upper East Side'], dtype='object')"
      ]
     },
     "execution_count": 87,
     "metadata": {},
     "output_type": "execute_result"
    }
   ],
   "source": [
    "X.columns"
   ]
  },
  {
   "cell_type": "code",
   "execution_count": 88,
   "metadata": {},
   "outputs": [],
   "source": [
    "xgbmodel.get_booster().feature_names = ['passenger_count', 'trip_distance', 'fare_amount', 'extra', 'tip_amount', 'total_amount', 'duration', 'pickupday', 'isholiday', 'LaGuardia Airport', 'Lower Manhattan', 'Midtown', 'Upper East Side']"
   ]
  },
  {
   "cell_type": "code",
   "execution_count": 91,
   "metadata": {},
   "outputs": [
    {
     "data": {
      "image/png": "[encoded data removed]",
      "text/plain": [
       "<Figure size 1440x720 with 1 Axes>"
      ]
     },
     "metadata": {},
     "output_type": "display_data"
    }
   ],
   "source": [
    "fig, ax = plt.subplots(figsize=(20,10))\n",
    "xgb.plot_importance(xgbmodel.get_booster(),ax=ax, importance_type='gain')\n",
    "plt.show()"
   ]
  },
  {
   "cell_type": "markdown",
   "metadata": {},
   "source": [
    "### Cross-Validation"
   ]
  },
  {
   "cell_type": "code",
   "execution_count": 92,
   "metadata": {},
   "outputs": [
    {
     "name": "stderr",
     "output_type": "stream",
     "text": [
      "[Parallel(n_jobs=1)]: Using backend SequentialBackend with 1 concurrent workers.\n"
     ]
    },
    {
     "name": "stdout",
     "output_type": "stream",
     "text": [
      "[18:56:02] WARNING: C:/Users/Administrator/workspace/xgboost-win64_release_1.3.0/src/learner.cc:1061: Starting in XGBoost 1.3.0, the default evaluation metric used with the objective 'multi:softprob' was changed from 'merror' to 'mlogloss'. Explicitly set eval_metric if you'd like to restore the old behavior.\n",
      "[18:56:07] WARNING: C:/Users/Administrator/workspace/xgboost-win64_release_1.3.0/src/learner.cc:1061: Starting in XGBoost 1.3.0, the default evaluation metric used with the objective 'multi:softprob' was changed from 'merror' to 'mlogloss'. Explicitly set eval_metric if you'd like to restore the old behavior.\n",
      "[18:56:12] WARNING: C:/Users/Administrator/workspace/xgboost-win64_release_1.3.0/src/learner.cc:1061: Starting in XGBoost 1.3.0, the default evaluation metric used with the objective 'multi:softprob' was changed from 'merror' to 'mlogloss'. Explicitly set eval_metric if you'd like to restore the old behavior.\n",
      "[18:56:18] WARNING: C:/Users/Administrator/workspace/xgboost-win64_release_1.3.0/src/learner.cc:1061: Starting in XGBoost 1.3.0, the default evaluation metric used with the objective 'multi:softprob' was changed from 'merror' to 'mlogloss'. Explicitly set eval_metric if you'd like to restore the old behavior.\n",
      "[18:56:23] WARNING: C:/Users/Administrator/workspace/xgboost-win64_release_1.3.0/src/learner.cc:1061: Starting in XGBoost 1.3.0, the default evaluation metric used with the objective 'multi:softprob' was changed from 'merror' to 'mlogloss'. Explicitly set eval_metric if you'd like to restore the old behavior.\n"
     ]
    },
    {
     "name": "stderr",
     "output_type": "stream",
     "text": [
      "[Parallel(n_jobs=1)]: Done   5 out of   5 | elapsed:   26.8s finished\n"
     ]
    }
   ],
   "source": [
    "cv = cross_val_score(xgbmodel,X,y,cv=5,verbose=1,scoring='accuracy')"
   ]
  },
  {
   "cell_type": "code",
   "execution_count": 93,
   "metadata": {},
   "outputs": [
    {
     "data": {
      "text/plain": [
       "1.0"
      ]
     },
     "execution_count": 93,
     "metadata": {},
     "output_type": "execute_result"
    }
   ],
   "source": [
    "cv.mean()"
   ]
  },
  {
   "cell_type": "markdown",
   "metadata": {},
   "source": [
    "### Save the Model"
   ]
  },
  {
   "cell_type": "code",
   "execution_count": 94,
   "metadata": {},
   "outputs": [],
   "source": [
    "filename = 'taximodel.sav'\n",
    "dump(lr,open(filename,'wb'))"
   ]
  },
  {
   "cell_type": "markdown",
   "metadata": {},
   "source": [
    "### Load the Model"
   ]
  },
  {
   "cell_type": "code",
   "execution_count": 95,
   "metadata": {},
   "outputs": [],
   "source": [
    "loaded_model = load(open(filename,'rb'))"
   ]
  },
  {
   "cell_type": "code",
   "execution_count": 96,
   "metadata": {},
   "outputs": [
    {
     "data": {
      "text/plain": [
       "LogisticRegression(C=1.0, class_weight=None, dual=False, fit_intercept=True,\n",
       "                   intercept_scaling=1, l1_ratio=None, max_iter=100,\n",
       "                   multi_class='auto', n_jobs=None, penalty='l2',\n",
       "                   random_state=0, solver='lbfgs', tol=0.0001, verbose=0,\n",
       "                   warm_start=False)"
      ]
     },
     "execution_count": 96,
     "metadata": {},
     "output_type": "execute_result"
    }
   ],
   "source": [
    "loaded_model"
   ]
  },
  {
   "cell_type": "code",
   "execution_count": null,
   "metadata": {},
   "outputs": [],
   "source": []
  }
 ],
 "metadata": {
  "kernelspec": {
   "display_name": "Python 3",
   "language": "python",
   "name": "python3"
  },
  "language_info": {
   "codemirror_mode": {
    "name": "ipython",
    "version": 3
   },
   "file_extension": ".py",
   "mimetype": "text/x-python",
   "name": "python",
   "nbconvert_exporter": "python",
   "pygments_lexer": "ipython3",
   "version": "3.8.5"
  }
 },
 "nbformat": 4,
 "nbformat_minor": 4
}
